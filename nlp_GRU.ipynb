{
  "nbformat": 4,
  "nbformat_minor": 0,
  "metadata": {
    "colab": {
      "name": "nlp_GRU.ipynb",
      "provenance": [],
      "include_colab_link": true
    },
    "kernelspec": {
      "name": "python3",
      "display_name": "Python 3"
    },
    "language_info": {
      "name": "python"
    }
  },
  "cells": [
    {
      "cell_type": "markdown",
      "metadata": {
        "id": "view-in-github",
        "colab_type": "text"
      },
      "source": [
        "<a href=\"https://colab.research.google.com/github/yasinsoylu1997/NLP-PROJELER-TOPLU/blob/main/nlp_GRU.ipynb\" target=\"_parent\"><img src=\"https://colab.research.google.com/assets/colab-badge.svg\" alt=\"Open In Colab\"/></a>"
      ]
    },
    {
      "cell_type": "code",
      "metadata": {
        "id": "HN8A8X-0dBoZ"
      },
      "source": [
        ""
      ],
      "execution_count": null,
      "outputs": []
    },
    {
      "cell_type": "code",
      "metadata": {
        "id": "OeMVO--bImWy"
      },
      "source": [
        "import numpy as np\n",
        "import pandas as pd\n",
        "import matplotlib.pyplot as plt\n",
        "import tensorflow as tf\n",
        "from sklearn.metrics import confusion_matrix, classification_report, accuracy_score\n",
        "from nltk.corpus import stopwords\n",
        "from nltk.tokenize import word_tokenize\n",
        "from tensorflow.python.keras.models import Sequential\n",
        "from tensorflow.python.keras.layers import Dense, GRU, Embedding, CuDNNGRU\n",
        "from tensorflow.python.keras.preprocessing.text import Tokenizer\n",
        "from tensorflow.keras.optimizers import Adam\n",
        "import re\n",
        "from sklearn.model_selection import train_test_split \n",
        "from wordcloud import WordCloud, STOPWORDS, ImageColorGenerator\n",
        "import nltk\n",
        "\n",
        "from tensorflow.python.keras.preprocessing.sequence import pad_sequences"
      ],
      "execution_count": 1,
      "outputs": []
    },
    {
      "cell_type": "code",
      "metadata": {
        "id": "wcw_gfCkhAqh"
      },
      "source": [
        "dataset = pd.read_csv('sample.csv')"
      ],
      "execution_count": 2,
      "outputs": []
    },
    {
      "cell_type": "code",
      "metadata": {
        "colab": {
          "base_uri": "https://localhost:8080/",
          "height": 423
        },
        "id": "msyl4KVeLRhl",
        "outputId": "f1478cee-79a6-46eb-81c5-3c8d27fa335f"
      },
      "source": [
        "dataset"
      ],
      "execution_count": 3,
      "outputs": [
        {
          "output_type": "execute_result",
          "data": {
            "text/html": [
              "<div>\n",
              "<style scoped>\n",
              "    .dataframe tbody tr th:only-of-type {\n",
              "        vertical-align: middle;\n",
              "    }\n",
              "\n",
              "    .dataframe tbody tr th {\n",
              "        vertical-align: top;\n",
              "    }\n",
              "\n",
              "    .dataframe thead th {\n",
              "        text-align: right;\n",
              "    }\n",
              "</style>\n",
              "<table border=\"1\" class=\"dataframe\">\n",
              "  <thead>\n",
              "    <tr style=\"text-align: right;\">\n",
              "      <th></th>\n",
              "      <th>yildizSayisi</th>\n",
              "      <th>yorum</th>\n",
              "      <th>yorumLike</th>\n",
              "    </tr>\n",
              "  </thead>\n",
              "  <tbody>\n",
              "    <tr>\n",
              "      <th>0</th>\n",
              "      <td>1</td>\n",
              "      <td>İlk ürünüm sorunsuz geldi lakin bunda prize ta...</td>\n",
              "      <td>0</td>\n",
              "    </tr>\n",
              "    <tr>\n",
              "      <th>1</th>\n",
              "      <td>1</td>\n",
              "      <td>Ürünü teslim aldığım günün ertesi iade için ka...</td>\n",
              "      <td>7</td>\n",
              "    </tr>\n",
              "    <tr>\n",
              "      <th>2</th>\n",
              "      <td>1</td>\n",
              "      <td>kesinlikle beğenmedim kullanmaya başladıktan 1...</td>\n",
              "      <td>2</td>\n",
              "    </tr>\n",
              "    <tr>\n",
              "      <th>3</th>\n",
              "      <td>1</td>\n",
              "      <td>Merhaba ürün elime ulaştı ama ürün bir çalışıy...</td>\n",
              "      <td>1</td>\n",
              "    </tr>\n",
              "    <tr>\n",
              "      <th>4</th>\n",
              "      <td>1</td>\n",
              "      <td>kargo hızlı o konuda haksızlık yapamam ama ürü...</td>\n",
              "      <td>2</td>\n",
              "    </tr>\n",
              "    <tr>\n",
              "      <th>...</th>\n",
              "      <td>...</td>\n",
              "      <td>...</td>\n",
              "      <td>...</td>\n",
              "    </tr>\n",
              "    <tr>\n",
              "      <th>49995</th>\n",
              "      <td>5</td>\n",
              "      <td>Çok güzel çok beğendim tafsiye ederim</td>\n",
              "      <td>0</td>\n",
              "    </tr>\n",
              "    <tr>\n",
              "      <th>49996</th>\n",
              "      <td>5</td>\n",
              "      <td>Vallahi çok işime yaradı. Aylarda öyle boşuna ...</td>\n",
              "      <td>0</td>\n",
              "    </tr>\n",
              "    <tr>\n",
              "      <th>49997</th>\n",
              "      <td>5</td>\n",
              "      <td>olması gerektigi gibi , kenarda hazırda beklem...</td>\n",
              "      <td>0</td>\n",
              "    </tr>\n",
              "    <tr>\n",
              "      <th>49998</th>\n",
              "      <td>5</td>\n",
              "      <td>arçelik bulaşık makinesi için aldım servis olm...</td>\n",
              "      <td>0</td>\n",
              "    </tr>\n",
              "    <tr>\n",
              "      <th>49999</th>\n",
              "      <td>5</td>\n",
              "      <td>Fazladan koymuslar cok teşekkür ederim makınan...</td>\n",
              "      <td>0</td>\n",
              "    </tr>\n",
              "  </tbody>\n",
              "</table>\n",
              "<p>50000 rows × 3 columns</p>\n",
              "</div>"
            ],
            "text/plain": [
              "       yildizSayisi  ... yorumLike\n",
              "0                 1  ...         0\n",
              "1                 1  ...         7\n",
              "2                 1  ...         2\n",
              "3                 1  ...         1\n",
              "4                 1  ...         2\n",
              "...             ...  ...       ...\n",
              "49995             5  ...         0\n",
              "49996             5  ...         0\n",
              "49997             5  ...         0\n",
              "49998             5  ...         0\n",
              "49999             5  ...         0\n",
              "\n",
              "[50000 rows x 3 columns]"
            ]
          },
          "metadata": {},
          "execution_count": 3
        }
      ]
    },
    {
      "cell_type": "code",
      "metadata": {
        "colab": {
          "base_uri": "https://localhost:8080/",
          "height": 423
        },
        "id": "Da7yJj2CGZ_9",
        "outputId": "031091d7-2645-4c06-dbb8-8aa51e23fe6c"
      },
      "source": [
        "dataset.dropna()"
      ],
      "execution_count": 4,
      "outputs": [
        {
          "output_type": "execute_result",
          "data": {
            "text/html": [
              "<div>\n",
              "<style scoped>\n",
              "    .dataframe tbody tr th:only-of-type {\n",
              "        vertical-align: middle;\n",
              "    }\n",
              "\n",
              "    .dataframe tbody tr th {\n",
              "        vertical-align: top;\n",
              "    }\n",
              "\n",
              "    .dataframe thead th {\n",
              "        text-align: right;\n",
              "    }\n",
              "</style>\n",
              "<table border=\"1\" class=\"dataframe\">\n",
              "  <thead>\n",
              "    <tr style=\"text-align: right;\">\n",
              "      <th></th>\n",
              "      <th>yildizSayisi</th>\n",
              "      <th>yorum</th>\n",
              "      <th>yorumLike</th>\n",
              "    </tr>\n",
              "  </thead>\n",
              "  <tbody>\n",
              "    <tr>\n",
              "      <th>0</th>\n",
              "      <td>1</td>\n",
              "      <td>İlk ürünüm sorunsuz geldi lakin bunda prize ta...</td>\n",
              "      <td>0</td>\n",
              "    </tr>\n",
              "    <tr>\n",
              "      <th>1</th>\n",
              "      <td>1</td>\n",
              "      <td>Ürünü teslim aldığım günün ertesi iade için ka...</td>\n",
              "      <td>7</td>\n",
              "    </tr>\n",
              "    <tr>\n",
              "      <th>2</th>\n",
              "      <td>1</td>\n",
              "      <td>kesinlikle beğenmedim kullanmaya başladıktan 1...</td>\n",
              "      <td>2</td>\n",
              "    </tr>\n",
              "    <tr>\n",
              "      <th>3</th>\n",
              "      <td>1</td>\n",
              "      <td>Merhaba ürün elime ulaştı ama ürün bir çalışıy...</td>\n",
              "      <td>1</td>\n",
              "    </tr>\n",
              "    <tr>\n",
              "      <th>4</th>\n",
              "      <td>1</td>\n",
              "      <td>kargo hızlı o konuda haksızlık yapamam ama ürü...</td>\n",
              "      <td>2</td>\n",
              "    </tr>\n",
              "    <tr>\n",
              "      <th>...</th>\n",
              "      <td>...</td>\n",
              "      <td>...</td>\n",
              "      <td>...</td>\n",
              "    </tr>\n",
              "    <tr>\n",
              "      <th>49995</th>\n",
              "      <td>5</td>\n",
              "      <td>Çok güzel çok beğendim tafsiye ederim</td>\n",
              "      <td>0</td>\n",
              "    </tr>\n",
              "    <tr>\n",
              "      <th>49996</th>\n",
              "      <td>5</td>\n",
              "      <td>Vallahi çok işime yaradı. Aylarda öyle boşuna ...</td>\n",
              "      <td>0</td>\n",
              "    </tr>\n",
              "    <tr>\n",
              "      <th>49997</th>\n",
              "      <td>5</td>\n",
              "      <td>olması gerektigi gibi , kenarda hazırda beklem...</td>\n",
              "      <td>0</td>\n",
              "    </tr>\n",
              "    <tr>\n",
              "      <th>49998</th>\n",
              "      <td>5</td>\n",
              "      <td>arçelik bulaşık makinesi için aldım servis olm...</td>\n",
              "      <td>0</td>\n",
              "    </tr>\n",
              "    <tr>\n",
              "      <th>49999</th>\n",
              "      <td>5</td>\n",
              "      <td>Fazladan koymuslar cok teşekkür ederim makınan...</td>\n",
              "      <td>0</td>\n",
              "    </tr>\n",
              "  </tbody>\n",
              "</table>\n",
              "<p>50000 rows × 3 columns</p>\n",
              "</div>"
            ],
            "text/plain": [
              "       yildizSayisi  ... yorumLike\n",
              "0                 1  ...         0\n",
              "1                 1  ...         7\n",
              "2                 1  ...         2\n",
              "3                 1  ...         1\n",
              "4                 1  ...         2\n",
              "...             ...  ...       ...\n",
              "49995             5  ...         0\n",
              "49996             5  ...         0\n",
              "49997             5  ...         0\n",
              "49998             5  ...         0\n",
              "49999             5  ...         0\n",
              "\n",
              "[50000 rows x 3 columns]"
            ]
          },
          "metadata": {},
          "execution_count": 4
        }
      ]
    },
    {
      "cell_type": "code",
      "metadata": {
        "id": "T7fdXnfBGaO8"
      },
      "source": [
        "dataset[\"yildizSayisi\"] = dataset.yildizSayisi.astype(float)\n"
      ],
      "execution_count": 5,
      "outputs": []
    },
    {
      "cell_type": "code",
      "metadata": {
        "id": "jGDS9K9LPNIs"
      },
      "source": [
        "def sentiments(df):\n",
        "  if df['yildizSayisi'] > 3.9:\n",
        "    return 'Positive'\n",
        "  elif df['yildizSayisi'] <= 3.0:\n",
        "    return 'Negative'\n",
        "dataset['sentiment'] = dataset.apply(sentiments, axis=1)"
      ],
      "execution_count": 6,
      "outputs": []
    },
    {
      "cell_type": "code",
      "metadata": {
        "colab": {
          "base_uri": "https://localhost:8080/"
        },
        "id": "2qvFtXUVOmo6",
        "outputId": "0de8c00a-f76d-4c11-9a0d-45c7e743a142"
      },
      "source": [
        "dataset.info()"
      ],
      "execution_count": 7,
      "outputs": [
        {
          "output_type": "stream",
          "name": "stdout",
          "text": [
            "<class 'pandas.core.frame.DataFrame'>\n",
            "RangeIndex: 50000 entries, 0 to 49999\n",
            "Data columns (total 4 columns):\n",
            " #   Column        Non-Null Count  Dtype  \n",
            "---  ------        --------------  -----  \n",
            " 0   yildizSayisi  50000 non-null  float64\n",
            " 1   yorum         50000 non-null  object \n",
            " 2   yorumLike     50000 non-null  int64  \n",
            " 3   sentiment     50000 non-null  object \n",
            "dtypes: float64(1), int64(1), object(2)\n",
            "memory usage: 1.5+ MB\n"
          ]
        }
      ]
    },
    {
      "cell_type": "code",
      "metadata": {
        "colab": {
          "base_uri": "https://localhost:8080/",
          "height": 423
        },
        "id": "A62IJZ08JxQe",
        "outputId": "6c899527-26d7-4491-d68d-273826870b68"
      },
      "source": [
        "dataset"
      ],
      "execution_count": 8,
      "outputs": [
        {
          "output_type": "execute_result",
          "data": {
            "text/html": [
              "<div>\n",
              "<style scoped>\n",
              "    .dataframe tbody tr th:only-of-type {\n",
              "        vertical-align: middle;\n",
              "    }\n",
              "\n",
              "    .dataframe tbody tr th {\n",
              "        vertical-align: top;\n",
              "    }\n",
              "\n",
              "    .dataframe thead th {\n",
              "        text-align: right;\n",
              "    }\n",
              "</style>\n",
              "<table border=\"1\" class=\"dataframe\">\n",
              "  <thead>\n",
              "    <tr style=\"text-align: right;\">\n",
              "      <th></th>\n",
              "      <th>yildizSayisi</th>\n",
              "      <th>yorum</th>\n",
              "      <th>yorumLike</th>\n",
              "      <th>sentiment</th>\n",
              "    </tr>\n",
              "  </thead>\n",
              "  <tbody>\n",
              "    <tr>\n",
              "      <th>0</th>\n",
              "      <td>1.0</td>\n",
              "      <td>İlk ürünüm sorunsuz geldi lakin bunda prize ta...</td>\n",
              "      <td>0</td>\n",
              "      <td>Negative</td>\n",
              "    </tr>\n",
              "    <tr>\n",
              "      <th>1</th>\n",
              "      <td>1.0</td>\n",
              "      <td>Ürünü teslim aldığım günün ertesi iade için ka...</td>\n",
              "      <td>7</td>\n",
              "      <td>Negative</td>\n",
              "    </tr>\n",
              "    <tr>\n",
              "      <th>2</th>\n",
              "      <td>1.0</td>\n",
              "      <td>kesinlikle beğenmedim kullanmaya başladıktan 1...</td>\n",
              "      <td>2</td>\n",
              "      <td>Negative</td>\n",
              "    </tr>\n",
              "    <tr>\n",
              "      <th>3</th>\n",
              "      <td>1.0</td>\n",
              "      <td>Merhaba ürün elime ulaştı ama ürün bir çalışıy...</td>\n",
              "      <td>1</td>\n",
              "      <td>Negative</td>\n",
              "    </tr>\n",
              "    <tr>\n",
              "      <th>4</th>\n",
              "      <td>1.0</td>\n",
              "      <td>kargo hızlı o konuda haksızlık yapamam ama ürü...</td>\n",
              "      <td>2</td>\n",
              "      <td>Negative</td>\n",
              "    </tr>\n",
              "    <tr>\n",
              "      <th>...</th>\n",
              "      <td>...</td>\n",
              "      <td>...</td>\n",
              "      <td>...</td>\n",
              "      <td>...</td>\n",
              "    </tr>\n",
              "    <tr>\n",
              "      <th>49995</th>\n",
              "      <td>5.0</td>\n",
              "      <td>Çok güzel çok beğendim tafsiye ederim</td>\n",
              "      <td>0</td>\n",
              "      <td>Positive</td>\n",
              "    </tr>\n",
              "    <tr>\n",
              "      <th>49996</th>\n",
              "      <td>5.0</td>\n",
              "      <td>Vallahi çok işime yaradı. Aylarda öyle boşuna ...</td>\n",
              "      <td>0</td>\n",
              "      <td>Positive</td>\n",
              "    </tr>\n",
              "    <tr>\n",
              "      <th>49997</th>\n",
              "      <td>5.0</td>\n",
              "      <td>olması gerektigi gibi , kenarda hazırda beklem...</td>\n",
              "      <td>0</td>\n",
              "      <td>Positive</td>\n",
              "    </tr>\n",
              "    <tr>\n",
              "      <th>49998</th>\n",
              "      <td>5.0</td>\n",
              "      <td>arçelik bulaşık makinesi için aldım servis olm...</td>\n",
              "      <td>0</td>\n",
              "      <td>Positive</td>\n",
              "    </tr>\n",
              "    <tr>\n",
              "      <th>49999</th>\n",
              "      <td>5.0</td>\n",
              "      <td>Fazladan koymuslar cok teşekkür ederim makınan...</td>\n",
              "      <td>0</td>\n",
              "      <td>Positive</td>\n",
              "    </tr>\n",
              "  </tbody>\n",
              "</table>\n",
              "<p>50000 rows × 4 columns</p>\n",
              "</div>"
            ],
            "text/plain": [
              "       yildizSayisi  ... sentiment\n",
              "0               1.0  ...  Negative\n",
              "1               1.0  ...  Negative\n",
              "2               1.0  ...  Negative\n",
              "3               1.0  ...  Negative\n",
              "4               1.0  ...  Negative\n",
              "...             ...  ...       ...\n",
              "49995           5.0  ...  Positive\n",
              "49996           5.0  ...  Positive\n",
              "49997           5.0  ...  Positive\n",
              "49998           5.0  ...  Positive\n",
              "49999           5.0  ...  Positive\n",
              "\n",
              "[50000 rows x 4 columns]"
            ]
          },
          "metadata": {},
          "execution_count": 8
        }
      ]
    },
    {
      "cell_type": "code",
      "metadata": {
        "id": "-bwXEYq2W0oX"
      },
      "source": [
        "dataset['yorum'] = dataset['yorum'].apply(lambda x: x.lower())"
      ],
      "execution_count": 9,
      "outputs": []
    },
    {
      "cell_type": "code",
      "metadata": {
        "colab": {
          "base_uri": "https://localhost:8080/"
        },
        "id": "5QBlQGv6W7Ki",
        "outputId": "6eeff2dd-495a-4601-ebb8-323ed40cc11b"
      },
      "source": [
        "print(dataset[ dataset['sentiment'] == 'Positive'].size)\n",
        "print(dataset[ dataset['sentiment'] == 'Negative'].size)"
      ],
      "execution_count": 10,
      "outputs": [
        {
          "output_type": "stream",
          "name": "stdout",
          "text": [
            "80000\n",
            "120000\n"
          ]
        }
      ]
    },
    {
      "cell_type": "code",
      "metadata": {
        "id": "86y_6mRKWTwu"
      },
      "source": [
        "data_pos = dataset[ dataset['sentiment'] == 'Positive']\n",
        "data_pos = dataset['yorum']\n",
        "data_neg = dataset[ dataset['sentiment'] == 'Negative']\n",
        "data_neg = dataset['yorum']"
      ],
      "execution_count": 11,
      "outputs": []
    },
    {
      "cell_type": "code",
      "metadata": {
        "id": "_SZGNlG4T-8W"
      },
      "source": [
        "def wordcloud_draw(dataset, color = 'black'):\n",
        "    words = ' '.join(dataset)\n",
        "    cleaned_word = \" \".join([word for word in words.split()\n",
        "                            if 'http' not in word\n",
        "                                and not word.startswith('@')\n",
        "                                and not word.startswith('#')\n",
        "                                and word != 'RT'\n",
        "                            ])\n",
        "    wordcloud = WordCloud(stopwords=STOPWORDS,\n",
        "                      background_color=color,\n",
        "                      width=2500,\n",
        "                      height=2000\n",
        "                     ).generate(cleaned_word)\n",
        "    plt.figure(1,figsize=(13, 13))\n",
        "    plt.imshow(wordcloud)\n",
        "    plt.axis('off')\n",
        "    plt.show()"
      ],
      "execution_count": 12,
      "outputs": []
    },
    {
      "cell_type": "code",
      "metadata": {
        "colab": {
          "base_uri": "https://localhost:8080/"
        },
        "id": "e7QnvEw0JQNz",
        "outputId": "c3a0d4b4-e7fc-40e0-ce2d-943af0193513"
      },
      "source": [
        "print(\"Positive words\")\n",
        "#wordcloud_draw(data_pos,'white')"
      ],
      "execution_count": 13,
      "outputs": [
        {
          "output_type": "stream",
          "name": "stdout",
          "text": [
            "Positive words\n"
          ]
        }
      ]
    },
    {
      "cell_type": "code",
      "metadata": {
        "colab": {
          "base_uri": "https://localhost:8080/"
        },
        "id": "EY6IZNegJStU",
        "outputId": "7108e2bf-fddf-4230-e40e-a9deb1b37283"
      },
      "source": [
        "print(\"Negative words\")\n",
        "#wordcloud_draw(data_neg)"
      ],
      "execution_count": 14,
      "outputs": [
        {
          "output_type": "stream",
          "name": "stdout",
          "text": [
            "Negative words\n"
          ]
        }
      ]
    },
    {
      "cell_type": "code",
      "metadata": {
        "colab": {
          "base_uri": "https://localhost:8080/",
          "height": 423
        },
        "id": "QOrCqxbjLHGi",
        "outputId": "af6caf6a-3d4d-46d4-c68d-b9313e7b6d8b"
      },
      "source": [
        "dataset"
      ],
      "execution_count": 15,
      "outputs": [
        {
          "output_type": "execute_result",
          "data": {
            "text/html": [
              "<div>\n",
              "<style scoped>\n",
              "    .dataframe tbody tr th:only-of-type {\n",
              "        vertical-align: middle;\n",
              "    }\n",
              "\n",
              "    .dataframe tbody tr th {\n",
              "        vertical-align: top;\n",
              "    }\n",
              "\n",
              "    .dataframe thead th {\n",
              "        text-align: right;\n",
              "    }\n",
              "</style>\n",
              "<table border=\"1\" class=\"dataframe\">\n",
              "  <thead>\n",
              "    <tr style=\"text-align: right;\">\n",
              "      <th></th>\n",
              "      <th>yildizSayisi</th>\n",
              "      <th>yorum</th>\n",
              "      <th>yorumLike</th>\n",
              "      <th>sentiment</th>\n",
              "    </tr>\n",
              "  </thead>\n",
              "  <tbody>\n",
              "    <tr>\n",
              "      <th>0</th>\n",
              "      <td>1.0</td>\n",
              "      <td>i̇lk ürünüm sorunsuz geldi lakin bunda prize t...</td>\n",
              "      <td>0</td>\n",
              "      <td>Negative</td>\n",
              "    </tr>\n",
              "    <tr>\n",
              "      <th>1</th>\n",
              "      <td>1.0</td>\n",
              "      <td>ürünü teslim aldığım günün ertesi iade için ka...</td>\n",
              "      <td>7</td>\n",
              "      <td>Negative</td>\n",
              "    </tr>\n",
              "    <tr>\n",
              "      <th>2</th>\n",
              "      <td>1.0</td>\n",
              "      <td>kesinlikle beğenmedim kullanmaya başladıktan 1...</td>\n",
              "      <td>2</td>\n",
              "      <td>Negative</td>\n",
              "    </tr>\n",
              "    <tr>\n",
              "      <th>3</th>\n",
              "      <td>1.0</td>\n",
              "      <td>merhaba ürün elime ulaştı ama ürün bir çalışıy...</td>\n",
              "      <td>1</td>\n",
              "      <td>Negative</td>\n",
              "    </tr>\n",
              "    <tr>\n",
              "      <th>4</th>\n",
              "      <td>1.0</td>\n",
              "      <td>kargo hızlı o konuda haksızlık yapamam ama ürü...</td>\n",
              "      <td>2</td>\n",
              "      <td>Negative</td>\n",
              "    </tr>\n",
              "    <tr>\n",
              "      <th>...</th>\n",
              "      <td>...</td>\n",
              "      <td>...</td>\n",
              "      <td>...</td>\n",
              "      <td>...</td>\n",
              "    </tr>\n",
              "    <tr>\n",
              "      <th>49995</th>\n",
              "      <td>5.0</td>\n",
              "      <td>çok güzel çok beğendim tafsiye ederim</td>\n",
              "      <td>0</td>\n",
              "      <td>Positive</td>\n",
              "    </tr>\n",
              "    <tr>\n",
              "      <th>49996</th>\n",
              "      <td>5.0</td>\n",
              "      <td>vallahi çok işime yaradı. aylarda öyle boşuna ...</td>\n",
              "      <td>0</td>\n",
              "      <td>Positive</td>\n",
              "    </tr>\n",
              "    <tr>\n",
              "      <th>49997</th>\n",
              "      <td>5.0</td>\n",
              "      <td>olması gerektigi gibi , kenarda hazırda beklem...</td>\n",
              "      <td>0</td>\n",
              "      <td>Positive</td>\n",
              "    </tr>\n",
              "    <tr>\n",
              "      <th>49998</th>\n",
              "      <td>5.0</td>\n",
              "      <td>arçelik bulaşık makinesi için aldım servis olm...</td>\n",
              "      <td>0</td>\n",
              "      <td>Positive</td>\n",
              "    </tr>\n",
              "    <tr>\n",
              "      <th>49999</th>\n",
              "      <td>5.0</td>\n",
              "      <td>fazladan koymuslar cok teşekkür ederim makınan...</td>\n",
              "      <td>0</td>\n",
              "      <td>Positive</td>\n",
              "    </tr>\n",
              "  </tbody>\n",
              "</table>\n",
              "<p>50000 rows × 4 columns</p>\n",
              "</div>"
            ],
            "text/plain": [
              "       yildizSayisi  ... sentiment\n",
              "0               1.0  ...  Negative\n",
              "1               1.0  ...  Negative\n",
              "2               1.0  ...  Negative\n",
              "3               1.0  ...  Negative\n",
              "4               1.0  ...  Negative\n",
              "...             ...  ...       ...\n",
              "49995           5.0  ...  Positive\n",
              "49996           5.0  ...  Positive\n",
              "49997           5.0  ...  Positive\n",
              "49998           5.0  ...  Positive\n",
              "49999           5.0  ...  Positive\n",
              "\n",
              "[50000 rows x 4 columns]"
            ]
          },
          "metadata": {},
          "execution_count": 15
        }
      ]
    },
    {
      "cell_type": "code",
      "metadata": {
        "id": "pFdL4qNuLIj4"
      },
      "source": [
        "data = dataset[['yorum','sentiment']]\n",
        "target = dataset['sentiment'].values"
      ],
      "execution_count": 16,
      "outputs": []
    },
    {
      "cell_type": "code",
      "metadata": {
        "colab": {
          "base_uri": "https://localhost:8080/",
          "height": 423
        },
        "id": "FN-oTVwbU0J3",
        "outputId": "e5ec886a-4283-4efb-b1bf-350654702ae5"
      },
      "source": [
        "data"
      ],
      "execution_count": 17,
      "outputs": [
        {
          "output_type": "execute_result",
          "data": {
            "text/html": [
              "<div>\n",
              "<style scoped>\n",
              "    .dataframe tbody tr th:only-of-type {\n",
              "        vertical-align: middle;\n",
              "    }\n",
              "\n",
              "    .dataframe tbody tr th {\n",
              "        vertical-align: top;\n",
              "    }\n",
              "\n",
              "    .dataframe thead th {\n",
              "        text-align: right;\n",
              "    }\n",
              "</style>\n",
              "<table border=\"1\" class=\"dataframe\">\n",
              "  <thead>\n",
              "    <tr style=\"text-align: right;\">\n",
              "      <th></th>\n",
              "      <th>yorum</th>\n",
              "      <th>sentiment</th>\n",
              "    </tr>\n",
              "  </thead>\n",
              "  <tbody>\n",
              "    <tr>\n",
              "      <th>0</th>\n",
              "      <td>i̇lk ürünüm sorunsuz geldi lakin bunda prize t...</td>\n",
              "      <td>Negative</td>\n",
              "    </tr>\n",
              "    <tr>\n",
              "      <th>1</th>\n",
              "      <td>ürünü teslim aldığım günün ertesi iade için ka...</td>\n",
              "      <td>Negative</td>\n",
              "    </tr>\n",
              "    <tr>\n",
              "      <th>2</th>\n",
              "      <td>kesinlikle beğenmedim kullanmaya başladıktan 1...</td>\n",
              "      <td>Negative</td>\n",
              "    </tr>\n",
              "    <tr>\n",
              "      <th>3</th>\n",
              "      <td>merhaba ürün elime ulaştı ama ürün bir çalışıy...</td>\n",
              "      <td>Negative</td>\n",
              "    </tr>\n",
              "    <tr>\n",
              "      <th>4</th>\n",
              "      <td>kargo hızlı o konuda haksızlık yapamam ama ürü...</td>\n",
              "      <td>Negative</td>\n",
              "    </tr>\n",
              "    <tr>\n",
              "      <th>...</th>\n",
              "      <td>...</td>\n",
              "      <td>...</td>\n",
              "    </tr>\n",
              "    <tr>\n",
              "      <th>49995</th>\n",
              "      <td>çok güzel çok beğendim tafsiye ederim</td>\n",
              "      <td>Positive</td>\n",
              "    </tr>\n",
              "    <tr>\n",
              "      <th>49996</th>\n",
              "      <td>vallahi çok işime yaradı. aylarda öyle boşuna ...</td>\n",
              "      <td>Positive</td>\n",
              "    </tr>\n",
              "    <tr>\n",
              "      <th>49997</th>\n",
              "      <td>olması gerektigi gibi , kenarda hazırda beklem...</td>\n",
              "      <td>Positive</td>\n",
              "    </tr>\n",
              "    <tr>\n",
              "      <th>49998</th>\n",
              "      <td>arçelik bulaşık makinesi için aldım servis olm...</td>\n",
              "      <td>Positive</td>\n",
              "    </tr>\n",
              "    <tr>\n",
              "      <th>49999</th>\n",
              "      <td>fazladan koymuslar cok teşekkür ederim makınan...</td>\n",
              "      <td>Positive</td>\n",
              "    </tr>\n",
              "  </tbody>\n",
              "</table>\n",
              "<p>50000 rows × 2 columns</p>\n",
              "</div>"
            ],
            "text/plain": [
              "                                                   yorum sentiment\n",
              "0      i̇lk ürünüm sorunsuz geldi lakin bunda prize t...  Negative\n",
              "1      ürünü teslim aldığım günün ertesi iade için ka...  Negative\n",
              "2      kesinlikle beğenmedim kullanmaya başladıktan 1...  Negative\n",
              "3      merhaba ürün elime ulaştı ama ürün bir çalışıy...  Negative\n",
              "4      kargo hızlı o konuda haksızlık yapamam ama ürü...  Negative\n",
              "...                                                  ...       ...\n",
              "49995              çok güzel çok beğendim tafsiye ederim  Positive\n",
              "49996  vallahi çok işime yaradı. aylarda öyle boşuna ...  Positive\n",
              "49997  olması gerektigi gibi , kenarda hazırda beklem...  Positive\n",
              "49998  arçelik bulaşık makinesi için aldım servis olm...  Positive\n",
              "49999  fazladan koymuslar cok teşekkür ederim makınan...  Positive\n",
              "\n",
              "[50000 rows x 2 columns]"
            ]
          },
          "metadata": {},
          "execution_count": 17
        }
      ]
    },
    {
      "cell_type": "code",
      "metadata": {
        "colab": {
          "base_uri": "https://localhost:8080/"
        },
        "id": "Mz3Or54KT_GZ",
        "outputId": "8c577a89-44f2-49a4-eae8-b0e3fc94edaf"
      },
      "source": [
        "data['yorum'] = data['yorum'].apply(lambda x: x.lower())\n",
        "data['yorum'] = data['yorum'].apply((lambda x: re.sub('[^a-zA-z0-9\\s]','',x)))\n",
        "\n",
        "print(data[ data['sentiment'] == 'Positive'].size)\n",
        "print(data[ data['sentiment'] == 'Negative'].size)\n",
        "\n",
        "for idx,row in data.iterrows():\n",
        "    row[0] = row[0].replace('rt',' ')\n",
        "    \n",
        "max_fatures = 2000\n",
        "tokenizer = Tokenizer(num_words=max_fatures, split=' ')\n",
        "tokenizer.fit_on_texts(data['yorum'].values)\n",
        "X = tokenizer.texts_to_sequences(data['yorum'].values)\n",
        "X = pad_sequences(X)"
      ],
      "execution_count": 18,
      "outputs": [
        {
          "output_type": "stream",
          "name": "stderr",
          "text": [
            "/usr/local/lib/python3.7/dist-packages/ipykernel_launcher.py:1: SettingWithCopyWarning: \n",
            "A value is trying to be set on a copy of a slice from a DataFrame.\n",
            "Try using .loc[row_indexer,col_indexer] = value instead\n",
            "\n",
            "See the caveats in the documentation: https://pandas.pydata.org/pandas-docs/stable/user_guide/indexing.html#returning-a-view-versus-a-copy\n",
            "  \"\"\"Entry point for launching an IPython kernel.\n",
            "/usr/local/lib/python3.7/dist-packages/ipykernel_launcher.py:2: SettingWithCopyWarning: \n",
            "A value is trying to be set on a copy of a slice from a DataFrame.\n",
            "Try using .loc[row_indexer,col_indexer] = value instead\n",
            "\n",
            "See the caveats in the documentation: https://pandas.pydata.org/pandas-docs/stable/user_guide/indexing.html#returning-a-view-versus-a-copy\n",
            "  \n"
          ]
        },
        {
          "output_type": "stream",
          "name": "stdout",
          "text": [
            "40000\n",
            "60000\n"
          ]
        }
      ]
    },
    {
      "cell_type": "code",
      "metadata": {
        "id": "s3dzXzAgMBfq"
      },
      "source": [
        "num_words = 10000\n",
        "tokenizer = Tokenizer(num_words=num_words)"
      ],
      "execution_count": 19,
      "outputs": []
    },
    {
      "cell_type": "code",
      "metadata": {
        "id": "ILcnxw0HM8iE"
      },
      "source": [
        "cutoff = int(len(data) * 0.80)\n",
        "x_train, x_test = data[:cutoff], data[cutoff:]\n",
        "y_train, y_test = target[:cutoff], target[cutoff:]"
      ],
      "execution_count": 20,
      "outputs": []
    },
    {
      "cell_type": "code",
      "metadata": {
        "id": "oZOAz-noM98B"
      },
      "source": [
        "num_words = 10000\n",
        "tokenizer = Tokenizer(num_words=num_words)"
      ],
      "execution_count": 21,
      "outputs": []
    },
    {
      "cell_type": "code",
      "metadata": {
        "id": "EZXr4vDnNB_o"
      },
      "source": [
        "tokenizer.fit_on_texts(data)\n",
        "x_train_tokens = tokenizer.texts_to_sequences(x_train)"
      ],
      "execution_count": 22,
      "outputs": []
    },
    {
      "cell_type": "code",
      "metadata": {
        "id": "EYCPpXM1IGz0"
      },
      "source": [
        "tokenizer.fit_on_texts(data)\n",
        "x_test_tokens = tokenizer.texts_to_sequences(x_test)"
      ],
      "execution_count": 23,
      "outputs": []
    },
    {
      "cell_type": "code",
      "metadata": {
        "id": "oSiXE2_qYEYo"
      },
      "source": [
        "num_tokens = [len(tokens) for tokens in x_train_tokens + x_test_tokens]\n",
        "num_tokens = np.array(num_tokens)"
      ],
      "execution_count": 24,
      "outputs": []
    },
    {
      "cell_type": "code",
      "metadata": {
        "colab": {
          "base_uri": "https://localhost:8080/"
        },
        "id": "IfGJxU03YEbW",
        "outputId": "ccd52ef2-33c3-4d49-8eb3-d3f7f39c0390"
      },
      "source": [
        "max_tokens = np.mean(num_tokens) + 2 * np.std(num_tokens)\n",
        "max_tokens = int(max_tokens)\n",
        "max_tokens"
      ],
      "execution_count": 25,
      "outputs": [
        {
          "output_type": "execute_result",
          "data": {
            "text/plain": [
              "1"
            ]
          },
          "metadata": {},
          "execution_count": 25
        }
      ]
    },
    {
      "cell_type": "code",
      "metadata": {
        "id": "6j6qqb-TYEdr"
      },
      "source": [
        "x_train_pad = pad_sequences(x_train_tokens, maxlen=max_tokens)\n",
        "\n",
        "x_test_pad = pad_sequences(x_test_tokens, maxlen=max_tokens)\n",
        "\n"
      ],
      "execution_count": 26,
      "outputs": []
    },
    {
      "cell_type": "code",
      "metadata": {
        "id": "qzzSUngOYR3X"
      },
      "source": [
        "x_train_tokens = tokenizer.texts_to_sequences(x_train)"
      ],
      "execution_count": 27,
      "outputs": []
    },
    {
      "cell_type": "code",
      "metadata": {
        "id": "re5LdylAYR6s"
      },
      "source": [
        "x_test_tokens = tokenizer.texts_to_sequences(x_test)"
      ],
      "execution_count": 28,
      "outputs": []
    },
    {
      "cell_type": "code",
      "metadata": {
        "id": "MSo8uT7lYEf6"
      },
      "source": [
        "idx = tokenizer.word_index\n",
        "inverse_map = dict(zip(idx.values(), idx.keys()))"
      ],
      "execution_count": 29,
      "outputs": []
    },
    {
      "cell_type": "code",
      "metadata": {
        "id": "FhnG_WevNCKY"
      },
      "source": [
        "def tokens_to_string(tokens):\n",
        "    words = [inverse_map[token] for token in tokens if token!=0]\n",
        "    text = ' '.join(words)\n",
        "    return text"
      ],
      "execution_count": 30,
      "outputs": []
    },
    {
      "cell_type": "code",
      "metadata": {
        "id": "51Qlx8W1MxBK"
      },
      "source": [
        "from tensorflow.keras.optimizers import SGD\n",
        "from keras.models import Sequential\n",
        "from keras.layers import Embedding, Conv1D, MaxPooling1D, Bidirectional, LSTM, Dense, Dropout , LSTM, SpatialDropout1D\n",
        "from keras.metrics import Precision, Recall\n",
        "from tensorflow.keras.optimizers import  RMSprop\n",
        "from keras import datasets\n",
        "from keras.callbacks import LearningRateScheduler\n",
        "from keras.callbacks import History\n",
        "from keras import losses\n"
      ],
      "execution_count": 31,
      "outputs": []
    },
    {
      "cell_type": "code",
      "metadata": {
        "id": "pbgIPw6hNa_J"
      },
      "source": [
        "max_len=177\n",
        "\n",
        "model = Sequential()\n",
        "embedding_size = 50\n",
        "\n",
        "model.add(Embedding(input_dim=num_words,\n",
        "                    output_dim=embedding_size,\n",
        "                    input_length=max_len,\n",
        "                    name='embedding_layer'))\n",
        "\n",
        "model.add(GRU(units=16, return_sequences=True))\n",
        "model.add(GRU(units=8, return_sequences=True))\n",
        "model.add(GRU(units=4))\n",
        "model.add(Dense(2, activation='sigmoid'))"
      ],
      "execution_count": 38,
      "outputs": []
    },
    {
      "cell_type": "code",
      "metadata": {
        "id": "OkqOYLaWqUlL",
        "colab": {
          "base_uri": "https://localhost:8080/",
          "height": 643
        },
        "outputId": "7e3a31d7-fb3e-4f81-f3b5-9142a61bd04d"
      },
      "source": [
        "import tensorflow as tf\n",
        "tf.keras.utils.plot_model(model, show_shapes=True)"
      ],
      "execution_count": 39,
      "outputs": [
        {
          "output_type": "execute_result",
          "data": {
            "image/png": "[encoded data removed]",
            "text/plain": [
              "<IPython.core.display.Image object>"
            ]
          },
          "metadata": {},
          "execution_count": 39
        }
      ]
    },
    {
      "cell_type": "code",
      "metadata": {
        "id": "Knzb4hSvpTyz"
      },
      "source": [
        "model.compile(loss='binary_crossentropy',\n",
        "              optimizer='adam',\n",
        "              metrics=['accuracy', Precision(), Recall()])"
      ],
      "execution_count": 40,
      "outputs": []
    },
    {
      "cell_type": "code",
      "metadata": {
        "id": "TxaWyDujh5qv",
        "colab": {
          "base_uri": "https://localhost:8080/"
        },
        "outputId": "97b17e5b-3c2e-441c-8abc-7e3baa31fd64"
      },
      "source": [
        "Y = pd.get_dummies(data['sentiment']).values\n",
        "X_train, X_test, Y_train, Y_test = train_test_split(X,Y, test_size = 0.3, random_state = 42)\n",
        "print(X_train.shape,Y_train.shape)\n",
        "print(X_test.shape,Y_test.shape)"
      ],
      "execution_count": 41,
      "outputs": [
        {
          "output_type": "stream",
          "name": "stdout",
          "text": [
            "(35000, 177) (35000, 2)\n",
            "(15000, 177) (15000, 2)\n"
          ]
        }
      ]
    },
    {
      "cell_type": "code",
      "metadata": {
        "id": "qpZGgzmwym32"
      },
      "source": [
        "callback = tf.keras.callbacks.EarlyStopping(monitor='accuracy', patience=2)"
      ],
      "execution_count": 42,
      "outputs": []
    },
    {
      "cell_type": "code",
      "metadata": {
        "id": "joumNzq-ym32",
        "colab": {
          "base_uri": "https://localhost:8080/"
        },
        "outputId": "a11d131d-6a33-49c7-dc05-9ce6d5e12b44"
      },
      "source": [
        "history=model.fit(X_train, Y_train, epochs=10, batch_size=512,validation_split=0.1,callbacks=[callback])"
      ],
      "execution_count": 43,
      "outputs": [
        {
          "output_type": "stream",
          "name": "stdout",
          "text": [
            "Epoch 1/10\n",
            "62/62 [==============================] - 48s 658ms/step - loss: 0.6574 - accuracy: 0.6358 - precision_1: 0.6294 - recall_1: 0.6365 - val_loss: 0.5819 - val_accuracy: 0.7734 - val_precision_1: 0.7534 - val_recall_1: 0.7986\n",
            "Epoch 2/10\n",
            "62/62 [==============================] - 40s 645ms/step - loss: 0.5328 - accuracy: 0.8044 - precision_1: 0.7897 - recall_1: 0.8277 - val_loss: 0.4987 - val_accuracy: 0.8100 - val_precision_1: 0.8023 - val_recall_1: 0.8266\n",
            "Epoch 3/10\n",
            "62/62 [==============================] - 40s 643ms/step - loss: 0.4699 - accuracy: 0.8327 - precision_1: 0.8241 - recall_1: 0.8454 - val_loss: 0.4660 - val_accuracy: 0.8257 - val_precision_1: 0.8173 - val_recall_1: 0.8360\n",
            "Epoch 4/10\n",
            "62/62 [==============================] - 40s 646ms/step - loss: 0.4349 - accuracy: 0.8468 - precision_1: 0.8407 - recall_1: 0.8546 - val_loss: 0.4434 - val_accuracy: 0.8320 - val_precision_1: 0.8270 - val_recall_1: 0.8371\n",
            "Epoch 5/10\n",
            "62/62 [==============================] - 40s 646ms/step - loss: 0.4106 - accuracy: 0.8544 - precision_1: 0.8506 - recall_1: 0.8596 - val_loss: 0.4334 - val_accuracy: 0.8283 - val_precision_1: 0.8231 - val_recall_1: 0.8323\n",
            "Epoch 6/10\n",
            "62/62 [==============================] - 40s 647ms/step - loss: 0.3934 - accuracy: 0.8597 - precision_1: 0.8572 - recall_1: 0.8629 - val_loss: 0.4234 - val_accuracy: 0.8306 - val_precision_1: 0.8294 - val_recall_1: 0.8331\n",
            "Epoch 7/10\n",
            "62/62 [==============================] - 40s 647ms/step - loss: 0.3808 - accuracy: 0.8637 - precision_1: 0.8621 - recall_1: 0.8654 - val_loss: 0.4166 - val_accuracy: 0.8377 - val_precision_1: 0.8368 - val_recall_1: 0.8397\n",
            "Epoch 8/10\n",
            "62/62 [==============================] - 40s 647ms/step - loss: 0.3701 - accuracy: 0.8666 - precision_1: 0.8665 - recall_1: 0.8678 - val_loss: 0.4122 - val_accuracy: 0.8380 - val_precision_1: 0.8380 - val_recall_1: 0.8380\n",
            "Epoch 9/10\n",
            "62/62 [==============================] - 40s 645ms/step - loss: 0.3611 - accuracy: 0.8712 - precision_1: 0.8712 - recall_1: 0.8710 - val_loss: 0.4097 - val_accuracy: 0.8380 - val_precision_1: 0.8367 - val_recall_1: 0.8389\n",
            "Epoch 10/10\n",
            "62/62 [==============================] - 40s 643ms/step - loss: 0.3552 - accuracy: 0.8727 - precision_1: 0.8724 - recall_1: 0.8729 - val_loss: 0.4115 - val_accuracy: 0.8366 - val_precision_1: 0.8379 - val_recall_1: 0.8371\n"
          ]
        }
      ]
    },
    {
      "cell_type": "code",
      "metadata": {
        "id": "3BPvyR95iRuR",
        "colab": {
          "base_uri": "https://localhost:8080/"
        },
        "outputId": "ab148fc6-ab07-422b-b462-d5f49142cf7c"
      },
      "source": [
        " score = model.evaluate(X_test, Y_test,batch_size=512)\n"
      ],
      "execution_count": 44,
      "outputs": [
        {
          "output_type": "stream",
          "name": "stdout",
          "text": [
            "30/30 [==============================] - 3s 111ms/step - loss: 0.4216 - accuracy: 0.8306 - precision_1: 0.8310 - recall_1: 0.8299\n"
          ]
        }
      ]
    },
    {
      "cell_type": "code",
      "metadata": {
        "colab": {
          "base_uri": "https://localhost:8080/"
        },
        "id": "9ddtpvaXOUx6",
        "outputId": "e64aaf11-89d6-460d-e39b-0d8e47be119a"
      },
      "source": [
        "print('Test loss:', score[0]) \n",
        "print('Test accuracy:', score[1])"
      ],
      "execution_count": 45,
      "outputs": [
        {
          "output_type": "stream",
          "name": "stdout",
          "text": [
            "Test loss: 0.42161494493484497\n",
            "Test accuracy: 0.8306000232696533\n"
          ]
        }
      ]
    },
    {
      "cell_type": "code",
      "source": [
        ""
      ],
      "metadata": {
        "id": "YvFPfzdH6PcI"
      },
      "execution_count": null,
      "outputs": []
    }
  ]
}