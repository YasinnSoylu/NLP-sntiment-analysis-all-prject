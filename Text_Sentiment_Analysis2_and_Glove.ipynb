{
  "nbformat": 4,
  "nbformat_minor": 0,
  "metadata": {
    "colab": {
      "name": "Text_Sentiment_Analysis2_and_Glove.ipynb",
      "provenance": [],
      "include_colab_link": true
    },
    "kernelspec": {
      "name": "python3",
      "display_name": "Python 3"
    },
    "language_info": {
      "name": "python"
    },
    "accelerator": "GPU"
  },
  "cells": [
    {
      "cell_type": "markdown",
      "metadata": {
        "id": "view-in-github",
        "colab_type": "text"
      },
      "source": [
        "<a href=\"https://colab.research.google.com/github/yasinsoylu1997/NLP-PROJELER-TOPLU/blob/main/Text_Sentiment_Analysis2_and_Glove.ipynb\" target=\"_parent\"><img src=\"https://colab.research.google.com/assets/colab-badge.svg\" alt=\"Open In Colab\"/></a>"
      ]
    },
    {
      "cell_type": "code",
      "metadata": {
        "id": "f3Du7t42EzDV"
      },
      "source": [
        "import os\n",
        "import re\n",
        "from tqdm import tqdm\n",
        "import numpy as np\n",
        "import pandas as pd\n",
        "import matplotlib.pyplot as plt\n",
        "\n",
        "%matplotlib inline"
      ],
      "execution_count": 10,
      "outputs": []
    },
    {
      "cell_type": "code",
      "metadata": {
        "id": "9rg9W-vlFaMG"
      },
      "source": [
        "dataset = pd.read_csv('sample.csv')\n",
        "data=dataset[[\"yildizSayisi\",\"yorum\"]]\n",
        "data = data.sample(frac=1).reset_index(drop=True)\n",
        "data=data[:5000]"
      ],
      "execution_count": 11,
      "outputs": []
    },
    {
      "cell_type": "code",
      "source": [
        "dataset"
      ],
      "metadata": {
        "colab": {
          "base_uri": "https://localhost:8080/",
          "height": 423
        },
        "id": "AEhcUtavSsci",
        "outputId": "ab60da3b-0eb2-4009-9205-1c355a48f048"
      },
      "execution_count": 12,
      "outputs": [
        {
          "output_type": "execute_result",
          "data": {
            "text/html": [
              "<div>\n",
              "<style scoped>\n",
              "    .dataframe tbody tr th:only-of-type {\n",
              "        vertical-align: middle;\n",
              "    }\n",
              "\n",
              "    .dataframe tbody tr th {\n",
              "        vertical-align: top;\n",
              "    }\n",
              "\n",
              "    .dataframe thead th {\n",
              "        text-align: right;\n",
              "    }\n",
              "</style>\n",
              "<table border=\"1\" class=\"dataframe\">\n",
              "  <thead>\n",
              "    <tr style=\"text-align: right;\">\n",
              "      <th></th>\n",
              "      <th>yildizSayisi</th>\n",
              "      <th>yorum</th>\n",
              "      <th>yorumLike</th>\n",
              "    </tr>\n",
              "  </thead>\n",
              "  <tbody>\n",
              "    <tr>\n",
              "      <th>0</th>\n",
              "      <td>1</td>\n",
              "      <td>İlk ürünüm sorunsuz geldi lakin bunda prize ta...</td>\n",
              "      <td>0</td>\n",
              "    </tr>\n",
              "    <tr>\n",
              "      <th>1</th>\n",
              "      <td>1</td>\n",
              "      <td>Ürünü teslim aldığım günün ertesi iade için ka...</td>\n",
              "      <td>7</td>\n",
              "    </tr>\n",
              "    <tr>\n",
              "      <th>2</th>\n",
              "      <td>1</td>\n",
              "      <td>kesinlikle beğenmedim kullanmaya başladıktan 1...</td>\n",
              "      <td>2</td>\n",
              "    </tr>\n",
              "    <tr>\n",
              "      <th>3</th>\n",
              "      <td>1</td>\n",
              "      <td>Merhaba ürün elime ulaştı ama ürün bir çalışıy...</td>\n",
              "      <td>1</td>\n",
              "    </tr>\n",
              "    <tr>\n",
              "      <th>4</th>\n",
              "      <td>1</td>\n",
              "      <td>kargo hızlı o konuda haksızlık yapamam ama ürü...</td>\n",
              "      <td>2</td>\n",
              "    </tr>\n",
              "    <tr>\n",
              "      <th>...</th>\n",
              "      <td>...</td>\n",
              "      <td>...</td>\n",
              "      <td>...</td>\n",
              "    </tr>\n",
              "    <tr>\n",
              "      <th>49995</th>\n",
              "      <td>5</td>\n",
              "      <td>Çok güzel çok beğendim tafsiye ederim</td>\n",
              "      <td>0</td>\n",
              "    </tr>\n",
              "    <tr>\n",
              "      <th>49996</th>\n",
              "      <td>5</td>\n",
              "      <td>Vallahi çok işime yaradı. Aylarda öyle boşuna ...</td>\n",
              "      <td>0</td>\n",
              "    </tr>\n",
              "    <tr>\n",
              "      <th>49997</th>\n",
              "      <td>5</td>\n",
              "      <td>olması gerektigi gibi , kenarda hazırda beklem...</td>\n",
              "      <td>0</td>\n",
              "    </tr>\n",
              "    <tr>\n",
              "      <th>49998</th>\n",
              "      <td>5</td>\n",
              "      <td>arçelik bulaşık makinesi için aldım servis olm...</td>\n",
              "      <td>0</td>\n",
              "    </tr>\n",
              "    <tr>\n",
              "      <th>49999</th>\n",
              "      <td>5</td>\n",
              "      <td>Fazladan koymuslar cok teşekkür ederim makınan...</td>\n",
              "      <td>0</td>\n",
              "    </tr>\n",
              "  </tbody>\n",
              "</table>\n",
              "<p>50000 rows × 3 columns</p>\n",
              "</div>"
            ],
            "text/plain": [
              "       yildizSayisi  ... yorumLike\n",
              "0                 1  ...         0\n",
              "1                 1  ...         7\n",
              "2                 1  ...         2\n",
              "3                 1  ...         1\n",
              "4                 1  ...         2\n",
              "...             ...  ...       ...\n",
              "49995             5  ...         0\n",
              "49996             5  ...         0\n",
              "49997             5  ...         0\n",
              "49998             5  ...         0\n",
              "49999             5  ...         0\n",
              "\n",
              "[50000 rows x 3 columns]"
            ]
          },
          "metadata": {},
          "execution_count": 12
        }
      ]
    },
    {
      "cell_type": "code",
      "metadata": {
        "id": "rew7UxOLLNrx"
      },
      "source": [
        "dataset = pd.read_csv('sample.csv')\n",
        "def sentiments(df):\n",
        "  if df['yildizSayisi'] > 3.9:\n",
        "    return 'Positive'\n",
        "  elif df['yildizSayisi'] <= 3.0:\n",
        "    return 'Negative'\n",
        "data['sentiment'] = data.apply(sentiments, axis=1)"
      ],
      "execution_count": 13,
      "outputs": []
    },
    {
      "cell_type": "code",
      "metadata": {
        "colab": {
          "base_uri": "https://localhost:8080/",
          "height": 423
        },
        "id": "1hPsYWBtLOfz",
        "outputId": "a9800e9f-0a8b-4ee4-efb0-bfc4ea3c7f7b"
      },
      "source": [
        "data"
      ],
      "execution_count": 14,
      "outputs": [
        {
          "output_type": "execute_result",
          "data": {
            "text/html": [
              "<div>\n",
              "<style scoped>\n",
              "    .dataframe tbody tr th:only-of-type {\n",
              "        vertical-align: middle;\n",
              "    }\n",
              "\n",
              "    .dataframe tbody tr th {\n",
              "        vertical-align: top;\n",
              "    }\n",
              "\n",
              "    .dataframe thead th {\n",
              "        text-align: right;\n",
              "    }\n",
              "</style>\n",
              "<table border=\"1\" class=\"dataframe\">\n",
              "  <thead>\n",
              "    <tr style=\"text-align: right;\">\n",
              "      <th></th>\n",
              "      <th>yildizSayisi</th>\n",
              "      <th>yorum</th>\n",
              "      <th>sentiment</th>\n",
              "    </tr>\n",
              "  </thead>\n",
              "  <tbody>\n",
              "    <tr>\n",
              "      <th>0</th>\n",
              "      <td>2</td>\n",
              "      <td>Hiç beğenmedim çünkü hemen pişiriyo ve telveni...</td>\n",
              "      <td>Negative</td>\n",
              "    </tr>\n",
              "    <tr>\n",
              "      <th>1</th>\n",
              "      <td>4</td>\n",
              "      <td>Gayet güzel ve kullanişlı ben beğendim</td>\n",
              "      <td>Positive</td>\n",
              "    </tr>\n",
              "    <tr>\n",
              "      <th>2</th>\n",
              "      <td>2</td>\n",
              "      <td>ürün ilk geldiğinde cok sağlam gibi duruyor ki...</td>\n",
              "      <td>Negative</td>\n",
              "    </tr>\n",
              "    <tr>\n",
              "      <th>3</th>\n",
              "      <td>1</td>\n",
              "      <td>su damlatıyor ve soğutucu funktion çalışmıyor</td>\n",
              "      <td>Negative</td>\n",
              "    </tr>\n",
              "    <tr>\n",
              "      <th>4</th>\n",
              "      <td>4</td>\n",
              "      <td>4 sipariş vermiştim en son kargoya çıkan ızgar...</td>\n",
              "      <td>Positive</td>\n",
              "    </tr>\n",
              "    <tr>\n",
              "      <th>...</th>\n",
              "      <td>...</td>\n",
              "      <td>...</td>\n",
              "      <td>...</td>\n",
              "    </tr>\n",
              "    <tr>\n",
              "      <th>4995</th>\n",
              "      <td>1</td>\n",
              "      <td>Sakın almayın ilk kullanmada elimde kaldı !!!!!!</td>\n",
              "      <td>Negative</td>\n",
              "    </tr>\n",
              "    <tr>\n",
              "      <th>4996</th>\n",
              "      <td>5</td>\n",
              "      <td>İki takım sipariş verdim. Biri çamaşır makine ...</td>\n",
              "      <td>Positive</td>\n",
              "    </tr>\n",
              "    <tr>\n",
              "      <th>4997</th>\n",
              "      <td>3</td>\n",
              "      <td>Paketleme o kadar Özensizdiki elime kırık geçt...</td>\n",
              "      <td>Negative</td>\n",
              "    </tr>\n",
              "    <tr>\n",
              "      <th>4998</th>\n",
              "      <td>5</td>\n",
              "      <td>Uygun fiyat yüksek kalite. Gercekten memnun ka...</td>\n",
              "      <td>Positive</td>\n",
              "    </tr>\n",
              "    <tr>\n",
              "      <th>4999</th>\n",
              "      <td>4</td>\n",
              "      <td>kutuyu actım petrol kokusu yayıldı yavas sarj ...</td>\n",
              "      <td>Positive</td>\n",
              "    </tr>\n",
              "  </tbody>\n",
              "</table>\n",
              "<p>5000 rows × 3 columns</p>\n",
              "</div>"
            ],
            "text/plain": [
              "      yildizSayisi                                              yorum sentiment\n",
              "0                2  Hiç beğenmedim çünkü hemen pişiriyo ve telveni...  Negative\n",
              "1                4             Gayet güzel ve kullanişlı ben beğendim  Positive\n",
              "2                2  ürün ilk geldiğinde cok sağlam gibi duruyor ki...  Negative\n",
              "3                1      su damlatıyor ve soğutucu funktion çalışmıyor  Negative\n",
              "4                4  4 sipariş vermiştim en son kargoya çıkan ızgar...  Positive\n",
              "...            ...                                                ...       ...\n",
              "4995             1   Sakın almayın ilk kullanmada elimde kaldı !!!!!!  Negative\n",
              "4996             5  İki takım sipariş verdim. Biri çamaşır makine ...  Positive\n",
              "4997             3  Paketleme o kadar Özensizdiki elime kırık geçt...  Negative\n",
              "4998             5  Uygun fiyat yüksek kalite. Gercekten memnun ka...  Positive\n",
              "4999             4  kutuyu actım petrol kokusu yayıldı yavas sarj ...  Positive\n",
              "\n",
              "[5000 rows x 3 columns]"
            ]
          },
          "metadata": {},
          "execution_count": 14
        }
      ]
    },
    {
      "cell_type": "code",
      "source": [
        "data[\"sentiment\"].unique()"
      ],
      "metadata": {
        "colab": {
          "base_uri": "https://localhost:8080/"
        },
        "id": "cqEn0WB6SMJl",
        "outputId": "845d8880-6b4a-49d8-dc81-9a1d8647ccb3"
      },
      "execution_count": 15,
      "outputs": [
        {
          "output_type": "execute_result",
          "data": {
            "text/plain": [
              "array(['Negative', 'Positive'], dtype=object)"
            ]
          },
          "metadata": {},
          "execution_count": 15
        }
      ]
    },
    {
      "cell_type": "code",
      "metadata": {
        "id": "G632W5K8LQNb"
      },
      "source": [
        ""
      ],
      "execution_count": 15,
      "outputs": []
    },
    {
      "cell_type": "code",
      "metadata": {
        "id": "GkYKDN861XWO"
      },
      "source": [
        "data=data[[\"yorum\",\"sentiment\"]]"
      ],
      "execution_count": 16,
      "outputs": []
    },
    {
      "cell_type": "code",
      "metadata": {
        "colab": {
          "base_uri": "https://localhost:8080/",
          "height": 467
        },
        "id": "-m5DPA3x1ei2",
        "outputId": "a4bfbc61-4b1d-4d6b-ef78-e92da4daa879"
      },
      "source": [
        "labeling = {\n",
        "    'Positive':1, \n",
        "    'Negative':0\n",
        "}\n",
        "\n",
        "data['sentiment'] = data['sentiment'].apply(lambda x : labeling[x])\n",
        "# Output first ten rows\n",
        "data.head(10)"
      ],
      "execution_count": 17,
      "outputs": [
        {
          "output_type": "stream",
          "name": "stderr",
          "text": [
            "/usr/local/lib/python3.7/dist-packages/ipykernel_launcher.py:6: SettingWithCopyWarning: \n",
            "A value is trying to be set on a copy of a slice from a DataFrame.\n",
            "Try using .loc[row_indexer,col_indexer] = value instead\n",
            "\n",
            "See the caveats in the documentation: https://pandas.pydata.org/pandas-docs/stable/user_guide/indexing.html#returning-a-view-versus-a-copy\n",
            "  \n"
          ]
        },
        {
          "output_type": "execute_result",
          "data": {
            "text/html": [
              "<div>\n",
              "<style scoped>\n",
              "    .dataframe tbody tr th:only-of-type {\n",
              "        vertical-align: middle;\n",
              "    }\n",
              "\n",
              "    .dataframe tbody tr th {\n",
              "        vertical-align: top;\n",
              "    }\n",
              "\n",
              "    .dataframe thead th {\n",
              "        text-align: right;\n",
              "    }\n",
              "</style>\n",
              "<table border=\"1\" class=\"dataframe\">\n",
              "  <thead>\n",
              "    <tr style=\"text-align: right;\">\n",
              "      <th></th>\n",
              "      <th>yorum</th>\n",
              "      <th>sentiment</th>\n",
              "    </tr>\n",
              "  </thead>\n",
              "  <tbody>\n",
              "    <tr>\n",
              "      <th>0</th>\n",
              "      <td>Hiç beğenmedim çünkü hemen pişiriyo ve telveni...</td>\n",
              "      <td>0</td>\n",
              "    </tr>\n",
              "    <tr>\n",
              "      <th>1</th>\n",
              "      <td>Gayet güzel ve kullanişlı ben beğendim</td>\n",
              "      <td>1</td>\n",
              "    </tr>\n",
              "    <tr>\n",
              "      <th>2</th>\n",
              "      <td>ürün ilk geldiğinde cok sağlam gibi duruyor ki...</td>\n",
              "      <td>0</td>\n",
              "    </tr>\n",
              "    <tr>\n",
              "      <th>3</th>\n",
              "      <td>su damlatıyor ve soğutucu funktion çalışmıyor</td>\n",
              "      <td>0</td>\n",
              "    </tr>\n",
              "    <tr>\n",
              "      <th>4</th>\n",
              "      <td>4 sipariş vermiştim en son kargoya çıkan ızgar...</td>\n",
              "      <td>1</td>\n",
              "    </tr>\n",
              "    <tr>\n",
              "      <th>5</th>\n",
              "      <td>Eh işte idare eder biraz telmaşa telefonu koyd...</td>\n",
              "      <td>0</td>\n",
              "    </tr>\n",
              "    <tr>\n",
              "      <th>6</th>\n",
              "      <td>çok kaliteli ve güzel çıktı</td>\n",
              "      <td>1</td>\n",
              "    </tr>\n",
              "    <tr>\n",
              "      <th>7</th>\n",
              "      <td>Fiyat olarak uygundu o nedenle aldım evim stüd...</td>\n",
              "      <td>1</td>\n",
              "    </tr>\n",
              "    <tr>\n",
              "      <th>8</th>\n",
              "      <td>Ağzı çok ince kulağımı acityor takarken malese...</td>\n",
              "      <td>0</td>\n",
              "    </tr>\n",
              "    <tr>\n",
              "      <th>9</th>\n",
              "      <td>biraz küçük ama çok güzel pişiriyor</td>\n",
              "      <td>1</td>\n",
              "    </tr>\n",
              "  </tbody>\n",
              "</table>\n",
              "</div>"
            ],
            "text/plain": [
              "                                               yorum  sentiment\n",
              "0  Hiç beğenmedim çünkü hemen pişiriyo ve telveni...          0\n",
              "1             Gayet güzel ve kullanişlı ben beğendim          1\n",
              "2  ürün ilk geldiğinde cok sağlam gibi duruyor ki...          0\n",
              "3      su damlatıyor ve soğutucu funktion çalışmıyor          0\n",
              "4  4 sipariş vermiştim en son kargoya çıkan ızgar...          1\n",
              "5  Eh işte idare eder biraz telmaşa telefonu koyd...          0\n",
              "6                        çok kaliteli ve güzel çıktı          1\n",
              "7  Fiyat olarak uygundu o nedenle aldım evim stüd...          1\n",
              "8  Ağzı çok ince kulağımı acityor takarken malese...          0\n",
              "9                biraz küçük ama çok güzel pişiriyor          1"
            ]
          },
          "metadata": {},
          "execution_count": 17
        }
      ]
    },
    {
      "cell_type": "code",
      "metadata": {
        "id": "kKlTAgmPLmeb"
      },
      "source": [
        "from sklearn.model_selection import train_test_split\n",
        "\n",
        "train_df , valid_df  = train_test_split(data, test_size=0.2, random_state=42)"
      ],
      "execution_count": 18,
      "outputs": []
    },
    {
      "cell_type": "code",
      "metadata": {
        "id": "EU0ubqQqL5hI"
      },
      "source": [
        "train_df , test_df   = train_test_split(train_df, test_size=0.2, random_state=42)"
      ],
      "execution_count": 19,
      "outputs": []
    },
    {
      "cell_type": "code",
      "metadata": {
        "colab": {
          "base_uri": "https://localhost:8080/",
          "height": 206
        },
        "id": "R8rvTZ1lLVES",
        "outputId": "82f8b41a-1918-4b38-f43f-d2bde142597d"
      },
      "source": [
        "# Turnig all text to lowercase\n",
        "train_df['yorum'] = train_df['yorum'].str.lower()\n",
        "valid_df['yorum'] = valid_df['yorum'].str.lower()\n",
        "test_df['yorum'] = test_df['yorum'].str.lower()\n",
        "train_df.head()"
      ],
      "execution_count": 20,
      "outputs": [
        {
          "output_type": "execute_result",
          "data": {
            "text/html": [
              "<div>\n",
              "<style scoped>\n",
              "    .dataframe tbody tr th:only-of-type {\n",
              "        vertical-align: middle;\n",
              "    }\n",
              "\n",
              "    .dataframe tbody tr th {\n",
              "        vertical-align: top;\n",
              "    }\n",
              "\n",
              "    .dataframe thead th {\n",
              "        text-align: right;\n",
              "    }\n",
              "</style>\n",
              "<table border=\"1\" class=\"dataframe\">\n",
              "  <thead>\n",
              "    <tr style=\"text-align: right;\">\n",
              "      <th></th>\n",
              "      <th>yorum</th>\n",
              "      <th>sentiment</th>\n",
              "    </tr>\n",
              "  </thead>\n",
              "  <tbody>\n",
              "    <tr>\n",
              "      <th>3444</th>\n",
              "      <td>düzleştiricisi işe yaramıyor saçı çekiyor ve k...</td>\n",
              "      <td>0</td>\n",
              "    </tr>\n",
              "    <tr>\n",
              "      <th>2063</th>\n",
              "      <td>anlatıldığı kadar işe yarar bir ürün değil.</td>\n",
              "      <td>0</td>\n",
              "    </tr>\n",
              "    <tr>\n",
              "      <th>3714</th>\n",
              "      <td>xiaomi marka mi emin olamadim</td>\n",
              "      <td>0</td>\n",
              "    </tr>\n",
              "    <tr>\n",
              "      <th>2671</th>\n",
              "      <td>fişe taktığım anda tüm şalterleri attırdı hata...</td>\n",
              "      <td>0</td>\n",
              "    </tr>\n",
              "    <tr>\n",
              "      <th>2154</th>\n",
              "      <td>bu üçüncü mini fanım çabuk bozuluyorlar ama gü...</td>\n",
              "      <td>1</td>\n",
              "    </tr>\n",
              "  </tbody>\n",
              "</table>\n",
              "</div>"
            ],
            "text/plain": [
              "                                                  yorum  sentiment\n",
              "3444  düzleştiricisi işe yaramıyor saçı çekiyor ve k...          0\n",
              "2063        anlatıldığı kadar işe yarar bir ürün değil.          0\n",
              "3714                      xiaomi marka mi emin olamadim          0\n",
              "2671  fişe taktığım anda tüm şalterleri attırdı hata...          0\n",
              "2154  bu üçüncü mini fanım çabuk bozuluyorlar ama gü...          1"
            ]
          },
          "metadata": {},
          "execution_count": 20
        }
      ]
    },
    {
      "cell_type": "code",
      "metadata": {
        "colab": {
          "base_uri": "https://localhost:8080/",
          "height": 206
        },
        "id": "4hWTmv8KLaWj",
        "outputId": "12dbce52-f69c-4a9e-be1c-9a2a52ebcdbd"
      },
      "source": [
        "# Removing ponctuation\n",
        "import string\n",
        "\n",
        "exclude = set(string.punctuation) \n",
        "\n",
        "def remove_punctuation(x): \n",
        "    try: \n",
        "        x = ''.join(ch for ch in x if ch not in exclude) \n",
        "    except: \n",
        "        pass \n",
        "    return x \n",
        "\n",
        "train_df['yorum'] = train_df['yorum'].apply(remove_punctuation)\n",
        "valid_df['yorum'] = valid_df['yorum'].apply(remove_punctuation)\n",
        "test_df['yorum'] = test_df['yorum'].apply(remove_punctuation)\n",
        "train_df.head()"
      ],
      "execution_count": 21,
      "outputs": [
        {
          "output_type": "execute_result",
          "data": {
            "text/html": [
              "<div>\n",
              "<style scoped>\n",
              "    .dataframe tbody tr th:only-of-type {\n",
              "        vertical-align: middle;\n",
              "    }\n",
              "\n",
              "    .dataframe tbody tr th {\n",
              "        vertical-align: top;\n",
              "    }\n",
              "\n",
              "    .dataframe thead th {\n",
              "        text-align: right;\n",
              "    }\n",
              "</style>\n",
              "<table border=\"1\" class=\"dataframe\">\n",
              "  <thead>\n",
              "    <tr style=\"text-align: right;\">\n",
              "      <th></th>\n",
              "      <th>yorum</th>\n",
              "      <th>sentiment</th>\n",
              "    </tr>\n",
              "  </thead>\n",
              "  <tbody>\n",
              "    <tr>\n",
              "      <th>3444</th>\n",
              "      <td>düzleştiricisi işe yaramıyor saçı çekiyor ve k...</td>\n",
              "      <td>0</td>\n",
              "    </tr>\n",
              "    <tr>\n",
              "      <th>2063</th>\n",
              "      <td>anlatıldığı kadar işe yarar bir ürün değil</td>\n",
              "      <td>0</td>\n",
              "    </tr>\n",
              "    <tr>\n",
              "      <th>3714</th>\n",
              "      <td>xiaomi marka mi emin olamadim</td>\n",
              "      <td>0</td>\n",
              "    </tr>\n",
              "    <tr>\n",
              "      <th>2671</th>\n",
              "      <td>fişe taktığım anda tüm şalterleri attırdı hata...</td>\n",
              "      <td>0</td>\n",
              "    </tr>\n",
              "    <tr>\n",
              "      <th>2154</th>\n",
              "      <td>bu üçüncü mini fanım çabuk bozuluyorlar ama gü...</td>\n",
              "      <td>1</td>\n",
              "    </tr>\n",
              "  </tbody>\n",
              "</table>\n",
              "</div>"
            ],
            "text/plain": [
              "                                                  yorum  sentiment\n",
              "3444  düzleştiricisi işe yaramıyor saçı çekiyor ve k...          0\n",
              "2063         anlatıldığı kadar işe yarar bir ürün değil          0\n",
              "3714                      xiaomi marka mi emin olamadim          0\n",
              "2671  fişe taktığım anda tüm şalterleri attırdı hata...          0\n",
              "2154  bu üçüncü mini fanım çabuk bozuluyorlar ama gü...          1"
            ]
          },
          "metadata": {},
          "execution_count": 21
        }
      ]
    },
    {
      "cell_type": "code",
      "metadata": {
        "colab": {
          "base_uri": "https://localhost:8080/"
        },
        "id": "5HdNur0aMXpq",
        "outputId": "3c461f82-40bc-4e9a-f7ad-71800829b813"
      },
      "source": [
        "import nltk\n",
        "nltk.download('stopwords')"
      ],
      "execution_count": 22,
      "outputs": [
        {
          "output_type": "stream",
          "name": "stdout",
          "text": [
            "[nltk_data] Downloading package stopwords to /root/nltk_data...\n",
            "[nltk_data]   Package stopwords is already up-to-date!\n"
          ]
        },
        {
          "output_type": "execute_result",
          "data": {
            "text/plain": [
              "True"
            ]
          },
          "metadata": {},
          "execution_count": 22
        }
      ]
    },
    {
      "cell_type": "code",
      "metadata": {
        "colab": {
          "base_uri": "https://localhost:8080/",
          "height": 206
        },
        "id": "qHLLw_vtMJM6",
        "outputId": "02f7ca1f-b208-4b5e-ed58-e5fb5029579c"
      },
      "source": [
        "# Removing stopwords\n",
        "from nltk.corpus import stopwords\n",
        "\n",
        "stop = stopwords.words('turkish')\n",
        "\n",
        "train_df['yorum'] = train_df['yorum'].apply(lambda x: ' '.join([word for word in x.split() if word not in (stop)]))\n",
        "valid_df['yorum'] = valid_df['yorum'].apply(lambda x: ' '.join([word for word in x.split() if word not in (stop)]))\n",
        "test_df['yorum'] = test_df['yorum'].apply(lambda x: ' '.join([word for word in x.split() if word not in (stop)]))\n",
        "train_df.head()"
      ],
      "execution_count": 23,
      "outputs": [
        {
          "output_type": "execute_result",
          "data": {
            "text/html": [
              "<div>\n",
              "<style scoped>\n",
              "    .dataframe tbody tr th:only-of-type {\n",
              "        vertical-align: middle;\n",
              "    }\n",
              "\n",
              "    .dataframe tbody tr th {\n",
              "        vertical-align: top;\n",
              "    }\n",
              "\n",
              "    .dataframe thead th {\n",
              "        text-align: right;\n",
              "    }\n",
              "</style>\n",
              "<table border=\"1\" class=\"dataframe\">\n",
              "  <thead>\n",
              "    <tr style=\"text-align: right;\">\n",
              "      <th></th>\n",
              "      <th>yorum</th>\n",
              "      <th>sentiment</th>\n",
              "    </tr>\n",
              "  </thead>\n",
              "  <tbody>\n",
              "    <tr>\n",
              "      <th>3444</th>\n",
              "      <td>düzleştiricisi işe yaramıyor saçı çekiyor kopa...</td>\n",
              "      <td>0</td>\n",
              "    </tr>\n",
              "    <tr>\n",
              "      <th>2063</th>\n",
              "      <td>anlatıldığı kadar işe yarar bir ürün değil</td>\n",
              "      <td>0</td>\n",
              "    </tr>\n",
              "    <tr>\n",
              "      <th>3714</th>\n",
              "      <td>xiaomi marka mi emin olamadim</td>\n",
              "      <td>0</td>\n",
              "    </tr>\n",
              "    <tr>\n",
              "      <th>2671</th>\n",
              "      <td>fişe taktığım anda şalterleri attırdı hatalı ürün</td>\n",
              "      <td>0</td>\n",
              "    </tr>\n",
              "    <tr>\n",
              "      <th>2154</th>\n",
              "      <td>üçüncü mini fanım çabuk bozuluyorlar günü kurt...</td>\n",
              "      <td>1</td>\n",
              "    </tr>\n",
              "  </tbody>\n",
              "</table>\n",
              "</div>"
            ],
            "text/plain": [
              "                                                  yorum  sentiment\n",
              "3444  düzleştiricisi işe yaramıyor saçı çekiyor kopa...          0\n",
              "2063         anlatıldığı kadar işe yarar bir ürün değil          0\n",
              "3714                      xiaomi marka mi emin olamadim          0\n",
              "2671  fişe taktığım anda şalterleri attırdı hatalı ürün          0\n",
              "2154  üçüncü mini fanım çabuk bozuluyorlar günü kurt...          1"
            ]
          },
          "metadata": {},
          "execution_count": 23
        }
      ]
    },
    {
      "cell_type": "markdown",
      "metadata": {
        "id": "bQAI1HKSMsZD"
      },
      "source": [
        "# Classical Model with TF-IDF and SVM¶\n"
      ]
    },
    {
      "cell_type": "code",
      "metadata": {
        "id": "R3IwUF2OMVGR"
      },
      "source": [
        "from sklearn.feature_extraction.text import TfidfVectorizer\n",
        "\n",
        "# Create feature vectors for every sentence\n",
        "vectorizer = TfidfVectorizer(#min_df = 5,\n",
        "                             #max_df = 0.8,\n",
        "                             max_features = 20000,\n",
        "                             sublinear_tf = True,\n",
        "                             use_idf = True)#, stop_words='english')#vocabulary = list(embeddings_index.keys()\n",
        "\n",
        "train_vectors = vectorizer.fit_transform(train_df['yorum'])\n",
        "valid_vectors = vectorizer.transform(valid_df['yorum'])\n",
        "test_vectors = vectorizer.transform(test_df['yorum'])"
      ],
      "execution_count": 24,
      "outputs": []
    },
    {
      "cell_type": "code",
      "metadata": {
        "colab": {
          "base_uri": "https://localhost:8080/",
          "height": 423
        },
        "id": "MD_S7XlPND73",
        "outputId": "17fff566-d56f-476d-b3bf-afc5d63fbfa9"
      },
      "source": [
        "data"
      ],
      "execution_count": 25,
      "outputs": [
        {
          "output_type": "execute_result",
          "data": {
            "text/html": [
              "<div>\n",
              "<style scoped>\n",
              "    .dataframe tbody tr th:only-of-type {\n",
              "        vertical-align: middle;\n",
              "    }\n",
              "\n",
              "    .dataframe tbody tr th {\n",
              "        vertical-align: top;\n",
              "    }\n",
              "\n",
              "    .dataframe thead th {\n",
              "        text-align: right;\n",
              "    }\n",
              "</style>\n",
              "<table border=\"1\" class=\"dataframe\">\n",
              "  <thead>\n",
              "    <tr style=\"text-align: right;\">\n",
              "      <th></th>\n",
              "      <th>yorum</th>\n",
              "      <th>sentiment</th>\n",
              "    </tr>\n",
              "  </thead>\n",
              "  <tbody>\n",
              "    <tr>\n",
              "      <th>0</th>\n",
              "      <td>Hiç beğenmedim çünkü hemen pişiriyo ve telveni...</td>\n",
              "      <td>0</td>\n",
              "    </tr>\n",
              "    <tr>\n",
              "      <th>1</th>\n",
              "      <td>Gayet güzel ve kullanişlı ben beğendim</td>\n",
              "      <td>1</td>\n",
              "    </tr>\n",
              "    <tr>\n",
              "      <th>2</th>\n",
              "      <td>ürün ilk geldiğinde cok sağlam gibi duruyor ki...</td>\n",
              "      <td>0</td>\n",
              "    </tr>\n",
              "    <tr>\n",
              "      <th>3</th>\n",
              "      <td>su damlatıyor ve soğutucu funktion çalışmıyor</td>\n",
              "      <td>0</td>\n",
              "    </tr>\n",
              "    <tr>\n",
              "      <th>4</th>\n",
              "      <td>4 sipariş vermiştim en son kargoya çıkan ızgar...</td>\n",
              "      <td>1</td>\n",
              "    </tr>\n",
              "    <tr>\n",
              "      <th>...</th>\n",
              "      <td>...</td>\n",
              "      <td>...</td>\n",
              "    </tr>\n",
              "    <tr>\n",
              "      <th>4995</th>\n",
              "      <td>Sakın almayın ilk kullanmada elimde kaldı !!!!!!</td>\n",
              "      <td>0</td>\n",
              "    </tr>\n",
              "    <tr>\n",
              "      <th>4996</th>\n",
              "      <td>İki takım sipariş verdim. Biri çamaşır makine ...</td>\n",
              "      <td>1</td>\n",
              "    </tr>\n",
              "    <tr>\n",
              "      <th>4997</th>\n",
              "      <td>Paketleme o kadar Özensizdiki elime kırık geçt...</td>\n",
              "      <td>0</td>\n",
              "    </tr>\n",
              "    <tr>\n",
              "      <th>4998</th>\n",
              "      <td>Uygun fiyat yüksek kalite. Gercekten memnun ka...</td>\n",
              "      <td>1</td>\n",
              "    </tr>\n",
              "    <tr>\n",
              "      <th>4999</th>\n",
              "      <td>kutuyu actım petrol kokusu yayıldı yavas sarj ...</td>\n",
              "      <td>1</td>\n",
              "    </tr>\n",
              "  </tbody>\n",
              "</table>\n",
              "<p>5000 rows × 2 columns</p>\n",
              "</div>"
            ],
            "text/plain": [
              "                                                  yorum  sentiment\n",
              "0     Hiç beğenmedim çünkü hemen pişiriyo ve telveni...          0\n",
              "1                Gayet güzel ve kullanişlı ben beğendim          1\n",
              "2     ürün ilk geldiğinde cok sağlam gibi duruyor ki...          0\n",
              "3         su damlatıyor ve soğutucu funktion çalışmıyor          0\n",
              "4     4 sipariş vermiştim en son kargoya çıkan ızgar...          1\n",
              "...                                                 ...        ...\n",
              "4995   Sakın almayın ilk kullanmada elimde kaldı !!!!!!          0\n",
              "4996  İki takım sipariş verdim. Biri çamaşır makine ...          1\n",
              "4997  Paketleme o kadar Özensizdiki elime kırık geçt...          0\n",
              "4998  Uygun fiyat yüksek kalite. Gercekten memnun ka...          1\n",
              "4999  kutuyu actım petrol kokusu yayıldı yavas sarj ...          1\n",
              "\n",
              "[5000 rows x 2 columns]"
            ]
          },
          "metadata": {},
          "execution_count": 25
        }
      ]
    },
    {
      "cell_type": "code",
      "metadata": {
        "colab": {
          "base_uri": "https://localhost:8080/"
        },
        "id": "gknuVn4dNBcr",
        "outputId": "42244d0e-78c6-463b-c0b8-2c0533b5ad49"
      },
      "source": [
        "from sklearn import svm\n",
        "# SVM\n",
        "classifier_linear = svm.SVC(kernel='linear')\n",
        "#Train\n",
        "classifier_linear.fit(train_vectors, train_df['sentiment'])"
      ],
      "execution_count": 26,
      "outputs": [
        {
          "output_type": "execute_result",
          "data": {
            "text/plain": [
              "SVC(kernel='linear')"
            ]
          },
          "metadata": {},
          "execution_count": 26
        }
      ]
    },
    {
      "cell_type": "code",
      "metadata": {
        "colab": {
          "base_uri": "https://localhost:8080/"
        },
        "id": "l6MS4iS9NGRi",
        "outputId": "24453acf-f6e1-4031-c87c-509ab365ff4b"
      },
      "source": [
        "from sklearn.metrics import classification_report\n",
        "\n",
        "predictions = classifier_linear.predict(test_vectors)\n",
        "# results\n",
        "report = classification_report(test_df['sentiment'], predictions)\n",
        "print(report)"
      ],
      "execution_count": 27,
      "outputs": [
        {
          "output_type": "stream",
          "name": "stdout",
          "text": [
            "              precision    recall  f1-score   support\n",
            "\n",
            "           0       0.80      0.86      0.83       478\n",
            "           1       0.77      0.69      0.73       322\n",
            "\n",
            "    accuracy                           0.79       800\n",
            "   macro avg       0.78      0.77      0.78       800\n",
            "weighted avg       0.79      0.79      0.79       800\n",
            "\n"
          ]
        }
      ]
    },
    {
      "cell_type": "markdown",
      "metadata": {
        "id": "N6cMYre6NPaj"
      },
      "source": [
        "# Changing the classifier by a NN model¶\n"
      ]
    },
    {
      "cell_type": "code",
      "metadata": {
        "id": "jDrjEsEdNM7r"
      },
      "source": [
        "import keras\n",
        "from keras.models import Sequential\n",
        "from keras.layers import Dense\n",
        "from keras.layers import Dropout\n",
        "\n",
        "# Defining the NN model\n",
        "model = Sequential()\n",
        "model.add(Dense(20, input_shape=(train_vectors.shape[1],), activation='relu'))\n",
        "model.add(Dropout(0.3))\n",
        "#model.add(Dense(5, activation='relu'))\n",
        "#model.add(Dropout(0.3))\n",
        "model.add(Dense(1, activation='sigmoid'))\n",
        "# compile network\n",
        "model.compile(loss='binary_crossentropy', optimizer='adam', metrics=['accuracy'])"
      ],
      "execution_count": 28,
      "outputs": []
    },
    {
      "cell_type": "code",
      "metadata": {
        "colab": {
          "base_uri": "https://localhost:8080/"
        },
        "id": "wASkXRuiNSXi",
        "outputId": "d1688e6a-96d8-4a32-ddfb-6a1313be5ad9"
      },
      "source": [
        "# Train\n",
        "#Salvar o melhor modelo\n",
        "callbacks_list = [\n",
        "    keras.callbacks.ModelCheckpoint(\n",
        "        filepath='model.h5',\n",
        "        monitor='val_loss', save_best_only=True, verbose=1),\n",
        "    keras.callbacks.EarlyStopping(monitor='val_loss', patience=10,verbose=1)\n",
        "]\n",
        "\n",
        "history = model.fit(\n",
        "    train_vectors.toarray(), train_df['sentiment'], \n",
        "    epochs=20, \n",
        "    verbose=1,\n",
        "    callbacks = callbacks_list,\n",
        "    validation_data=(valid_vectors.toarray(), valid_df['sentiment']))"
      ],
      "execution_count": 29,
      "outputs": [
        {
          "output_type": "stream",
          "name": "stdout",
          "text": [
            "Epoch 1/20\n",
            " 99/100 [============================>.] - ETA: 0s - loss: 0.6675 - accuracy: 0.6102\n",
            "Epoch 00001: val_loss improved from inf to 0.62537, saving model to model.h5\n",
            "100/100 [==============================] - 3s 8ms/step - loss: 0.6676 - accuracy: 0.6094 - val_loss: 0.6254 - val_accuracy: 0.6750\n",
            "Epoch 2/20\n",
            " 89/100 [=========================>....] - ETA: 0s - loss: 0.5840 - accuracy: 0.7223\n",
            "Epoch 00002: val_loss improved from 0.62537 to 0.54392, saving model to model.h5\n",
            "100/100 [==============================] - 0s 5ms/step - loss: 0.5801 - accuracy: 0.7241 - val_loss: 0.5439 - val_accuracy: 0.7550\n",
            "Epoch 3/20\n",
            " 92/100 [==========================>...] - ETA: 0s - loss: 0.4754 - accuracy: 0.8281\n",
            "Epoch 00003: val_loss improved from 0.54392 to 0.48308, saving model to model.h5\n",
            "100/100 [==============================] - 1s 6ms/step - loss: 0.4726 - accuracy: 0.8272 - val_loss: 0.4831 - val_accuracy: 0.8020\n",
            "Epoch 4/20\n",
            " 92/100 [==========================>...] - ETA: 0s - loss: 0.3819 - accuracy: 0.8910\n",
            "Epoch 00004: val_loss improved from 0.48308 to 0.44926, saving model to model.h5\n",
            "100/100 [==============================] - 1s 6ms/step - loss: 0.3805 - accuracy: 0.8897 - val_loss: 0.4493 - val_accuracy: 0.8100\n",
            "Epoch 5/20\n",
            " 89/100 [=========================>....] - ETA: 0s - loss: 0.3152 - accuracy: 0.9189\n",
            "Epoch 00005: val_loss improved from 0.44926 to 0.43510, saving model to model.h5\n",
            "100/100 [==============================] - 0s 5ms/step - loss: 0.3155 - accuracy: 0.9172 - val_loss: 0.4351 - val_accuracy: 0.8130\n",
            "Epoch 6/20\n",
            " 90/100 [==========================>...] - ETA: 0s - loss: 0.2619 - accuracy: 0.9385\n",
            "Epoch 00006: val_loss improved from 0.43510 to 0.43023, saving model to model.h5\n",
            "100/100 [==============================] - 0s 5ms/step - loss: 0.2642 - accuracy: 0.9350 - val_loss: 0.4302 - val_accuracy: 0.8170\n",
            "Epoch 7/20\n",
            " 91/100 [==========================>...] - ETA: 0s - loss: 0.2258 - accuracy: 0.9464\n",
            "Epoch 00007: val_loss did not improve from 0.43023\n",
            "100/100 [==============================] - 1s 5ms/step - loss: 0.2251 - accuracy: 0.9447 - val_loss: 0.4326 - val_accuracy: 0.8150\n",
            "Epoch 8/20\n",
            " 89/100 [=========================>....] - ETA: 0s - loss: 0.2005 - accuracy: 0.9505\n",
            "Epoch 00008: val_loss did not improve from 0.43023\n",
            "100/100 [==============================] - 1s 5ms/step - loss: 0.1987 - accuracy: 0.9506 - val_loss: 0.4380 - val_accuracy: 0.8170\n",
            "Epoch 9/20\n",
            " 92/100 [==========================>...] - ETA: 0s - loss: 0.1719 - accuracy: 0.9599\n",
            "Epoch 00009: val_loss did not improve from 0.43023\n",
            "100/100 [==============================] - 0s 4ms/step - loss: 0.1710 - accuracy: 0.9606 - val_loss: 0.4469 - val_accuracy: 0.8100\n",
            "Epoch 10/20\n",
            " 92/100 [==========================>...] - ETA: 0s - loss: 0.1552 - accuracy: 0.9674\n",
            "Epoch 00010: val_loss did not improve from 0.43023\n",
            "100/100 [==============================] - 1s 5ms/step - loss: 0.1563 - accuracy: 0.9653 - val_loss: 0.4539 - val_accuracy: 0.8100\n",
            "Epoch 11/20\n",
            " 90/100 [==========================>...] - ETA: 0s - loss: 0.1382 - accuracy: 0.9660\n",
            "Epoch 00011: val_loss did not improve from 0.43023\n",
            "100/100 [==============================] - 1s 5ms/step - loss: 0.1413 - accuracy: 0.9644 - val_loss: 0.4625 - val_accuracy: 0.8080\n",
            "Epoch 12/20\n",
            " 87/100 [=========================>....] - ETA: 0s - loss: 0.1247 - accuracy: 0.9702\n",
            "Epoch 00012: val_loss did not improve from 0.43023\n",
            "100/100 [==============================] - 0s 5ms/step - loss: 0.1245 - accuracy: 0.9709 - val_loss: 0.4739 - val_accuracy: 0.8030\n",
            "Epoch 13/20\n",
            " 92/100 [==========================>...] - ETA: 0s - loss: 0.1189 - accuracy: 0.9735\n",
            "Epoch 00013: val_loss did not improve from 0.43023\n",
            "100/100 [==============================] - 1s 5ms/step - loss: 0.1187 - accuracy: 0.9737 - val_loss: 0.4840 - val_accuracy: 0.7990\n",
            "Epoch 14/20\n",
            " 87/100 [=========================>....] - ETA: 0s - loss: 0.1078 - accuracy: 0.9763\n",
            "Epoch 00014: val_loss did not improve from 0.43023\n",
            "100/100 [==============================] - 0s 5ms/step - loss: 0.1093 - accuracy: 0.9759 - val_loss: 0.4965 - val_accuracy: 0.7960\n",
            "Epoch 15/20\n",
            "100/100 [==============================] - ETA: 0s - loss: 0.1007 - accuracy: 0.9750\n",
            "Epoch 00015: val_loss did not improve from 0.43023\n",
            "100/100 [==============================] - 1s 5ms/step - loss: 0.1007 - accuracy: 0.9750 - val_loss: 0.5070 - val_accuracy: 0.7950\n",
            "Epoch 16/20\n",
            " 89/100 [=========================>....] - ETA: 0s - loss: 0.0912 - accuracy: 0.9796\n",
            "Epoch 00016: val_loss did not improve from 0.43023\n",
            "100/100 [==============================] - 1s 5ms/step - loss: 0.0926 - accuracy: 0.9797 - val_loss: 0.5189 - val_accuracy: 0.7910\n",
            "Epoch 00016: early stopping\n"
          ]
        }
      ]
    },
    {
      "cell_type": "code",
      "metadata": {
        "colab": {
          "base_uri": "https://localhost:8080/",
          "height": 482
        },
        "id": "ejf--DP6NjdB",
        "outputId": "d004c179-9f2f-453d-8400-da91b91ed29d"
      },
      "source": [
        "import matplotlib.pyplot as plt\n",
        "fig, ax = plt.subplots(1,2, figsize=(16,8))\n",
        "ax[0].plot(history.history['loss'], color='b', label=\"Training loss\")\n",
        "ax[0].plot(history.history['val_loss'], color='r', label=\"validation loss\",axes =ax[0])\n",
        "legend = ax[0].legend(loc='best', shadow=True)\n",
        "\n",
        "ax[1].plot(history.history['accuracy'], color='b', label=\"Training accuracy\")\n",
        "ax[1].plot(history.history['val_accuracy'], color='r',label=\"Validation accuracy\")\n",
        "legend = ax[1].legend(loc='best', shadow=True)"
      ],
      "execution_count": 30,
      "outputs": [
        {
          "output_type": "display_data",
          "data": {
            "image/png": "[encoded data removed]",
            "text/plain": [
              "<Figure size 1152x576 with 2 Axes>"
            ]
          },
          "metadata": {
            "needs_background": "light"
          }
        }
      ]
    },
    {
      "cell_type": "code",
      "metadata": {
        "colab": {
          "base_uri": "https://localhost:8080/"
        },
        "id": "z-timKjnNrpi",
        "outputId": "37fe73c6-b2ba-4f21-f4d9-cb0be30d0800"
      },
      "source": [
        "from tensorflow.keras.models import load_model\n",
        "# Load the best saved model\n",
        "model = load_model('model.h5')\n",
        "\n",
        "y_pred = model.predict(valid_vectors.toarray())\n",
        "y_pred = np.round(y_pred).astype(int)\n",
        "\n",
        "print(classification_report(valid_df['sentiment'], y_pred, target_names=['0','1']))"
      ],
      "execution_count": 31,
      "outputs": [
        {
          "output_type": "stream",
          "name": "stdout",
          "text": [
            "              precision    recall  f1-score   support\n",
            "\n",
            "           0       0.84      0.88      0.86       622\n",
            "           1       0.78      0.71      0.75       378\n",
            "\n",
            "    accuracy                           0.82      1000\n",
            "   macro avg       0.81      0.80      0.80      1000\n",
            "weighted avg       0.82      0.82      0.82      1000\n",
            "\n"
          ]
        }
      ]
    },
    {
      "cell_type": "markdown",
      "metadata": {
        "id": "Alei-1HwPIxi"
      },
      "source": [
        "#3. Sentences as stream of words¶\n"
      ]
    },
    {
      "cell_type": "code",
      "metadata": {
        "id": "VxKk4IbfOVgC"
      },
      "source": [
        "import tensorflow as tf\n",
        "import numpy as np\n",
        "from tensorflow.keras.layers.experimental.preprocessing import TextVectorization\n",
        "import string\n",
        "\n",
        "# Model constants.\n",
        "max_features = 20000\n",
        "embedding_dim = 100\n",
        "sequence_length = 500\n",
        "\n",
        "# function to stardardize texts\n",
        "def custom_standardization(input_data):\n",
        "    lowercase = tf.strings.lower(input_data)\n",
        "    #stripped_html = tf.strings.regex_replace(lowercase, \"<br />\", \" \")\n",
        "    #return tf.strings.regex_replace(\n",
        "    #    stripped_html, \"[%s]\" % re.escape(string.punctuation), \"\"\n",
        "    #)\n",
        "    return lowercase\n",
        "\n",
        "# normalize, split, and map strings to integers\n",
        "vectorize_layer = TextVectorization(\n",
        "    #standardize=custom_standardization,\n",
        "    max_tokens=max_features,\n",
        "    output_mode=\"int\",\n",
        "    output_sequence_length=sequence_length,\n",
        ")\n",
        "\n",
        "# Creating the vocabulary\n",
        "vectorize_layer.adapt(train_df['yorum'].values)"
      ],
      "execution_count": 32,
      "outputs": []
    },
    {
      "cell_type": "code",
      "metadata": {
        "id": "i9vp5--9POpK"
      },
      "source": [
        "# Vetorizing all the texts\n",
        "def vectorize_text(text):\n",
        "    text = tf.expand_dims(text, -1)\n",
        "    return vectorize_layer(text)\n",
        "\n",
        "\n",
        "# Vectorize the data.\n",
        "train_ds = vectorize_text(train_df['yorum'])\n",
        "valid_ds = vectorize_text(valid_df['yorum'])\n",
        "test_ds = vectorize_text(test_df[ 'yorum'])"
      ],
      "execution_count": 33,
      "outputs": []
    },
    {
      "cell_type": "code",
      "metadata": {
        "colab": {
          "base_uri": "https://localhost:8080/"
        },
        "id": "9JTLcKb6PS4j",
        "outputId": "063b79d5-cd2d-4d1d-86d9-0a137555134f"
      },
      "source": [
        "print(train_df['yorum'][1])\n"
      ],
      "execution_count": 34,
      "outputs": [
        {
          "output_type": "stream",
          "name": "stdout",
          "text": [
            "gayet güzel kullanişlı ben beğendim\n"
          ]
        }
      ]
    },
    {
      "cell_type": "code",
      "metadata": {
        "colab": {
          "base_uri": "https://localhost:8080/"
        },
        "id": "AurCQBQzPaYq",
        "outputId": "32fc82e1-0762-4942-cd6d-923c6c54c0cd"
      },
      "source": [
        "print(train_ds[1])\n",
        "print(vectorize_text(['ürünü yaklaşık 3 aydır kullanıyorum ergonomik tasarımı yüksek hassasiyeti süper bir mouse bir masadan parke zemine dusurmeme rağmen performansindan bir kaybetmedi yorumları okuduğunuzda göre ürünü satın almayı planlıyorsunuz kaçırmayın alın']))"
      ],
      "execution_count": 35,
      "outputs": [
        {
          "output_type": "stream",
          "name": "stdout",
          "text": [
            "tf.Tensor(\n",
            "[877  30 105 559   2   3   7   0   0   0   0   0   0   0   0   0   0   0\n",
            "   0   0   0   0   0   0   0   0   0   0   0   0   0   0   0   0   0   0\n",
            "   0   0   0   0   0   0   0   0   0   0   0   0   0   0   0   0   0   0\n",
            "   0   0   0   0   0   0   0   0   0   0   0   0   0   0   0   0   0   0\n",
            "   0   0   0   0   0   0   0   0   0   0   0   0   0   0   0   0   0   0\n",
            "   0   0   0   0   0   0   0   0   0   0   0   0   0   0   0   0   0   0\n",
            "   0   0   0   0   0   0   0   0   0   0   0   0   0   0   0   0   0   0\n",
            "   0   0   0   0   0   0   0   0   0   0   0   0   0   0   0   0   0   0\n",
            "   0   0   0   0   0   0   0   0   0   0   0   0   0   0   0   0   0   0\n",
            "   0   0   0   0   0   0   0   0   0   0   0   0   0   0   0   0   0   0\n",
            "   0   0   0   0   0   0   0   0   0   0   0   0   0   0   0   0   0   0\n",
            "   0   0   0   0   0   0   0   0   0   0   0   0   0   0   0   0   0   0\n",
            "   0   0   0   0   0   0   0   0   0   0   0   0   0   0   0   0   0   0\n",
            "   0   0   0   0   0   0   0   0   0   0   0   0   0   0   0   0   0   0\n",
            "   0   0   0   0   0   0   0   0   0   0   0   0   0   0   0   0   0   0\n",
            "   0   0   0   0   0   0   0   0   0   0   0   0   0   0   0   0   0   0\n",
            "   0   0   0   0   0   0   0   0   0   0   0   0   0   0   0   0   0   0\n",
            "   0   0   0   0   0   0   0   0   0   0   0   0   0   0   0   0   0   0\n",
            "   0   0   0   0   0   0   0   0   0   0   0   0   0   0   0   0   0   0\n",
            "   0   0   0   0   0   0   0   0   0   0   0   0   0   0   0   0   0   0\n",
            "   0   0   0   0   0   0   0   0   0   0   0   0   0   0   0   0   0   0\n",
            "   0   0   0   0   0   0   0   0   0   0   0   0   0   0   0   0   0   0\n",
            "   0   0   0   0   0   0   0   0   0   0   0   0   0   0   0   0   0   0\n",
            "   0   0   0   0   0   0   0   0   0   0   0   0   0   0   0   0   0   0\n",
            "   0   0   0   0   0   0   0   0   0   0   0   0   0   0   0   0   0   0\n",
            "   0   0   0   0   0   0   0   0   0   0   0   0   0   0   0   0   0   0\n",
            "   0   0   0   0   0   0   0   0   0   0   0   0   0   0   0   0   0   0\n",
            "   0   0   0   0   0   0   0   0   0   0   0   0   0   0], shape=(500,), dtype=int64)\n",
            "tf.Tensor(\n",
            "[[  15  908   74  292   89 3060 2457  169    1  197    2  809    2    1\n",
            "     1 2283    1   94    1    2    1  512    1   25   15 1345 3399    1\n",
            "  6679  168    0    0    0    0    0    0    0    0    0    0    0    0\n",
            "     0    0    0    0    0    0    0    0    0    0    0    0    0    0\n",
            "     0    0    0    0    0    0    0    0    0    0    0    0    0    0\n",
            "     0    0    0    0    0    0    0    0    0    0    0    0    0    0\n",
            "     0    0    0    0    0    0    0    0    0    0    0    0    0    0\n",
            "     0    0    0    0    0    0    0    0    0    0    0    0    0    0\n",
            "     0    0    0    0    0    0    0    0    0    0    0    0    0    0\n",
            "     0    0    0    0    0    0    0    0    0    0    0    0    0    0\n",
            "     0    0    0    0    0    0    0    0    0    0    0    0    0    0\n",
            "     0    0    0    0    0    0    0    0    0    0    0    0    0    0\n",
            "     0    0    0    0    0    0    0    0    0    0    0    0    0    0\n",
            "     0    0    0    0    0    0    0    0    0    0    0    0    0    0\n",
            "     0    0    0    0    0    0    0    0    0    0    0    0    0    0\n",
            "     0    0    0    0    0    0    0    0    0    0    0    0    0    0\n",
            "     0    0    0    0    0    0    0    0    0    0    0    0    0    0\n",
            "     0    0    0    0    0    0    0    0    0    0    0    0    0    0\n",
            "     0    0    0    0    0    0    0    0    0    0    0    0    0    0\n",
            "     0    0    0    0    0    0    0    0    0    0    0    0    0    0\n",
            "     0    0    0    0    0    0    0    0    0    0    0    0    0    0\n",
            "     0    0    0    0    0    0    0    0    0    0    0    0    0    0\n",
            "     0    0    0    0    0    0    0    0    0    0    0    0    0    0\n",
            "     0    0    0    0    0    0    0    0    0    0    0    0    0    0\n",
            "     0    0    0    0    0    0    0    0    0    0    0    0    0    0\n",
            "     0    0    0    0    0    0    0    0    0    0    0    0    0    0\n",
            "     0    0    0    0    0    0    0    0    0    0    0    0    0    0\n",
            "     0    0    0    0    0    0    0    0    0    0    0    0    0    0\n",
            "     0    0    0    0    0    0    0    0    0    0    0    0    0    0\n",
            "     0    0    0    0    0    0    0    0    0    0    0    0    0    0\n",
            "     0    0    0    0    0    0    0    0    0    0    0    0    0    0\n",
            "     0    0    0    0    0    0    0    0    0    0    0    0    0    0\n",
            "     0    0    0    0    0    0    0    0    0    0    0    0    0    0\n",
            "     0    0    0    0    0    0    0    0    0    0    0    0    0    0\n",
            "     0    0    0    0    0    0    0    0    0    0    0    0    0    0\n",
            "     0    0    0    0    0    0    0    0    0    0]], shape=(1, 500), dtype=int64)\n"
          ]
        }
      ]
    },
    {
      "cell_type": "markdown",
      "metadata": {
        "id": "kcPOZ-WmPtjY"
      },
      "source": [
        "# A Convolutional Model"
      ]
    },
    {
      "cell_type": "code",
      "metadata": {
        "id": "0MjVJLajPp77"
      },
      "source": [
        "from keras import layers\n",
        "\n",
        "model = Sequential()\n",
        "# A integer input for vocab indices.\n",
        "model.add(layers.Input(shape=(None,), dtype=\"int64\"))\n",
        "# Layer to map those vocab indices into a space of dimensionality 'embedding_dim'.\n",
        "model.add(layers.Embedding(max_features, embedding_dim))\n",
        "# Conv1D + global max pooling\n",
        "model.add(layers.Conv1D(50, 7, padding=\"valid\", activation=\"relu\", strides=3))#200\n",
        "#model.add(layers.Conv1D(100, 7, padding=\"valid\", activation=\"relu\", strides=3))\n",
        "model.add(layers.GlobalMaxPooling1D())\n",
        "\n",
        "# Common hidden layer for final classification\n",
        "model.add(layers.Dense(10, activation=\"relu\"))#100\n",
        "model.add(layers.Dropout(0.5))\n",
        "# Single unit output layer with sigmoid activation\n",
        "model.add(layers.Dense(1, activation=\"sigmoid\", name=\"predictions\"))\n",
        "\n",
        "# Compile the model\n",
        "model.compile(loss=\"binary_crossentropy\", optimizer=\"adam\", metrics=[\"accuracy\"])"
      ],
      "execution_count": 36,
      "outputs": []
    },
    {
      "cell_type": "code",
      "metadata": {
        "colab": {
          "base_uri": "https://localhost:8080/"
        },
        "id": "PVd0XIrxPx9y",
        "outputId": "bc0d9367-8484-46eb-c51b-b2c4a00d0222"
      },
      "source": [
        "# Train\n",
        "#Salvar o melhor modelo\n",
        "callbacks_list = [\n",
        "    keras.callbacks.ModelCheckpoint(\n",
        "        filepath='model.h5',\n",
        "        monitor='val_loss', save_best_only=True, verbose=1),\n",
        "    keras.callbacks.EarlyStopping(monitor='val_loss', patience=5,verbose=1)\n",
        "]\n",
        "\n",
        "history = model.fit(\n",
        "    train_ds, train_df['sentiment'], \n",
        "    epochs=20, \n",
        "    verbose=1,\n",
        "    callbacks = callbacks_list,\n",
        "    validation_data=(valid_ds, valid_df['sentiment']))"
      ],
      "execution_count": 37,
      "outputs": [
        {
          "output_type": "stream",
          "name": "stdout",
          "text": [
            "Epoch 1/20\n",
            " 98/100 [============================>.] - ETA: 0s - loss: 0.6736 - accuracy: 0.5963\n",
            "Epoch 00001: val_loss improved from inf to 0.63517, saving model to model.h5\n",
            "100/100 [==============================] - 9s 14ms/step - loss: 0.6728 - accuracy: 0.5969 - val_loss: 0.6352 - val_accuracy: 0.7160\n",
            "Epoch 2/20\n",
            " 95/100 [===========================>..] - ETA: 0s - loss: 0.5277 - accuracy: 0.7766\n",
            "Epoch 00002: val_loss improved from 0.63517 to 0.43879, saving model to model.h5\n",
            "100/100 [==============================] - 1s 11ms/step - loss: 0.5244 - accuracy: 0.7809 - val_loss: 0.4388 - val_accuracy: 0.8100\n",
            "Epoch 3/20\n",
            " 99/100 [============================>.] - ETA: 0s - loss: 0.3019 - accuracy: 0.9028\n",
            "Epoch 00003: val_loss did not improve from 0.43879\n",
            "100/100 [==============================] - 1s 10ms/step - loss: 0.3025 - accuracy: 0.9025 - val_loss: 0.4712 - val_accuracy: 0.7860\n",
            "Epoch 4/20\n",
            " 97/100 [============================>.] - ETA: 0s - loss: 0.1823 - accuracy: 0.9494\n",
            "Epoch 00004: val_loss did not improve from 0.43879\n",
            "100/100 [==============================] - 1s 10ms/step - loss: 0.1817 - accuracy: 0.9494 - val_loss: 0.5783 - val_accuracy: 0.7680\n",
            "Epoch 5/20\n",
            " 96/100 [===========================>..] - ETA: 0s - loss: 0.1349 - accuracy: 0.9658\n",
            "Epoch 00005: val_loss did not improve from 0.43879\n",
            "100/100 [==============================] - 1s 10ms/step - loss: 0.1323 - accuracy: 0.9669 - val_loss: 0.7022 - val_accuracy: 0.7310\n",
            "Epoch 6/20\n",
            " 95/100 [===========================>..] - ETA: 0s - loss: 0.1029 - accuracy: 0.9734\n",
            "Epoch 00006: val_loss did not improve from 0.43879\n",
            "100/100 [==============================] - 1s 10ms/step - loss: 0.1036 - accuracy: 0.9728 - val_loss: 0.7624 - val_accuracy: 0.7360\n",
            "Epoch 7/20\n",
            " 99/100 [============================>.] - ETA: 0s - loss: 0.0905 - accuracy: 0.9770\n",
            "Epoch 00007: val_loss did not improve from 0.43879\n",
            "100/100 [==============================] - 1s 10ms/step - loss: 0.0902 - accuracy: 0.9772 - val_loss: 0.8160 - val_accuracy: 0.7480\n",
            "Epoch 00007: early stopping\n"
          ]
        }
      ]
    },
    {
      "cell_type": "code",
      "metadata": {
        "colab": {
          "base_uri": "https://localhost:8080/",
          "height": 482
        },
        "id": "4AnhOofQP0g6",
        "outputId": "efd18f6b-32fb-4050-a51b-30227ac5e35b"
      },
      "source": [
        "import matplotlib.pyplot as plt\n",
        "fig, ax = plt.subplots(1,2, figsize=(16,8))\n",
        "ax[0].plot(history.history['loss'], color='b', label=\"Training loss\")\n",
        "ax[0].plot(history.history['val_loss'], color='r', label=\"validation loss\",axes =ax[0])\n",
        "legend = ax[0].legend(loc='best', shadow=True)\n",
        "\n",
        "ax[1].plot(history.history['accuracy'], color='b', label=\"Training accuracy\")\n",
        "ax[1].plot(history.history['val_accuracy'], color='r',label=\"Validation accuracy\")\n",
        "legend = ax[1].legend(loc='best', shadow=True)"
      ],
      "execution_count": 38,
      "outputs": [
        {
          "output_type": "display_data",
          "data": {
            "image/png": "[encoded data removed]",
            "text/plain": [
              "<Figure size 1152x576 with 2 Axes>"
            ]
          },
          "metadata": {
            "needs_background": "light"
          }
        }
      ]
    },
    {
      "cell_type": "code",
      "metadata": {
        "colab": {
          "base_uri": "https://localhost:8080/"
        },
        "id": "46cM4VifQBda",
        "outputId": "f1a49082-9601-481a-80c9-3eb68b2d496c"
      },
      "source": [
        "model = load_model('model.h5')\n",
        "\n",
        "y_pred = model.predict(valid_vectors.toarray())\n",
        "y_pred = np.round(y_pred).astype(int)\n",
        "\n",
        "print(classification_report(valid_df['sentiment'], y_pred, target_names=['0','1']))"
      ],
      "execution_count": 39,
      "outputs": [
        {
          "output_type": "stream",
          "name": "stdout",
          "text": [
            "              precision    recall  f1-score   support\n",
            "\n",
            "           0       0.62      1.00      0.77       622\n",
            "           1       0.00      0.00      0.00       378\n",
            "\n",
            "    accuracy                           0.62      1000\n",
            "   macro avg       0.31      0.50      0.38      1000\n",
            "weighted avg       0.39      0.62      0.48      1000\n",
            "\n"
          ]
        },
        {
          "output_type": "stream",
          "name": "stderr",
          "text": [
            "/usr/local/lib/python3.7/dist-packages/sklearn/metrics/_classification.py:1308: UndefinedMetricWarning: Precision and F-score are ill-defined and being set to 0.0 in labels with no predicted samples. Use `zero_division` parameter to control this behavior.\n",
            "  _warn_prf(average, modifier, msg_start, len(result))\n",
            "/usr/local/lib/python3.7/dist-packages/sklearn/metrics/_classification.py:1308: UndefinedMetricWarning: Precision and F-score are ill-defined and being set to 0.0 in labels with no predicted samples. Use `zero_division` parameter to control this behavior.\n",
            "  _warn_prf(average, modifier, msg_start, len(result))\n",
            "/usr/local/lib/python3.7/dist-packages/sklearn/metrics/_classification.py:1308: UndefinedMetricWarning: Precision and F-score are ill-defined and being set to 0.0 in labels with no predicted samples. Use `zero_division` parameter to control this behavior.\n",
            "  _warn_prf(average, modifier, msg_start, len(result))\n"
          ]
        }
      ]
    },
    {
      "cell_type": "markdown",
      "metadata": {
        "id": "3yr0QtwpX2GP"
      },
      "source": [
        "# A LSTM Recursive Model¶\n"
      ]
    },
    {
      "cell_type": "code",
      "metadata": {
        "id": "o7X7NYMrQFnC"
      },
      "source": [
        "model = Sequential()\n",
        "# Input for variable-length sequences of integers\n",
        "model.add(keras.Input(shape=(None,), dtype=\"int64\"))\n",
        "# Embed each integer in a embedding_dim vector\n",
        "model.add(layers.Embedding(max_features, embedding_dim))\n",
        "# Add 2 bidirectional LSTMs\n",
        "#model.add(layers.Bidirectional(layers.LSTM(32, return_sequences=True)))\n",
        "model.add(layers.Bidirectional(layers.LSTM(32)))\n",
        "# Add a classifier\n",
        "model.add(layers.Dense(1, activation=\"sigmoid\"))\n",
        "\n",
        "# Compile the model\n",
        "model.compile(loss=\"binary_crossentropy\", optimizer=\"adam\", metrics=[\"accuracy\"])"
      ],
      "execution_count": 40,
      "outputs": []
    },
    {
      "cell_type": "code",
      "metadata": {
        "colab": {
          "base_uri": "https://localhost:8080/"
        },
        "id": "AIR02GfPX6HJ",
        "outputId": "bdd0cda5-4547-4714-b099-261dddd864cc"
      },
      "source": [
        "# Train\n",
        "#Salvar o melhor modelo\n",
        "callbacks_list = [\n",
        "    keras.callbacks.ModelCheckpoint(\n",
        "        filepath='model.h5',\n",
        "        monitor='val_loss', save_best_only=True, verbose=1),\n",
        "    keras.callbacks.EarlyStopping(monitor='val_loss', patience=5,verbose=1)\n",
        "]\n",
        "\n",
        "history = model.fit(\n",
        "    train_ds, train_df['sentiment'], \n",
        "    epochs=20, \n",
        "    verbose=1,\n",
        "    callbacks = callbacks_list,\n",
        "    validation_data=(valid_ds, valid_df['sentiment']))"
      ],
      "execution_count": 41,
      "outputs": [
        {
          "output_type": "stream",
          "name": "stdout",
          "text": [
            "Epoch 1/20\n",
            "100/100 [==============================] - ETA: 0s - loss: 0.6075 - accuracy: 0.6712\n",
            "Epoch 00001: val_loss improved from inf to 0.47507, saving model to model.h5\n",
            "100/100 [==============================] - 28s 241ms/step - loss: 0.6075 - accuracy: 0.6712 - val_loss: 0.4751 - val_accuracy: 0.7990\n",
            "Epoch 2/20\n",
            "100/100 [==============================] - ETA: 0s - loss: 0.3332 - accuracy: 0.8700\n",
            "Epoch 00002: val_loss improved from 0.47507 to 0.44585, saving model to model.h5\n",
            "100/100 [==============================] - 23s 229ms/step - loss: 0.3332 - accuracy: 0.8700 - val_loss: 0.4458 - val_accuracy: 0.8040\n",
            "Epoch 3/20\n",
            "100/100 [==============================] - ETA: 0s - loss: 0.1798 - accuracy: 0.9378\n",
            "Epoch 00003: val_loss did not improve from 0.44585\n",
            "100/100 [==============================] - 23s 228ms/step - loss: 0.1798 - accuracy: 0.9378 - val_loss: 0.6247 - val_accuracy: 0.7620\n",
            "Epoch 4/20\n",
            "100/100 [==============================] - ETA: 0s - loss: 0.1141 - accuracy: 0.9647\n",
            "Epoch 00004: val_loss did not improve from 0.44585\n",
            "100/100 [==============================] - 23s 227ms/step - loss: 0.1141 - accuracy: 0.9647 - val_loss: 0.6504 - val_accuracy: 0.7630\n",
            "Epoch 5/20\n",
            "100/100 [==============================] - ETA: 0s - loss: 0.0820 - accuracy: 0.9753\n",
            "Epoch 00005: val_loss did not improve from 0.44585\n",
            "100/100 [==============================] - 23s 227ms/step - loss: 0.0820 - accuracy: 0.9753 - val_loss: 0.6931 - val_accuracy: 0.7830\n",
            "Epoch 6/20\n",
            "100/100 [==============================] - ETA: 0s - loss: 0.0666 - accuracy: 0.9822\n",
            "Epoch 00006: val_loss did not improve from 0.44585\n",
            "100/100 [==============================] - 23s 230ms/step - loss: 0.0666 - accuracy: 0.9822 - val_loss: 0.7641 - val_accuracy: 0.7720\n",
            "Epoch 7/20\n",
            "100/100 [==============================] - ETA: 0s - loss: 0.0560 - accuracy: 0.9831\n",
            "Epoch 00007: val_loss did not improve from 0.44585\n",
            "100/100 [==============================] - 23s 228ms/step - loss: 0.0560 - accuracy: 0.9831 - val_loss: 0.9066 - val_accuracy: 0.7560\n",
            "Epoch 00007: early stopping\n"
          ]
        }
      ]
    },
    {
      "cell_type": "code",
      "metadata": {
        "colab": {
          "base_uri": "https://localhost:8080/",
          "height": 482
        },
        "id": "fc3eVrNOX8Ag",
        "outputId": "45c2e426-da81-4cad-82a6-c2b9ca4f01fa"
      },
      "source": [
        "import matplotlib.pyplot as plt\n",
        "fig, ax = plt.subplots(1,2, figsize=(16,8))\n",
        "ax[0].plot(history.history['loss'], color='b', label=\"Training loss\")\n",
        "ax[0].plot(history.history['val_loss'], color='r', label=\"validation loss\",axes =ax[0])\n",
        "legend = ax[0].legend(loc='best', shadow=True)\n",
        "\n",
        "ax[1].plot(history.history['accuracy'], color='b', label=\"Training accuracy\")\n",
        "ax[1].plot(history.history['val_accuracy'], color='r',label=\"Validation accuracy\")\n",
        "legend = ax[1].legend(loc='best', shadow=True)"
      ],
      "execution_count": 42,
      "outputs": [
        {
          "output_type": "display_data",
          "data": {
            "image/png": "[encoded data removed]",
            "text/plain": [
              "<Figure size 1152x576 with 2 Axes>"
            ]
          },
          "metadata": {
            "needs_background": "light"
          }
        }
      ]
    },
    {
      "cell_type": "code",
      "metadata": {
        "colab": {
          "base_uri": "https://localhost:8080/"
        },
        "id": "omDUH3nSYBmY",
        "outputId": "b1ada89c-56b8-43b7-b277-3981857803fb"
      },
      "source": [
        "model = load_model('model.h5')\n",
        "\n",
        "y_pred = model.predict(valid_vectors.toarray())\n",
        "y_pred = np.round(y_pred).astype(int)\n",
        "\n",
        "print(classification_report(valid_df['sentiment'], y_pred, target_names=['0','1']))"
      ],
      "execution_count": 43,
      "outputs": [
        {
          "output_type": "stream",
          "name": "stdout",
          "text": [
            "              precision    recall  f1-score   support\n",
            "\n",
            "           0       0.62      1.00      0.77       622\n",
            "           1       0.00      0.00      0.00       378\n",
            "\n",
            "    accuracy                           0.62      1000\n",
            "   macro avg       0.31      0.50      0.38      1000\n",
            "weighted avg       0.39      0.62      0.48      1000\n",
            "\n"
          ]
        },
        {
          "output_type": "stream",
          "name": "stderr",
          "text": [
            "/usr/local/lib/python3.7/dist-packages/sklearn/metrics/_classification.py:1308: UndefinedMetricWarning: Precision and F-score are ill-defined and being set to 0.0 in labels with no predicted samples. Use `zero_division` parameter to control this behavior.\n",
            "  _warn_prf(average, modifier, msg_start, len(result))\n",
            "/usr/local/lib/python3.7/dist-packages/sklearn/metrics/_classification.py:1308: UndefinedMetricWarning: Precision and F-score are ill-defined and being set to 0.0 in labels with no predicted samples. Use `zero_division` parameter to control this behavior.\n",
            "  _warn_prf(average, modifier, msg_start, len(result))\n",
            "/usr/local/lib/python3.7/dist-packages/sklearn/metrics/_classification.py:1308: UndefinedMetricWarning: Precision and F-score are ill-defined and being set to 0.0 in labels with no predicted samples. Use `zero_division` parameter to control this behavior.\n",
            "  _warn_prf(average, modifier, msg_start, len(result))\n"
          ]
        }
      ]
    },
    {
      "cell_type": "markdown",
      "metadata": {
        "id": "B3kT-g1AYQZz"
      },
      "source": [
        "# 4. Using Word Embeddings¶\n"
      ]
    },
    {
      "cell_type": "code",
      "metadata": {
        "id": "QE88CHvSYDdQ"
      },
      "source": [
        "voc = vectorize_layer.get_vocabulary()\n",
        "word_index = dict(zip(voc, range(len(voc))))"
      ],
      "execution_count": 44,
      "outputs": []
    },
    {
      "cell_type": "code",
      "metadata": {
        "colab": {
          "base_uri": "https://localhost:8080/"
        },
        "id": "yCkQS9RGYUSp",
        "outputId": "bef68829-6257-474b-f41d-b33825821de3"
      },
      "source": [
        "word_index\n"
      ],
      "execution_count": 45,
      "outputs": [
        {
          "output_type": "execute_result",
          "data": {
            "text/plain": [
              "{'': 0,\n",
              " '[UNK]': 1,\n",
              " 'bir': 2,\n",
              " 'ürün': 3,\n",
              " 'güzel': 4,\n",
              " 'iyi': 5,\n",
              " 'geldi': 6,\n",
              " 'değil': 7,\n",
              " 'iade': 8,\n",
              " 'gayet': 9,\n",
              " 'tavsiye': 10,\n",
              " 'aldım': 11,\n",
              " 'yok': 12,\n",
              " 'biraz': 13,\n",
              " 'fakat': 14,\n",
              " 'ürünü': 15,\n",
              " 'hızlı': 16,\n",
              " 'memnun': 17,\n",
              " 'bi': 18,\n",
              " 'cok': 19,\n",
              " 'ederim': 20,\n",
              " 'kargo': 21,\n",
              " 'var': 22,\n",
              " 'sonra': 23,\n",
              " 'ben': 24,\n",
              " 'göre': 25,\n",
              " 'tam': 26,\n",
              " 'olarak': 27,\n",
              " 'küçük': 28,\n",
              " 'kullanışlı': 29,\n",
              " 'kadar': 30,\n",
              " 'ses': 31,\n",
              " 'fazla': 32,\n",
              " 'sadece': 33,\n",
              " 'oldu': 34,\n",
              " 'kaliteli': 35,\n",
              " 'bile': 36,\n",
              " '1': 37,\n",
              " 'hemen': 38,\n",
              " 'uygun': 39,\n",
              " 'urun': 40,\n",
              " 'teşekkürler': 41,\n",
              " 'ürünün': 42,\n",
              " 'ettim': 43,\n",
              " 'büyük': 44,\n",
              " '2': 45,\n",
              " 'uzun': 46,\n",
              " 'kötü': 47,\n",
              " 'ilk': 48,\n",
              " 'sorun': 49,\n",
              " 'ince': 50,\n",
              " 'elime': 51,\n",
              " 'ancak': 52,\n",
              " 'kesinlikle': 53,\n",
              " 'beğendim': 54,\n",
              " 'saç': 55,\n",
              " 'ulaştı': 56,\n",
              " 'bozuldu': 57,\n",
              " 'almayın': 58,\n",
              " 'onun': 59,\n",
              " 'guzel': 60,\n",
              " 'aynı': 61,\n",
              " 'çabuk': 62,\n",
              " 'fiyatına': 63,\n",
              " 'şarj': 64,\n",
              " 'kalitesi': 65,\n",
              " 'şekilde': 66,\n",
              " 'dışında': 67,\n",
              " 'beğenmedim': 68,\n",
              " 'gün': 69,\n",
              " 'tek': 70,\n",
              " 'kısa': 71,\n",
              " 'pek': 72,\n",
              " 'fiyat': 73,\n",
              " '3': 74,\n",
              " 'marka': 75,\n",
              " 'kalitesiz': 76,\n",
              " 'almıştım': 77,\n",
              " 'etmiyorum': 78,\n",
              " 'eder': 79,\n",
              " 'benim': 80,\n",
              " 'bence': 81,\n",
              " 'yapıyor': 82,\n",
              " 'paketleme': 83,\n",
              " 'telli': 84,\n",
              " 'ediyorum': 85,\n",
              " 'ısınıyor': 86,\n",
              " 'performans': 87,\n",
              " 'kaldım': 88,\n",
              " 'kullanıyorum': 89,\n",
              " 'zor': 90,\n",
              " 'gerçekten': 91,\n",
              " 'sağlam': 92,\n",
              " 'sorunsuz': 93,\n",
              " 'rağmen': 94,\n",
              " 'plastik': 95,\n",
              " 'farklı': 96,\n",
              " 'ay': 97,\n",
              " 'sıkıntı': 98,\n",
              " 'iş': 99,\n",
              " 'idare': 100,\n",
              " 'fiyata': 101,\n",
              " 'duruyor': 102,\n",
              " 'önce': 103,\n",
              " 'zaten': 104,\n",
              " 'işe': 105,\n",
              " 'harika': 106,\n",
              " 'çalışıyor': 107,\n",
              " 'yüzden': 108,\n",
              " 'teşekkür': 109,\n",
              " 'sesi': 110,\n",
              " 'rengi': 111,\n",
              " 'memnunum': 112,\n",
              " 'kalın': 113,\n",
              " 'içinde': 114,\n",
              " 'çıktı': 115,\n",
              " 'başarılı': 116,\n",
              " 'saçlarım': 117,\n",
              " 'hafif': 118,\n",
              " 'göründüğü': 119,\n",
              " 'teslimat': 120,\n",
              " 'kısmı': 121,\n",
              " 'geri': 122,\n",
              " 'bana': 123,\n",
              " 'aşırı': 124,\n",
              " 'olduğu': 125,\n",
              " 'geliyor': 126,\n",
              " 'yeni': 127,\n",
              " 'teslim': 128,\n",
              " 'olması': 129,\n",
              " 'kalmadım': 130,\n",
              " 'iki': 131,\n",
              " 'asla': 132,\n",
              " 'aldık': 133,\n",
              " 'yine': 134,\n",
              " 'sakal': 135,\n",
              " 'başka': 136,\n",
              " 'icin': 137,\n",
              " 'düz': 138,\n",
              " '5': 139,\n",
              " 'sipariş': 140,\n",
              " 'saçı': 141,\n",
              " 'normal': 142,\n",
              " 'koku': 143,\n",
              " 'kolay': 144,\n",
              " 'bozuk': 145,\n",
              " 'şık': 146,\n",
              " 'şarjı': 147,\n",
              " 'mükemmel': 148,\n",
              " 'degil': 149,\n",
              " 'ayrıca': 150,\n",
              " 'telefon': 151,\n",
              " 'maalesef': 152,\n",
              " 'düzleştirici': 153,\n",
              " 'başladı': 154,\n",
              " 'olur': 155,\n",
              " 'olmadı': 156,\n",
              " 'oldukça': 157,\n",
              " 'etmem': 158,\n",
              " 'öyle': 159,\n",
              " 'zaman': 160,\n",
              " 'su': 161,\n",
              " 'hediye': 162,\n",
              " 'böyle': 163,\n",
              " 'yapmıyor': 164,\n",
              " 'verdim': 165,\n",
              " 'oluyor': 166,\n",
              " 'malesef': 167,\n",
              " 'alın': 168,\n",
              " 'yüksek': 169,\n",
              " 'tekrar': 170,\n",
              " 'süre': 171,\n",
              " 'makina': 172,\n",
              " 'kokusu': 173,\n",
              " 'kablosu': 174,\n",
              " 'ideal': 175,\n",
              " 'henüz': 176,\n",
              " 'görüyor': 177,\n",
              " 'fena': 178,\n",
              " 'dandik': 179,\n",
              " 'beklediğim': 180,\n",
              " 'baya': 181,\n",
              " 'alıyor': 182,\n",
              " 'çalışmıyor': 183,\n",
              " 'yıldız': 184,\n",
              " 'yoktu': 185,\n",
              " 'veriyor': 186,\n",
              " 'pratik': 187,\n",
              " 'kullandım': 188,\n",
              " 'kendi': 189,\n",
              " 'geç': 190,\n",
              " 'gelmedi': 191,\n",
              " 'fön': 192,\n",
              " 'dolayı': 193,\n",
              " '10': 194,\n",
              " 'yorumlara': 195,\n",
              " 'yeri': 196,\n",
              " 'süper': 197,\n",
              " 'para': 198,\n",
              " 'olmuyor': 199,\n",
              " 'kabul': 200,\n",
              " 'gücü': 201,\n",
              " 'etmek': 202,\n",
              " 'edeceğim': 203,\n",
              " 'sürekli': 204,\n",
              " 'makine': 205,\n",
              " 'kıvırcık': 206,\n",
              " 'gerekiyor': 207,\n",
              " 'gelen': 208,\n",
              " 'dalgalı': 209,\n",
              " 'berbat': 210,\n",
              " 'yaptı': 211,\n",
              " 'servis': 212,\n",
              " 'oldum': 213,\n",
              " 'lazım': 214,\n",
              " 'kere': 215,\n",
              " 'görür': 216,\n",
              " 'fiyatı': 217,\n",
              " 'ediyor': 218,\n",
              " 'düşük': 219,\n",
              " 'vardı': 220,\n",
              " 'resmen': 221,\n",
              " 'orta': 222,\n",
              " 'kullandığım': 223,\n",
              " 'keşke': 224,\n",
              " 'falan': 225,\n",
              " 'arkadaşlar': 226,\n",
              " '4': 227,\n",
              " 'ısı': 228,\n",
              " 'satıcı': 229,\n",
              " 'pişiriyor': 230,\n",
              " 'olan': 231,\n",
              " 'kullanımı': 232,\n",
              " 'kullanımda': 233,\n",
              " 'kalite': 234,\n",
              " 'hic': 235,\n",
              " 'denedim': 236,\n",
              " 'an': 237,\n",
              " 'alalı': 238,\n",
              " 'zorunda': 239,\n",
              " 'yeterli': 240,\n",
              " 'yaptım': 241,\n",
              " 'trendyol': 242,\n",
              " 'sürede': 243,\n",
              " 'performansı': 244,\n",
              " 'güzeldi': 245,\n",
              " 'bunu': 246,\n",
              " 'beklemeyin': 247,\n",
              " 'bazen': 248,\n",
              " 'aldim': 249,\n",
              " 'şimdilik': 250,\n",
              " 'üst': 251,\n",
              " 'ufak': 252,\n",
              " 'saat': 253,\n",
              " 'kullanmadım': 254,\n",
              " 'hoş': 255,\n",
              " 'gidiyor': 256,\n",
              " 'etkisi': 257,\n",
              " 'üründen': 258,\n",
              " 'yavaş': 259,\n",
              " 'varsa': 260,\n",
              " 'tüyleri': 261,\n",
              " 'saçları': 262,\n",
              " 'pişman': 263,\n",
              " 'olsun': 264,\n",
              " 'olmasına': 265,\n",
              " 'mi': 266,\n",
              " 'istediğim': 267,\n",
              " 'ağır': 268,\n",
              " '15': 269,\n",
              " 'yerine': 270,\n",
              " 'sac': 271,\n",
              " 'olduğunu': 272,\n",
              " 'kırık': 273,\n",
              " 'kurutma': 274,\n",
              " 'hemde': 275,\n",
              " 'buhar': 276,\n",
              " 'şekil': 277,\n",
              " 'çıkıyor': 278,\n",
              " 'umarım': 279,\n",
              " 'sorunu': 280,\n",
              " 'renk': 281,\n",
              " 'olsa': 282,\n",
              " 'kesmiyor': 283,\n",
              " 'kaç': 284,\n",
              " 'kargoda': 285,\n",
              " 'kaldı': 286,\n",
              " 'hiçbir': 287,\n",
              " 'günde': 288,\n",
              " 'fırın': 289,\n",
              " 'etmiyor': 290,\n",
              " 'doğru': 291,\n",
              " 'aydır': 292,\n",
              " 'ara': 293,\n",
              " 'yoksa': 294,\n",
              " 'yazık': 295,\n",
              " 'yaramıyor': 296,\n",
              " 'sakın': 297,\n",
              " 'iyiydi': 298,\n",
              " 'istedim': 299,\n",
              " 'hafta': 300,\n",
              " 'güçlü': 301,\n",
              " 'görünüyor': 302,\n",
              " 'dümdüz': 303,\n",
              " 'durmuyor': 304,\n",
              " 'değildi': 305,\n",
              " 'bende': 306,\n",
              " 'başlığı': 307,\n",
              " 'basit': 308,\n",
              " 'üründe': 309,\n",
              " 'yinede': 310,\n",
              " 'tercih': 311,\n",
              " 'tane': 312,\n",
              " 'siyah': 313,\n",
              " 'sert': 314,\n",
              " 'saçım': 315,\n",
              " 'rahat': 316,\n",
              " 'olabilir': 317,\n",
              " 'kırıldı': 318,\n",
              " 'kontrol': 319,\n",
              " 'kabartıyor': 320,\n",
              " 'i̇ade': 321,\n",
              " 'dk': 322,\n",
              " 'derim': 323,\n",
              " 'boyutu': 324,\n",
              " 'beklediğimden': 325,\n",
              " 'bakarak': 326,\n",
              " 'artık': 327,\n",
              " 'almıyor': 328,\n",
              " 'alabilirsiniz': 329,\n",
              " 'vs': 330,\n",
              " 'vermiyor': 331,\n",
              " 'kullanmak': 332,\n",
              " 'kesiyor': 333,\n",
              " 'içine': 334,\n",
              " 'ikinci': 335,\n",
              " 'halde': 336,\n",
              " 'gitti': 337,\n",
              " 'evet': 338,\n",
              " 'açısından': 339,\n",
              " 'alt': 340,\n",
              " 'çıkarıyor': 341,\n",
              " 'zarar': 342,\n",
              " 'telefonu': 343,\n",
              " 'saçlar': 344,\n",
              " 'paketlemesi': 345,\n",
              " 'ocağıma': 346,\n",
              " 'memnunuz': 347,\n",
              " 'kulaklık': 348,\n",
              " 'kablo': 349,\n",
              " 'içindeki': 350,\n",
              " 'herkese': 351,\n",
              " 'görüntü': 352,\n",
              " 'elimde': 353,\n",
              " 'bı': 354,\n",
              " 'bilmiyorum': 355,\n",
              " 'başlık': 356,\n",
              " 'alınabilir': 357,\n",
              " '👍': 358,\n",
              " 'yorum': 359,\n",
              " 'yerden': 360,\n",
              " 'yer': 361,\n",
              " 'sıfır': 362,\n",
              " 'saçlarımı': 363,\n",
              " 'saça': 364,\n",
              " 'oturmuyor': 365,\n",
              " 'ona': 366,\n",
              " 'kutusu': 367,\n",
              " 'kullanım': 368,\n",
              " 'kullanılmış': 369,\n",
              " 'kullanisli': 370,\n",
              " 'konusunda': 371,\n",
              " 'i̇nce': 372,\n",
              " 'hayal': 373,\n",
              " 'hala': 374,\n",
              " 'gerek': 375,\n",
              " 'direk': 376,\n",
              " 'dikkatli': 377,\n",
              " 'dikkat': 378,\n",
              " 'değilim': 379,\n",
              " 'birde': 380,\n",
              " '20': 381,\n",
              " 'özelliği': 382,\n",
              " 'çıkmadı': 383,\n",
              " 'yanık': 384,\n",
              " 'uydu': 385,\n",
              " 'sessiz': 386,\n",
              " 'satıcıya': 387,\n",
              " 'oynuyor': 388,\n",
              " 'olanlar': 389,\n",
              " 'oda': 390,\n",
              " 'ocak': 391,\n",
              " 'kırdım': 392,\n",
              " 'i̇lk': 393,\n",
              " 'herhangi': 394,\n",
              " 'günü': 395,\n",
              " 'göründüğünden': 396,\n",
              " 'edildi': 397,\n",
              " 'düşünüyorum': 398,\n",
              " 'diğer': 399,\n",
              " 'bugün': 400,\n",
              " 'bitiyor': 401,\n",
              " 'beyaz': 402,\n",
              " 'ayrı': 403,\n",
              " 'aldığım': 404,\n",
              " 'ışık': 405,\n",
              " 'üzerine': 406,\n",
              " 'özenli': 407,\n",
              " 'zamanla': 408,\n",
              " 'yıl': 409,\n",
              " 'tl': 410,\n",
              " 'sesli': 411,\n",
              " 'rahatsız': 412,\n",
              " 'problem': 413,\n",
              " 'ondan': 414,\n",
              " 'olmadan': 415,\n",
              " 'makinesi': 416,\n",
              " 'kılları': 417,\n",
              " 'kurulum': 418,\n",
              " 'kullanmaya': 419,\n",
              " 'kendine': 420,\n",
              " 'kek': 421,\n",
              " 'kalıyor': 422,\n",
              " 'içi': 423,\n",
              " 'istiyorum': 424,\n",
              " 'hızlıydı': 425,\n",
              " 'gore': 426,\n",
              " 'eksik': 427,\n",
              " 'düzleştiriyor': 428,\n",
              " 'devam': 429,\n",
              " 'bişey': 430,\n",
              " 'açıkçası': 431,\n",
              " 'açık': 432,\n",
              " 'arada': 433,\n",
              " 'anca': 434,\n",
              " 'almanızı': 435,\n",
              " 'almak': 436,\n",
              " '6': 437,\n",
              " 'üstünden': 438,\n",
              " 'çekiyor': 439,\n",
              " 'yumuşak': 440,\n",
              " 'yorumlarda': 441,\n",
              " 'yerleri': 442,\n",
              " 'yere': 443,\n",
              " 'yazıyor': 444,\n",
              " 'tepsi': 445,\n",
              " 'temiz': 446,\n",
              " 'takınca': 447,\n",
              " 'saçta': 448,\n",
              " 'sanırım': 449,\n",
              " 'rezalet': 450,\n",
              " 'kırmızı': 451,\n",
              " 'kargoya': 452,\n",
              " 'kargolama': 453,\n",
              " 'kabarık': 454,\n",
              " 'i̇dare': 455,\n",
              " 'inşallah': 456,\n",
              " 'hassas': 457,\n",
              " 'görüntüsü': 458,\n",
              " 'gönderildi': 459,\n",
              " 'gider': 460,\n",
              " 'genel': 461,\n",
              " 'gelir': 462,\n",
              " 'gece': 463,\n",
              " 'derecede': 464,\n",
              " 'dedim': 465,\n",
              " 'dar': 466,\n",
              " 'dakika': 467,\n",
              " 'anneme': 468,\n",
              " 'annem': 469,\n",
              " 'şimdi': 470,\n",
              " 'ısısı': 471,\n",
              " 'üzerinde': 472,\n",
              " 'yıldızı': 473,\n",
              " 'yalnız': 474,\n",
              " 'traş': 475,\n",
              " 'servisi': 476,\n",
              " 'saçımı': 477,\n",
              " 'sarj': 478,\n",
              " 'ptt': 479,\n",
              " 'paket': 480,\n",
              " 'kutu': 481,\n",
              " 'kapanıyor': 482,\n",
              " 'kaldık': 483,\n",
              " 'kahve': 484,\n",
              " 'i̇yi': 485,\n",
              " 'işimi': 486,\n",
              " 'hizli': 487,\n",
              " 'hatta': 488,\n",
              " 'gür': 489,\n",
              " 'göndermişler': 490,\n",
              " 'gercekten': 491,\n",
              " 'geniş': 492,\n",
              " 'firma': 493,\n",
              " 'farkı': 494,\n",
              " 'etti': 495,\n",
              " 'etmedim': 496,\n",
              " 'eski': 497,\n",
              " 'dış': 498,\n",
              " 'düzgün': 499,\n",
              " 'denemedim': 500,\n",
              " 'can': 501,\n",
              " 'cam': 502,\n",
              " 'cabuk': 503,\n",
              " 'beğendik': 504,\n",
              " 'ayarı': 505,\n",
              " 'anlamadım': 506,\n",
              " 'acıtıyor': 507,\n",
              " '7': 508,\n",
              " 'özellikle': 509,\n",
              " 'çanta': 510,\n",
              " 'zayıf': 511,\n",
              " 'yorumları': 512,\n",
              " 'yetersiz': 513,\n",
              " 'yağ': 514,\n",
              " 'yapmak': 515,\n",
              " 'yanlış': 516,\n",
              " 'yakıyor': 517,\n",
              " 'yada': 518,\n",
              " 'uyumlu': 519,\n",
              " 'urunu': 520,\n",
              " 'ucu': 521,\n",
              " 'tık': 522,\n",
              " 'tereddüt': 523,\n",
              " 'tel': 524,\n",
              " 'tahriş': 525,\n",
              " 'sıkıntılı': 526,\n",
              " 'son': 527,\n",
              " 'severek': 528,\n",
              " 'saçlarınız': 529,\n",
              " 'resimdeki': 530,\n",
              " 'oyun': 531,\n",
              " 'onu': 532,\n",
              " 'olurdu': 533,\n",
              " 'olabilirdi': 534,\n",
              " 'kurulumu': 535,\n",
              " 'kullandıktan': 536,\n",
              " 'kullandık': 537,\n",
              " 'içinden': 538,\n",
              " 'içerisinde': 539,\n",
              " 'inanılmaz': 540,\n",
              " 'hava': 541,\n",
              " 'hasarlı': 542,\n",
              " 'ekran': 543,\n",
              " 'edici': 544,\n",
              " 'düşüyor': 545,\n",
              " 'diyebilirim': 546,\n",
              " 'dearling': 547,\n",
              " 'belli': 548,\n",
              " 'altında': 549,\n",
              " 'aldığıma': 550,\n",
              " 'alacak': 551,\n",
              " 'şuan': 552,\n",
              " 'üç': 553,\n",
              " 'ürünüm': 554,\n",
              " 'ürüne': 555,\n",
              " 'yerinden': 556,\n",
              " 'yerinde': 557,\n",
              " 'yardımcı': 558,\n",
              " 'yarar': 559,\n",
              " 'yaramadı': 560,\n",
              " 'yanıyor': 561,\n",
              " 'yanı': 562,\n",
              " 'yandı': 563,\n",
              " 'yamuk': 564,\n",
              " 'verip': 565,\n",
              " 'uğraşmak': 566,\n",
              " 'ucuz': 567,\n",
              " 'tıraşı': 568,\n",
              " 'sarı': 569,\n",
              " 'puan': 570,\n",
              " 'muhteşem': 571,\n",
              " 'model': 572,\n",
              " 'markası': 573,\n",
              " 'malzeme': 574,\n",
              " 'lütfen': 575,\n",
              " 'kol': 576,\n",
              " 'kilo': 577,\n",
              " 'kesimi': 578,\n",
              " 'karşılamadı': 579,\n",
              " 'işte': 580,\n",
              " 'haricinde': 581,\n",
              " 'günlük': 582,\n",
              " 'gelmez': 583,\n",
              " 'gelip': 584,\n",
              " 'fp': 585,\n",
              " 'elimize': 586,\n",
              " 'edin': 587,\n",
              " 'durum': 588,\n",
              " 'dahi': 589,\n",
              " 'bukleler': 590,\n",
              " 'beklentimi': 591,\n",
              " 'begenmedim': 592,\n",
              " 'bakalım': 593,\n",
              " 'ayda': 594,\n",
              " 'almayin': 595,\n",
              " '100': 596,\n",
              " '👍🏻': 597,\n",
              " 'çizik': 598,\n",
              " 'çift': 599,\n",
              " 'çekme': 600,\n",
              " 'çekim': 601,\n",
              " 'çamaşır': 602,\n",
              " 'zamanında': 603,\n",
              " 'yoğun': 604,\n",
              " 'yerde': 605,\n",
              " 'yedek': 606,\n",
              " 'yaşamadım': 607,\n",
              " 'tutmuyor': 608,\n",
              " 'tanesi': 609,\n",
              " 'sıkıntısı': 610,\n",
              " 'suyu': 611,\n",
              " 'servise': 612,\n",
              " 'saçlarda': 613,\n",
              " 'satıcıdan': 614,\n",
              " 'pembe': 615,\n",
              " 'patladı': 616,\n",
              " 'paraya': 617,\n",
              " 'paketlenmiş': 618,\n",
              " 'paketlenmesi': 619,\n",
              " 'olsaydı': 620,\n",
              " 'olmasa': 621,\n",
              " 'okadar': 622,\n",
              " 'numara': 623,\n",
              " 'normalde': 624,\n",
              " 'nedense': 625,\n",
              " 'modeli': 626,\n",
              " 'makinenin': 627,\n",
              " 'makinem': 628,\n",
              " 'makinası': 629,\n",
              " 'kötüydü': 630,\n",
              " 'kutuyu': 631,\n",
              " 'kurutup': 632,\n",
              " 'kullanımdan': 633,\n",
              " 'kopuyor': 634,\n",
              " 'kokuyor': 635,\n",
              " 'kalıcı': 636,\n",
              " 'kalitede': 637,\n",
              " 'kalin': 638,\n",
              " 'iadesi': 639,\n",
              " 'hasar': 640,\n",
              " 'haftada': 641,\n",
              " 'görseldeki': 642,\n",
              " 'görmedim': 643,\n",
              " 'gördüm': 644,\n",
              " 'gun': 645,\n",
              " 'geçti': 646,\n",
              " 'geldiğinde': 647,\n",
              " 'fotoğrafta': 648,\n",
              " 'fiyatina': 649,\n",
              " 'fan': 650,\n",
              " 'evde': 651,\n",
              " 'elektriklenme': 652,\n",
              " 'el': 653,\n",
              " 'edicem': 654,\n",
              " 'düzleştirme': 655,\n",
              " 'duruşu': 656,\n",
              " 'derece': 657,\n",
              " 'cihaz': 658,\n",
              " 'bırakıyor': 659,\n",
              " 'bütün': 660,\n",
              " 'bozuluyor': 661,\n",
              " 'boyut': 662,\n",
              " 'beş': 663,\n",
              " 'beğendi': 664,\n",
              " 'bayağı': 665,\n",
              " 'ayakları': 666,\n",
              " 'arçelik': 667,\n",
              " 'arkadaşıma': 668,\n",
              " 'ankastre': 669,\n",
              " 'anda': 670,\n",
              " 'altın': 671,\n",
              " 'almışım': 672,\n",
              " 'almaya': 673,\n",
              " 'a': 674,\n",
              " '50': 675,\n",
              " 'üründü': 676,\n",
              " 'özensiz': 677,\n",
              " 'öneririm': 678,\n",
              " 'çöp': 679,\n",
              " 'zincir': 680,\n",
              " 'yorumu': 681,\n",
              " 'ye': 682,\n",
              " 'yaşadım': 683,\n",
              " 'yarım': 684,\n",
              " 'yaparken': 685,\n",
              " 'yanmıyor': 686,\n",
              " 'vermeye': 687,\n",
              " 'tıraş': 688,\n",
              " 'telefona': 689,\n",
              " 'tamir': 690,\n",
              " 'tamamen': 691,\n",
              " 'taktım': 692,\n",
              " 'sol': 693,\n",
              " 'sekilde': 694,\n",
              " 'sebeple': 695,\n",
              " 'sağ': 696,\n",
              " 'sakalı': 697,\n",
              " 'sabit': 698,\n",
              " 'saatte': 699,\n",
              " 'pişirmesi': 700,\n",
              " 'paketi': 701,\n",
              " 'orjinal': 702,\n",
              " 'once': 703,\n",
              " 'olmasın': 704,\n",
              " 'olanlara': 705,\n",
              " 'neredeyse': 706,\n",
              " 'motoru': 707,\n",
              " 'motor': 708,\n",
              " 'metal': 709,\n",
              " 'malzemesi': 710,\n",
              " 'lakin': 711,\n",
              " 'kırıyor': 712,\n",
              " 'kırıklığı': 713,\n",
              " 'köpük': 714,\n",
              " 'kurutuyor': 715,\n",
              " 'kuru': 716,\n",
              " 'kullanıyordum': 717,\n",
              " 'kullanmadan': 718,\n",
              " 'kullandıkça': 719,\n",
              " 'koptu': 720,\n",
              " 'kendim': 721,\n",
              " 'kapanmıyor': 722,\n",
              " 'kamera': 723,\n",
              " 'iç': 724,\n",
              " 'istemedim': 725,\n",
              " 'indirimdeyken': 726,\n",
              " 'ilgili': 727,\n",
              " 'hoşuma': 728,\n",
              " 'hatalı': 729,\n",
              " 'gözüküyor': 730,\n",
              " 'gösteriyor': 731,\n",
              " 'gri': 732,\n",
              " 'gitmiyor': 733,\n",
              " 'gibiydi': 734,\n",
              " 'garanti': 735,\n",
              " 'fırça': 736,\n",
              " 'fotoğraftaki': 737,\n",
              " 'filtre': 738,\n",
              " 'eşim': 739,\n",
              " 'etmez': 740,\n",
              " 'ertesi': 741,\n",
              " 'elektronik': 742,\n",
              " 'eh': 743,\n",
              " 'edip': 744,\n",
              " 'edilmedi': 745,\n",
              " 'duman': 746,\n",
              " 'diyor': 747,\n",
              " 'değmez': 748,\n",
              " 'değilmiş': 749,\n",
              " 'denemek': 750,\n",
              " 'bıçağı': 751,\n",
              " 'bunun': 752,\n",
              " 'bundan': 753,\n",
              " 'birebir': 754,\n",
              " 'beklentiniz': 755,\n",
              " 'babama': 756,\n",
              " 'alırken': 757,\n",
              " 'alınır': 758,\n",
              " 'altına': 759,\n",
              " 'altı': 760,\n",
              " 'aldı': 761,\n",
              " 'adet': 762,\n",
              " 'acı': 763,\n",
              " '12': 764,\n",
              " 'ısıda': 765,\n",
              " 'üzüldüm': 766,\n",
              " 'ürünler': 767,\n",
              " 'önermiyorum': 768,\n",
              " 'önceki': 769,\n",
              " 'ömürlü': 770,\n",
              " 'çıkmıyor': 771,\n",
              " 'çıkartıyor': 772,\n",
              " 'çöpe': 773,\n",
              " 'çokta': 774,\n",
              " 'zamanda': 775,\n",
              " 'yetkili': 776,\n",
              " 'yeniden': 777,\n",
              " 'yemek': 778,\n",
              " 'yapıyorum': 779,\n",
              " 'yapmadı': 780,\n",
              " 'verin': 781,\n",
              " 'vasat': 782,\n",
              " 'uymadı': 783,\n",
              " 'türkçe': 784,\n",
              " 'tarak': 785,\n",
              " 'sık': 786,\n",
              " 'süresi': 787,\n",
              " 'sonrasında': 788,\n",
              " 'siparis': 789,\n",
              " 'sevdim': 790,\n",
              " 'seferde': 791,\n",
              " 'sağlıyor': 792,\n",
              " 'saçınız': 793,\n",
              " 'saçma': 794,\n",
              " 'saçlara': 795,\n",
              " 'satici': 796,\n",
              " 'saniye': 797,\n",
              " 'resimde': 798,\n",
              " 'remington': 799,\n",
              " 'pişmanım': 800,\n",
              " 'parlak': 801,\n",
              " 'ortalama': 802,\n",
              " 'onuda': 803,\n",
              " 'olurmuş': 804,\n",
              " 'olmasi': 805,\n",
              " 'olmadığı': 806,\n",
              " 'olduğum': 807,\n",
              " 'oldugu': 808,\n",
              " 'mouse': 809,\n",
              " 'mm': 810,\n",
              " 'maşa': 811,\n",
              " 'lira': 812,\n",
              " 'led': 813,\n",
              " 'kutusunda': 814,\n",
              " 'kullanıyoruz': 815,\n",
              " 'kullanıp': 816,\n",
              " 'kullanıma': 817,\n",
              " 'kullanılabilir': 818,\n",
              " 'kullandim': 819,\n",
              " 'kulağa': 820,\n",
              " 'kimseye': 821,\n",
              " 'kargom': 822,\n",
              " 'karardı': 823,\n",
              " 'işlem': 824,\n",
              " 'is': 825,\n",
              " 'hızı': 826,\n",
              " 'görünüşü': 827,\n",
              " 'görmüş': 828,\n",
              " 'göremedim': 829,\n",
              " 'göreceğiz': 830,\n",
              " 'gördü': 831,\n",
              " 'gönderdiler': 832,\n",
              " 'gorur': 833,\n",
              " 'gelince': 834,\n",
              " 'geldiği': 835,\n",
              " 'gec': 836,\n",
              " 'garantisi': 837,\n",
              " 'fişi': 838,\n",
              " 'felan': 839,\n",
              " 'eve': 840,\n",
              " 'ettiğim': 841,\n",
              " 'etmediler': 842,\n",
              " 'etmeden': 843,\n",
              " 'etkili': 844,\n",
              " 'erken': 845,\n",
              " 'elektrik': 846,\n",
              " 'e': 847,\n",
              " 'düşündüm': 848,\n",
              " 'duzlestirici': 849,\n",
              " 'durumda': 850,\n",
              " 'doğal': 851,\n",
              " 'diyemem': 852,\n",
              " 'değişik': 853,\n",
              " 'demir': 854,\n",
              " 'dedi': 855,\n",
              " 'dan': 856,\n",
              " 'dalgali': 857,\n",
              " 'braun': 858,\n",
              " 'boğuk': 859,\n",
              " 'boy': 860,\n",
              " 'bosuna': 861,\n",
              " 'bluetooth': 862,\n",
              " 'bide': 863,\n",
              " 'beraber': 864,\n",
              " 'bekliyordum': 865,\n",
              " 'begendim': 866,\n",
              " 'başta': 867,\n",
              " 'başlıyor': 868,\n",
              " 'batık': 869,\n",
              " 'bakıp': 870,\n",
              " 'babam': 871,\n",
              " 'açıp': 872,\n",
              " 'açtım': 873,\n",
              " 'azından': 874,\n",
              " 'ayrica': 875,\n",
              " 'ayni': 876,\n",
              " 'anlatıldığı': 877,\n",
              " 'alışveriş': 878,\n",
              " 'almış': 879,\n",
              " 'alet': 880,\n",
              " 'alamadım': 881,\n",
              " 'alakası': 882,\n",
              " '😊': 883,\n",
              " 'şeyi': 884,\n",
              " 'ıslak': 885,\n",
              " 'üstüne': 886,\n",
              " 'önemli': 887,\n",
              " 'önceden': 888,\n",
              " 'çeyizim': 889,\n",
              " 'çekimi': 890,\n",
              " 'çalışırken': 891,\n",
              " 'çalıştı': 892,\n",
              " 'çalışmıyordu': 893,\n",
              " 'çalışması': 894,\n",
              " 'yıkıyor': 895,\n",
              " 'yıkaması': 896,\n",
              " 'yuzden': 897,\n",
              " 'yerini': 898,\n",
              " 'yazdığı': 899,\n",
              " 'yarıyor': 900,\n",
              " 'yaradı': 901,\n",
              " 'yapısı': 902,\n",
              " 'yaptığı': 903,\n",
              " 'yaparsanız': 904,\n",
              " 'yapan': 905,\n",
              " 'yapacağım': 906,\n",
              " 'yakın': 907,\n",
              " 'yaklaşık': 908,\n",
              " 'vermesi': 909,\n",
              " 'verildi': 910,\n",
              " 'verdiği': 911,\n",
              " 'verdi': 912,\n",
              " 'uçları': 913,\n",
              " 'ulasti': 914,\n",
              " 'tuş': 915,\n",
              " 'tesekkurler': 916,\n",
              " 'temas': 917,\n",
              " 'tavsıye': 918,\n",
              " 'tartıyor': 919,\n",
              " 'tahmin': 920,\n",
              " 'tabi': 921,\n",
              " 'sıkışıyor': 922,\n",
              " 'sürüyor': 923,\n",
              " 'soğuk': 924,\n",
              " 'sonuç': 925,\n",
              " 'seviyesi': 926,\n",
              " 'saçını': 927,\n",
              " 'saçlılar': 928,\n",
              " 'samsung': 929,\n",
              " 'sakalda': 930,\n",
              " 'saclar': 931,\n",
              " 'sacim': 932,\n",
              " 'rahatlıkla': 933,\n",
              " 'ragmen': 934,\n",
              " 'problemi': 935,\n",
              " 'plastiği': 936,\n",
              " 'pişirme': 937,\n",
              " 'pil': 938,\n",
              " 'parçası': 939,\n",
              " 'paketlenmişti': 940,\n",
              " 'olmasını': 941,\n",
              " 'olmasada': 942,\n",
              " 'olmak': 943,\n",
              " 'ocağın': 944,\n",
              " 'ocagima': 945,\n",
              " 'net': 946,\n",
              " 'müzik': 947,\n",
              " 'modelini': 948,\n",
              " 'minik': 949,\n",
              " 'memnundum': 950,\n",
              " 'markaya': 951,\n",
              " 'lazim': 952,\n",
              " 'kısımları': 953,\n",
              " 'kısmının': 954,\n",
              " 'kısmını': 955,\n",
              " 'kısmında': 956,\n",
              " 'kırılacak': 957,\n",
              " 'köpüklü': 958,\n",
              " 'kökünden': 959,\n",
              " 'kutunun': 960,\n",
              " 'kuruş': 961,\n",
              " 'kurulumunu': 962,\n",
              " 'kumtel': 963,\n",
              " 'kullanışsız': 964,\n",
              " 'kullanmadık': 965,\n",
              " 'kullanma': 966,\n",
              " 'kucuk': 967,\n",
              " 'kişi': 968,\n",
              " 'kivircik': 969,\n",
              " 'kirli': 970,\n",
              " 'kesmek': 971,\n",
              " 'keserken': 972,\n",
              " 'kendiliğinden': 973,\n",
              " 'kalınlığı': 974,\n",
              " 'kalitesini': 975,\n",
              " 'kaldim': 976,\n",
              " 'kahveyi': 977,\n",
              " 'kaba': 978,\n",
              " 'jilet': 979,\n",
              " 'i̇ki': 980,\n",
              " 'işlevi': 981,\n",
              " 'işlemi': 982,\n",
              " 'islak': 983,\n",
              " 'iadesini': 984,\n",
              " 'herkes': 985,\n",
              " 'hediyesi': 986,\n",
              " 'hareket': 987,\n",
              " 'güvenerek': 988,\n",
              " 'güncelleme': 989,\n",
              " 'görünüş': 990,\n",
              " 'görünmüyor': 991,\n",
              " 'gönül': 992,\n",
              " 'gönderilmiş': 993,\n",
              " 'gönderdim': 994,\n",
              " 'gitmedi': 995,\n",
              " 'gidip': 996,\n",
              " 'gelmiş': 997,\n",
              " 'gelmesi': 998,\n",
              " 'gaz': 999,\n",
              " ...}"
            ]
          },
          "metadata": {},
          "execution_count": 45
        }
      ]
    },
    {
      "cell_type": "code",
      "metadata": {
        "colab": {
          "base_uri": "https://localhost:8080/"
        },
        "id": "CAisDOkmYWpQ",
        "outputId": "dede19e3-3fa9-44fb-8dfb-22a214bda9ff"
      },
      "source": [
        "test = [\"güzel\",  \"kargo\", \"para\",\"berbat\"]\n",
        "[word_index[w] for w in test]"
      ],
      "execution_count": 50,
      "outputs": [
        {
          "output_type": "execute_result",
          "data": {
            "text/plain": [
              "[4, 21, 198, 210]"
            ]
          },
          "metadata": {},
          "execution_count": 50
        }
      ]
    },
    {
      "cell_type": "markdown",
      "metadata": {
        "id": "7n4hmCRTZcFA"
      },
      "source": [
        "# Glove Embeddings¶\n"
      ]
    },
    {
      "cell_type": "code",
      "metadata": {
        "colab": {
          "base_uri": "https://localhost:8080/"
        },
        "id": "8Yvl1iZiZUNA",
        "outputId": "10d9197e-2f51-43c2-953d-0f3ac470a490"
      },
      "source": [
        "!wget http://nlp.stanford.edu/data/glove.6B.zip\n",
        "!unzip -q glove.6B.zip"
      ],
      "execution_count": 51,
      "outputs": [
        {
          "output_type": "stream",
          "name": "stdout",
          "text": [
            "--2021-12-09 22:49:29--  http://nlp.stanford.edu/data/glove.6B.zip\n",
            "Resolving nlp.stanford.edu (nlp.stanford.edu)... 171.64.67.140\n",
            "Connecting to nlp.stanford.edu (nlp.stanford.edu)|171.64.67.140|:80... connected.\n",
            "HTTP request sent, awaiting response... 302 Found\n",
            "Location: https://nlp.stanford.edu/data/glove.6B.zip [following]\n",
            "--2021-12-09 22:49:30--  https://nlp.stanford.edu/data/glove.6B.zip\n",
            "Connecting to nlp.stanford.edu (nlp.stanford.edu)|171.64.67.140|:443... connected.\n",
            "HTTP request sent, awaiting response... 301 Moved Permanently\n",
            "Location: http://downloads.cs.stanford.edu/nlp/data/glove.6B.zip [following]\n",
            "--2021-12-09 22:49:30--  http://downloads.cs.stanford.edu/nlp/data/glove.6B.zip\n",
            "Resolving downloads.cs.stanford.edu (downloads.cs.stanford.edu)... 171.64.64.22\n",
            "Connecting to downloads.cs.stanford.edu (downloads.cs.stanford.edu)|171.64.64.22|:80... connected.\n",
            "HTTP request sent, awaiting response... 200 OK\n",
            "Length: 862182613 (822M) [application/zip]\n",
            "Saving to: ‘glove.6B.zip’\n",
            "\n",
            "glove.6B.zip        100%[===================>] 822.24M  5.08MB/s    in 2m 41s  \n",
            "\n",
            "2021-12-09 22:52:12 (5.10 MB/s) - ‘glove.6B.zip’ saved [862182613/862182613]\n",
            "\n"
          ]
        }
      ]
    },
    {
      "cell_type": "code",
      "metadata": {
        "colab": {
          "base_uri": "https://localhost:8080/"
        },
        "id": "tSf2wIj5ZevB",
        "outputId": "1e4e24de-8c49-448c-dfce-5b1c15da5856"
      },
      "source": [
        "!ls\n"
      ],
      "execution_count": 52,
      "outputs": [
        {
          "output_type": "stream",
          "name": "stdout",
          "text": [
            "glove.6B.100d.txt  glove.6B.300d.txt  glove.6B.zip  sample.csv\n",
            "glove.6B.200d.txt  glove.6B.50d.txt   model.h5\t    sample_data\n"
          ]
        }
      ]
    },
    {
      "cell_type": "code",
      "metadata": {
        "colab": {
          "base_uri": "https://localhost:8080/"
        },
        "id": "eChJx1GNZi0w",
        "outputId": "bf6ec385-dba8-4b69-dabf-425a744750a5"
      },
      "source": [
        "embeddings_index = {}\n",
        "with open(\"glove.6B.100d.txt\") as f:\n",
        "    for line in f:\n",
        "        word, coefs = line.split(maxsplit=1)\n",
        "        coefs = np.fromstring(coefs, \"f\", sep=\" \")\n",
        "        embeddings_index[word] = coefs\n",
        "\n",
        "print(\"Found %s word vectors.\" % len(embeddings_index))"
      ],
      "execution_count": 53,
      "outputs": [
        {
          "output_type": "stream",
          "name": "stdout",
          "text": [
            "Found 400000 word vectors.\n"
          ]
        }
      ]
    },
    {
      "cell_type": "code",
      "metadata": {
        "colab": {
          "base_uri": "https://localhost:8080/"
        },
        "id": "PVy3--7TdXyQ",
        "outputId": "e9c0fd16-29ea-4a98-e841-831ca571b3e2"
      },
      "source": [
        "embeddings_index[\"cat\"]\n"
      ],
      "execution_count": 54,
      "outputs": [
        {
          "output_type": "execute_result",
          "data": {
            "text/plain": [
              "array([ 0.23088  ,  0.28283  ,  0.6318   , -0.59411  , -0.58599  ,\n",
              "        0.63255  ,  0.24402  , -0.14108  ,  0.060815 , -0.7898   ,\n",
              "       -0.29102  ,  0.14287  ,  0.72274  ,  0.20428  ,  0.1407   ,\n",
              "        0.98757  ,  0.52533  ,  0.097456 ,  0.8822   ,  0.51221  ,\n",
              "        0.40204  ,  0.21169  , -0.013109 , -0.71616  ,  0.55387  ,\n",
              "        1.1452   , -0.88044  , -0.50216  , -0.22814  ,  0.023885 ,\n",
              "        0.1072   ,  0.083739 ,  0.55015  ,  0.58479  ,  0.75816  ,\n",
              "        0.45706  , -0.28001  ,  0.25225  ,  0.68965  , -0.60972  ,\n",
              "        0.19578  ,  0.044209 , -0.31136  , -0.68826  , -0.22721  ,\n",
              "        0.46185  , -0.77162  ,  0.10208  ,  0.55636  ,  0.067417 ,\n",
              "       -0.57207  ,  0.23735  ,  0.4717   ,  0.82765  , -0.29263  ,\n",
              "       -1.3422   , -0.099277 ,  0.28139  ,  0.41604  ,  0.10583  ,\n",
              "        0.62203  ,  0.89496  , -0.23446  ,  0.51349  ,  0.99379  ,\n",
              "        1.1846   , -0.16364  ,  0.20653  ,  0.73854  ,  0.24059  ,\n",
              "       -0.96473  ,  0.13481  , -0.0072484,  0.33016  , -0.12365  ,\n",
              "        0.27191  , -0.40951  ,  0.021909 , -0.6069   ,  0.40755  ,\n",
              "        0.19566  , -0.41802  ,  0.18636  , -0.032652 , -0.78571  ,\n",
              "       -0.13847  ,  0.044007 , -0.084423 ,  0.04911  ,  0.24104  ,\n",
              "        0.45273  , -0.18682  ,  0.46182  ,  0.089068 , -0.18185  ,\n",
              "       -0.01523  , -0.7368   , -0.14532  ,  0.15104  , -0.71493  ],\n",
              "      dtype=float32)"
            ]
          },
          "metadata": {},
          "execution_count": 54
        }
      ]
    },
    {
      "cell_type": "code",
      "metadata": {
        "colab": {
          "base_uri": "https://localhost:8080/"
        },
        "id": "GPtqDZSwddDw",
        "outputId": "9ce5f0e1-3aca-4eac-b6b4-6013196baf8d"
      },
      "source": [
        "num_tokens = len(voc) + 2\n",
        "#embedding_dim = 100\n",
        "hits = 0\n",
        "misses = 0\n",
        "\n",
        "# Prepare embedding matrix to be used in a Embedding layer\n",
        "# matrix where entry at index i is the pre-trained vector for the word of index i in our vectorizer's vocabulary\n",
        "embedding_matrix = np.zeros((num_tokens, embedding_dim))\n",
        "for word, i in word_index.items():\n",
        "    embedding_vector = embeddings_index.get(word)\n",
        "    if embedding_vector is not None:\n",
        "        # Words not found in embedding index will be all-zeros.\n",
        "        # This includes the representation for \"padding\" and \"OOV\"\n",
        "        embedding_matrix[i] = embedding_vector\n",
        "        hits += 1\n",
        "    else:\n",
        "        misses += 1\n",
        "print(\"Converted %d words (%d misses)\" % (hits, misses))"
      ],
      "execution_count": 55,
      "outputs": [
        {
          "output_type": "stream",
          "name": "stdout",
          "text": [
            "Converted 912 words (9078 misses)\n"
          ]
        }
      ]
    },
    {
      "cell_type": "code",
      "metadata": {
        "colab": {
          "base_uri": "https://localhost:8080/"
        },
        "id": "h7KVHdZ8di_Y",
        "outputId": "1c4523fb-742c-455a-df51-ad3ba9e6506e"
      },
      "source": [
        "embeddings_index[\"guzel\"]\n"
      ],
      "execution_count": 56,
      "outputs": [
        {
          "output_type": "execute_result",
          "data": {
            "text/plain": [
              "array([ 0.5084   ,  0.505    , -0.081128 , -0.21552  ,  0.01673  ,\n",
              "       -0.74883  , -0.037463 , -0.33809  ,  0.18696  ,  0.41353  ,\n",
              "        0.51614  ,  0.32128  ,  0.020276 , -0.17554  , -0.095284 ,\n",
              "        0.23546  , -0.54258  ,  0.43615  ,  0.28495  , -0.10936  ,\n",
              "       -0.22726  ,  0.51345  , -0.12641  ,  1.0597   ,  0.18203  ,\n",
              "        0.5659   ,  0.57652  ,  0.21145  ,  0.40707  , -0.12156  ,\n",
              "        0.12677  , -0.29595  ,  0.39932  , -0.011487 , -0.099267 ,\n",
              "       -0.34029  ,  0.35489  ,  0.17766  ,  0.055194 , -0.11279  ,\n",
              "        0.45247  ,  0.16822  ,  0.88978  ,  0.049971 , -0.39325  ,\n",
              "       -0.37352  ,  0.12689  ,  0.5073   ,  0.54952  ,  0.57672  ,\n",
              "       -0.0089012, -0.41126  , -0.17227  , -0.20782  ,  0.12585  ,\n",
              "        0.76335  ,  0.32022  , -0.1332   , -0.66609  , -0.56915  ,\n",
              "        0.023227 , -0.33429  ,  1.1368   , -0.41956  ,  0.094599 ,\n",
              "       -0.22115  , -0.072964 , -0.46117  , -0.47633  ,  0.2042   ,\n",
              "        0.0048466,  0.15403  ,  0.30478  ,  0.87446  , -0.030085 ,\n",
              "       -0.090391 ,  0.52065  , -0.11192  ,  0.60069  , -0.32072  ,\n",
              "       -0.29421  , -0.28079  ,  0.15086  , -0.37686  ,  0.12127  ,\n",
              "        0.17927  ,  0.084334 ,  0.78566  , -0.30915  ,  0.7534   ,\n",
              "        0.37826  ,  0.22228  ,  0.25276  , -0.53312  , -0.10407  ,\n",
              "       -0.22428  ,  0.045587 , -0.077479 , -1.0418   ,  0.12276  ],\n",
              "      dtype=float32)"
            ]
          },
          "metadata": {},
          "execution_count": 56
        }
      ]
    },
    {
      "cell_type": "code",
      "metadata": {
        "colab": {
          "base_uri": "https://localhost:8080/"
        },
        "id": "bhuuoEJ8dlQZ",
        "outputId": "d030ca06-b2b1-45fa-8263-305b20cf8d01"
      },
      "source": [
        "word_index[\"guzel\"]\n"
      ],
      "execution_count": 57,
      "outputs": [
        {
          "output_type": "execute_result",
          "data": {
            "text/plain": [
              "60"
            ]
          },
          "metadata": {},
          "execution_count": 57
        }
      ]
    },
    {
      "cell_type": "code",
      "metadata": {
        "colab": {
          "base_uri": "https://localhost:8080/"
        },
        "id": "-PPBJs3Sdw_g",
        "outputId": "4c1441a9-33ac-4a78-f474-6af9db7d78ae"
      },
      "source": [
        "embedding_matrix[216]\n"
      ],
      "execution_count": 58,
      "outputs": [
        {
          "output_type": "execute_result",
          "data": {
            "text/plain": [
              "array([0., 0., 0., 0., 0., 0., 0., 0., 0., 0., 0., 0., 0., 0., 0., 0., 0.,\n",
              "       0., 0., 0., 0., 0., 0., 0., 0., 0., 0., 0., 0., 0., 0., 0., 0., 0.,\n",
              "       0., 0., 0., 0., 0., 0., 0., 0., 0., 0., 0., 0., 0., 0., 0., 0., 0.,\n",
              "       0., 0., 0., 0., 0., 0., 0., 0., 0., 0., 0., 0., 0., 0., 0., 0., 0.,\n",
              "       0., 0., 0., 0., 0., 0., 0., 0., 0., 0., 0., 0., 0., 0., 0., 0., 0.,\n",
              "       0., 0., 0., 0., 0., 0., 0., 0., 0., 0., 0., 0., 0., 0., 0.])"
            ]
          },
          "metadata": {},
          "execution_count": 58
        }
      ]
    },
    {
      "cell_type": "code",
      "metadata": {
        "colab": {
          "base_uri": "https://localhost:8080/",
          "height": 1000
        },
        "id": "bZe17jcmdzqw",
        "outputId": "60b53718-bef5-45e5-e3d0-9fcea9c58983"
      },
      "source": [
        "# Visualizing with T-SNE\n",
        "from sklearn.manifold import TSNE\n",
        "import matplotlib.pyplot as plt\n",
        "%matplotlib inline\n",
        "\n",
        "\n",
        "max_w = 1000\n",
        "# Creates and TSNE model and plots it\n",
        "labels = []\n",
        "tokens = []\n",
        "for word, i in word_index.items():\n",
        "    if i == max_w:\n",
        "        break\n",
        "    embedding_vector = embeddings_index.get(word)\n",
        "    if embedding_vector is not None:\n",
        "        tokens.append(embedding_vector)\n",
        "        labels.append(word)\n",
        "tsne_model = TSNE(perplexity=40, n_components=2, init='pca', n_iter=250, random_state=23)\n",
        "new_values = tsne_model.fit_transform(tokens)\n",
        "x = []\n",
        "y = []\n",
        "for value in new_values:\n",
        "    x.append(value[0])\n",
        "    y.append(value[1])\n",
        "plt.figure(figsize=(16, 16))\n",
        "for i in range(len(x)):\n",
        "    plt.scatter(x[i],y[i])\n",
        "    plt.annotate(labels[i],\n",
        "        xy=(x[i], y[i]),\n",
        "        xytext=(5, 2),\n",
        "        textcoords='offset points',\n",
        "        ha='right',\n",
        "        va='bottom')\n",
        "plt.show()"
      ],
      "execution_count": 59,
      "outputs": [
        {
          "output_type": "stream",
          "name": "stderr",
          "text": [
            "/usr/local/lib/python3.7/dist-packages/sklearn/manifold/_t_sne.py:793: FutureWarning: The default learning rate in TSNE will change from 200.0 to 'auto' in 1.2.\n",
            "  FutureWarning,\n",
            "/usr/local/lib/python3.7/dist-packages/sklearn/manifold/_t_sne.py:986: FutureWarning: The PCA initialization in TSNE will change to have the standard deviation of PC1 equal to 1e-4 in 1.2. This will ensure better convergence.\n",
            "  FutureWarning,\n"
          ]
        },
        {
          "output_type": "display_data",
          "data": {
            "image/png": "[encoded data removed]",
            "text/plain": [
              "<Figure size 1152x1152 with 1 Axes>"
            ]
          },
          "metadata": {
            "needs_background": "light"
          }
        }
      ]
    },
    {
      "cell_type": "code",
      "metadata": {
        "id": "fRBYHPfrd3_w"
      },
      "source": [
        "# load the pre-trained word embeddings matrix into an Embedding layer. trainable = False\n",
        "embedding_layer = layers.Embedding(\n",
        "    num_tokens,\n",
        "    embedding_dim,\n",
        "    embeddings_initializer=keras.initializers.Constant(embedding_matrix),\n",
        "    trainable=False,\n",
        ")"
      ],
      "execution_count": 60,
      "outputs": []
    },
    {
      "cell_type": "code",
      "metadata": {
        "id": "LtWvYjxTeFaQ"
      },
      "source": [
        "model = Sequential()\n",
        "# Input for variable-length sequences of integers\n",
        "model.add(keras.Input(shape=(None,), dtype=\"int64\"))\n",
        "# load the pre-trained word embeddings matrix into an Embedding layer. trainable = False\n",
        "model.add(layers.Embedding(num_tokens,embedding_dim, embeddings_initializer=keras.initializers.Constant(embedding_matrix), trainable=False))\n",
        "# Add 2 bidirectional LSTMs\n",
        "model.add(layers.Bidirectional(layers.LSTM(32, return_sequences=True)))\n",
        "model.add(layers.Bidirectional(layers.LSTM(32)))\n",
        "# Add a classifier\n",
        "model.add(layers.Dense(1, activation=\"sigmoid\"))\n",
        "\n",
        "# Compile the model\n",
        "model.compile(loss=\"binary_crossentropy\", optimizer=\"adam\", metrics=[\"accuracy\"])"
      ],
      "execution_count": 61,
      "outputs": []
    },
    {
      "cell_type": "code",
      "metadata": {
        "colab": {
          "base_uri": "https://localhost:8080/"
        },
        "id": "0-loDkBfeHH3",
        "outputId": "a58db8e0-0abd-45b3-f03d-b881bc0f9f66"
      },
      "source": [
        "# Train\n",
        "#Salvar o melhor modelo\n",
        "callbacks_list = [\n",
        "    keras.callbacks.ModelCheckpoint(\n",
        "        filepath='model.h5',\n",
        "        monitor='val_loss', save_best_only=True, verbose=1),\n",
        "    keras.callbacks.EarlyStopping(monitor='val_loss', patience=5,verbose=1)\n",
        "]\n",
        "\n",
        "history = model.fit(\n",
        "    train_ds, train_df['sentiment'], \n",
        "    epochs=2, \n",
        "    verbose=1,\n",
        "    callbacks = callbacks_list,\n",
        "    validation_data=(valid_ds, valid_df['sentiment']))"
      ],
      "execution_count": 62,
      "outputs": [
        {
          "output_type": "stream",
          "name": "stdout",
          "text": [
            "Epoch 1/2\n",
            "100/100 [==============================] - ETA: 0s - loss: 0.6627 - accuracy: 0.5972\n",
            "Epoch 00001: val_loss improved from inf to 0.65578, saving model to model.h5\n",
            "100/100 [==============================] - 56s 502ms/step - loss: 0.6627 - accuracy: 0.5972 - val_loss: 0.6558 - val_accuracy: 0.6200\n",
            "Epoch 2/2\n",
            "100/100 [==============================] - ETA: 0s - loss: 0.6378 - accuracy: 0.6172\n",
            "Epoch 00002: val_loss improved from 0.65578 to 0.64721, saving model to model.h5\n",
            "100/100 [==============================] - 48s 481ms/step - loss: 0.6378 - accuracy: 0.6172 - val_loss: 0.6472 - val_accuracy: 0.6100\n"
          ]
        }
      ]
    },
    {
      "cell_type": "code",
      "metadata": {
        "colab": {
          "base_uri": "https://localhost:8080/",
          "height": 482
        },
        "id": "UWFgqpKaeJAw",
        "outputId": "9c8a318a-c1cf-4449-ef92-9b28e9f55324"
      },
      "source": [
        "import matplotlib.pyplot as plt\n",
        "fig, ax = plt.subplots(1,2, figsize=(16,8))\n",
        "ax[0].plot(history.history['loss'], color='b', label=\"Training loss\")\n",
        "ax[0].plot(history.history['val_loss'], color='r', label=\"validation loss\",axes =ax[0])\n",
        "legend = ax[0].legend(loc='best', shadow=True)\n",
        "\n",
        "ax[1].plot(history.history['accuracy'], color='b', label=\"Training accuracy\")\n",
        "ax[1].plot(history.history['val_accuracy'], color='r',label=\"Validation accuracy\")\n",
        "legend = ax[1].legend(loc='best', shadow=True)"
      ],
      "execution_count": 63,
      "outputs": [
        {
          "output_type": "display_data",
          "data": {
            "image/png": "[encoded data removed]",
            "text/plain": [
              "<Figure size 1152x576 with 2 Axes>"
            ]
          },
          "metadata": {
            "needs_background": "light"
          }
        }
      ]
    },
    {
      "cell_type": "code",
      "metadata": {
        "colab": {
          "base_uri": "https://localhost:8080/"
        },
        "id": "EAMdNKp-eO2Q",
        "outputId": "d6da4340-a9fc-476e-8893-93cec1febec1"
      },
      "source": [
        "model = load_model('model.h5')\n",
        "\n",
        "y_pred = model.predict(test_ds)\n",
        "y_pred = [1 if x >=0.5 else 0 for x in y_pred]\n",
        "print(classification_report(test_df['sentiment'], y_pred, target_names=['0','1']))"
      ],
      "execution_count": 64,
      "outputs": [
        {
          "output_type": "stream",
          "name": "stdout",
          "text": [
            "              precision    recall  f1-score   support\n",
            "\n",
            "           0       0.67      0.67      0.67       478\n",
            "           1       0.51      0.51      0.51       322\n",
            "\n",
            "    accuracy                           0.60       800\n",
            "   macro avg       0.59      0.59      0.59       800\n",
            "weighted avg       0.60      0.60      0.60       800\n",
            "\n"
          ]
        }
      ]
    },
    {
      "cell_type": "markdown",
      "metadata": {
        "id": "8GwYpKL1fK8f"
      },
      "source": [
        "# Using a Transformer¶\n"
      ]
    },
    {
      "cell_type": "code",
      "metadata": {
        "id": "HD6Xg_P0eeAn"
      },
      "source": [
        "class TransformerBlock(layers.Layer):\n",
        "    def __init__(self, embed_dim, num_heads, ff_dim, rate=0.1, name=None, **kwargs):\n",
        "        super(TransformerBlock, self).__init__(name=name)\n",
        "        self.embed_dim = embed_dim\n",
        "        self.num_heads = num_heads\n",
        "        self.ff_dim = ff_dim\n",
        "        self.rate = rate\n",
        "        super(TransformerBlock, self).__init__(**kwargs)\n",
        "        self.att = layers.MultiHeadAttention(num_heads=num_heads, key_dim=embed_dim)\n",
        "        self.ffn = keras.Sequential(\n",
        "            [layers.Dense(ff_dim, activation=\"relu\"), layers.Dense(embed_dim),]\n",
        "        )\n",
        "        self.layernorm1 = layers.LayerNormalization(epsilon=1e-6)\n",
        "        self.layernorm2 = layers.LayerNormalization(epsilon=1e-6)\n",
        "        self.dropout1 = layers.Dropout(rate)\n",
        "        self.dropout2 = layers.Dropout(rate)\n",
        "\n",
        "    def call(self, inputs, training):\n",
        "        attn_output = self.att(inputs, inputs)\n",
        "        attn_output = self.dropout1(attn_output, training=training)\n",
        "        out1 = self.layernorm1(inputs + attn_output)\n",
        "        ffn_output = self.ffn(out1)\n",
        "        ffn_output = self.dropout2(ffn_output, training=training)\n",
        "        return self.layernorm2(out1 + ffn_output)\n",
        "    \n",
        "    def get_config(self):\n",
        "        config = super().get_config().copy()\n",
        "        config.update({\n",
        "            'embed_dim': self.embed_dim,\n",
        "            'num_heads': self.num_heads,\n",
        "            'ff_dim': self.ff_dim,\n",
        "            'rate': self.rate,\n",
        "        })\n",
        "        return config"
      ],
      "execution_count": 72,
      "outputs": []
    },
    {
      "cell_type": "code",
      "metadata": {
        "id": "MAk-xMGPfQVw"
      },
      "source": [
        "#Two seperate embedding layers, one for tokens, one for token index (positions).\n",
        "class TokenAndPositionEmbedding(layers.Layer):\n",
        "    def __init__(self, maxlen, vocab_size, embed_dim, name=None, **kwargs):\n",
        "        super(TokenAndPositionEmbedding, self).__init__(name=name)\n",
        "        self.maxlen = maxlen\n",
        "        self.vocab_size = vocab_size\n",
        "        self.embed_dim = embed_dim\n",
        "        super(TokenAndPositionEmbedding, self).__init__(**kwargs)\n",
        "        self.token_emb = layers.Embedding(input_dim=vocab_size, output_dim=embed_dim)\n",
        "        self.pos_emb = layers.Embedding(input_dim=maxlen, output_dim=embed_dim)\n",
        "\n",
        "    def call(self, x):\n",
        "        maxlen = tf.shape(x)[-1]\n",
        "        positions = tf.range(start=0, limit=maxlen, delta=1)\n",
        "        positions = self.pos_emb(positions)\n",
        "        x = self.token_emb(x)\n",
        "        return x + positions\n",
        "    \n",
        "    def get_config(self):\n",
        "        config = super().get_config().copy()\n",
        "        config.update({\n",
        "            'maxlen': self.maxlen,\n",
        "            'vocab_size': self.vocab_size,\n",
        "            'embed_dim': self.embed_dim\n",
        "        })\n",
        "        return config"
      ],
      "execution_count": 73,
      "outputs": []
    },
    {
      "cell_type": "code",
      "metadata": {
        "id": "5bCPKpBqfpSM"
      },
      "source": [
        "import keras\n",
        "import keras.utils\n",
        "from keras import utils as np_utils\n",
        "import tensorflow as tf\n",
        "from tensorflow import keras\n",
        "from tensorflow.keras.layers import InputLayer\n",
        "from tensorflow.keras import layers \n",
        "import keras.backend as K\n",
        "from keras.layers import LSTM, Input\n",
        "\n"
      ],
      "execution_count": 74,
      "outputs": []
    },
    {
      "cell_type": "code",
      "metadata": {
        "id": "5kaUJbpnfTKQ"
      },
      "source": [
        "max_features = 20000\n",
        "embedding_dim = 100\n",
        "sequence_length = 500\n",
        "\n",
        "embed_dim = 32  # Embedding size for each token\n",
        "num_heads = 2  # Number of attention heads\n",
        "ff_dim = 32  # Hidden layer size in feed forward network inside transformer\n",
        "\n",
        "inputs = layers.Input(shape=(sequence_length,))\n",
        "embedding_layer = TokenAndPositionEmbedding(sequence_length, max_features, embedding_dim)\n",
        "x = embedding_layer(inputs)\n",
        "transformer_block = TransformerBlock(embedding_dim, num_heads, ff_dim)\n",
        "x = transformer_block(x)\n",
        "x = layers.GlobalAveragePooling1D()(x)\n",
        "x = layers.Dropout(0.1)(x)\n",
        "x = layers.Dense(20, activation=\"relu\")(x)\n",
        "x = layers.Dropout(0.1)(x)\n",
        "outputs = layers.Dense(1, activation=\"sigmoid\")(x)\n",
        "\n",
        "model = keras.Model(inputs=inputs, outputs=outputs)\n",
        "#model.compile(\"adam\", \"sparse_categorical_crossentropy\", metrics=[\"accuracy\"])\n",
        "model.compile(loss=\"binary_crossentropy\", optimizer=\"adam\", metrics=[\"accuracy\"])"
      ],
      "execution_count": 75,
      "outputs": []
    },
    {
      "cell_type": "code",
      "metadata": {
        "colab": {
          "base_uri": "https://localhost:8080/"
        },
        "id": "WPmBHrAJfVGw",
        "outputId": "f9a40e8d-3b43-4d50-e8e0-ef03b71bd5b7"
      },
      "source": [
        "# Train\n",
        "#Salvar o melhor modelo\n",
        "callbacks_list = [\n",
        "    keras.callbacks.ModelCheckpoint(\n",
        "        filepath='model.h5',\n",
        "        monitor='val_loss', save_best_only=True, verbose=1),\n",
        "    keras.callbacks.EarlyStopping(monitor='val_loss', patience=5,verbose=1)\n",
        "]\n",
        "\n",
        "history = model.fit(\n",
        "    train_ds, train_df['sentiment'], \n",
        "    epochs=2, \n",
        "    verbose=1,\n",
        "    callbacks = callbacks_list,\n",
        "    validation_data=(valid_ds, valid_df['sentiment'])\n",
        ")"
      ],
      "execution_count": 76,
      "outputs": [
        {
          "output_type": "stream",
          "name": "stdout",
          "text": [
            "Epoch 1/2\n",
            "100/100 [==============================] - ETA: 0s - loss: 0.6852 - accuracy: 0.5897\n",
            "Epoch 00001: val_loss improved from inf to 0.66771, saving model to model.h5\n",
            "100/100 [==============================] - 9s 74ms/step - loss: 0.6852 - accuracy: 0.5897 - val_loss: 0.6677 - val_accuracy: 0.6220\n",
            "Epoch 2/2\n",
            "100/100 [==============================] - ETA: 0s - loss: 0.6765 - accuracy: 0.5997\n",
            "Epoch 00002: val_loss did not improve from 0.66771\n",
            "100/100 [==============================] - 7s 69ms/step - loss: 0.6765 - accuracy: 0.5997 - val_loss: 0.6711 - val_accuracy: 0.6220\n"
          ]
        }
      ]
    },
    {
      "cell_type": "code",
      "metadata": {
        "colab": {
          "base_uri": "https://localhost:8080/",
          "height": 482
        },
        "id": "AdazGDUafZaw",
        "outputId": "6935f70f-793f-438d-c87d-dca0d42b94b9"
      },
      "source": [
        "import matplotlib.pyplot as plt\n",
        "fig, ax = plt.subplots(1,2, figsize=(16,8))\n",
        "ax[0].plot(history.history['loss'], color='b', label=\"Training loss\")\n",
        "ax[0].plot(history.history['val_loss'], color='r', label=\"validation loss\",axes =ax[0])\n",
        "legend = ax[0].legend(loc='best', shadow=True)\n",
        "\n",
        "ax[1].plot(history.history['accuracy'], color='b', label=\"Training accuracy\")\n",
        "ax[1].plot(history.history['val_accuracy'], color='r',label=\"Validation accuracy\")\n",
        "legend = ax[1].legend(loc='best', shadow=True)"
      ],
      "execution_count": 77,
      "outputs": [
        {
          "output_type": "display_data",
          "data": {
            "image/png": "[encoded data removed]",
            "text/plain": [
              "<Figure size 1152x576 with 2 Axes>"
            ]
          },
          "metadata": {
            "needs_background": "light"
          }
        }
      ]
    },
    {
      "cell_type": "code",
      "metadata": {
        "colab": {
          "base_uri": "https://localhost:8080/"
        },
        "id": "vDyLi9uskiLe",
        "outputId": "6ac7a4be-535b-4eea-ff07-bf2f398a56c9"
      },
      "source": [
        "model = load_model('model.h5', custom_objects={'TokenAndPositionEmbedding': TokenAndPositionEmbedding, 'TransformerBlock': TransformerBlock })\n",
        "\n",
        "y_pred = model.predict(test_ds)\n",
        "y_pred = [1 if x >=0.5 else 0 for x in y_pred]\n",
        "print(classification_report(test_df['sentiment'], y_pred, target_names=['0','1']))"
      ],
      "execution_count": 78,
      "outputs": [
        {
          "output_type": "stream",
          "name": "stdout",
          "text": [
            "              precision    recall  f1-score   support\n",
            "\n",
            "           0       0.60      1.00      0.75       478\n",
            "           1       0.00      0.00      0.00       322\n",
            "\n",
            "    accuracy                           0.60       800\n",
            "   macro avg       0.30      0.50      0.37       800\n",
            "weighted avg       0.36      0.60      0.45       800\n",
            "\n"
          ]
        },
        {
          "output_type": "stream",
          "name": "stderr",
          "text": [
            "/usr/local/lib/python3.7/dist-packages/sklearn/metrics/_classification.py:1308: UndefinedMetricWarning: Precision and F-score are ill-defined and being set to 0.0 in labels with no predicted samples. Use `zero_division` parameter to control this behavior.\n",
            "  _warn_prf(average, modifier, msg_start, len(result))\n",
            "/usr/local/lib/python3.7/dist-packages/sklearn/metrics/_classification.py:1308: UndefinedMetricWarning: Precision and F-score are ill-defined and being set to 0.0 in labels with no predicted samples. Use `zero_division` parameter to control this behavior.\n",
            "  _warn_prf(average, modifier, msg_start, len(result))\n",
            "/usr/local/lib/python3.7/dist-packages/sklearn/metrics/_classification.py:1308: UndefinedMetricWarning: Precision and F-score are ill-defined and being set to 0.0 in labels with no predicted samples. Use `zero_division` parameter to control this behavior.\n",
            "  _warn_prf(average, modifier, msg_start, len(result))\n"
          ]
        }
      ]
    },
    {
      "cell_type": "code",
      "metadata": {
        "id": "MJFWQiidklMe"
      },
      "source": [
        ""
      ],
      "execution_count": 78,
      "outputs": []
    }
  ]
}