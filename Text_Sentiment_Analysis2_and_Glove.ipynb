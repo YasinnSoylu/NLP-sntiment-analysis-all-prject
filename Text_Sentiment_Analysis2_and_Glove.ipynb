{
  "nbformat": 4,
  "nbformat_minor": 0,
  "metadata": {
    "colab": {
      "name": "Text_Sentiment_Analysis2_and_Glove.ipynb",
      "provenance": [],
      "include_colab_link": true
    },
    "kernelspec": {
      "name": "python3",
      "display_name": "Python 3"
    },
    "language_info": {
      "name": "python"
    },
    "accelerator": "TPU"
  },
  "cells": [
    {
      "cell_type": "markdown",
      "metadata": {
        "id": "view-in-github",
        "colab_type": "text"
      },
      "source": [
        "<a href=\"https://colab.research.google.com/github/yasinsoylu1997/NLP-PROJELER-TOPLU/blob/main/Text_Sentiment_Analysis2_and_Glove.ipynb\" target=\"_parent\"><img src=\"https://colab.research.google.com/assets/colab-badge.svg\" alt=\"Open In Colab\"/></a>"
      ]
    },
    {
      "cell_type": "code",
      "metadata": {
        "id": "f3Du7t42EzDV"
      },
      "source": [
        "import os\n",
        "import re\n",
        "from tqdm import tqdm\n",
        "import numpy as np\n",
        "import pandas as pd\n",
        "import matplotlib.pyplot as plt\n",
        "\n",
        "%matplotlib inline"
      ],
      "execution_count": 1,
      "outputs": []
    },
    {
      "cell_type": "code",
      "metadata": {
        "id": "9rg9W-vlFaMG"
      },
      "source": [
        "dataset = pd.read_csv('sample.csv')\n",
        "data=dataset[[\"yildizSayisi\",\"yorum\"]]\n",
        "data = data.sample(frac=1).reset_index(drop=True)\n",
        "data=data[:10000]"
      ],
      "execution_count": 2,
      "outputs": []
    },
    {
      "cell_type": "code",
      "source": [
        "dataset"
      ],
      "metadata": {
        "colab": {
          "base_uri": "https://localhost:8080/",
          "height": 423
        },
        "id": "AEhcUtavSsci",
        "outputId": "9c33c5eb-aa3b-4259-8543-5197b63b20fb"
      },
      "execution_count": 3,
      "outputs": [
        {
          "output_type": "execute_result",
          "data": {
            "text/html": [
              "<div>\n",
              "<style scoped>\n",
              "    .dataframe tbody tr th:only-of-type {\n",
              "        vertical-align: middle;\n",
              "    }\n",
              "\n",
              "    .dataframe tbody tr th {\n",
              "        vertical-align: top;\n",
              "    }\n",
              "\n",
              "    .dataframe thead th {\n",
              "        text-align: right;\n",
              "    }\n",
              "</style>\n",
              "<table border=\"1\" class=\"dataframe\">\n",
              "  <thead>\n",
              "    <tr style=\"text-align: right;\">\n",
              "      <th></th>\n",
              "      <th>yildizSayisi</th>\n",
              "      <th>yorum</th>\n",
              "      <th>yorumLike</th>\n",
              "    </tr>\n",
              "  </thead>\n",
              "  <tbody>\n",
              "    <tr>\n",
              "      <th>0</th>\n",
              "      <td>1</td>\n",
              "      <td>İlk ürünüm sorunsuz geldi lakin bunda prize ta...</td>\n",
              "      <td>0</td>\n",
              "    </tr>\n",
              "    <tr>\n",
              "      <th>1</th>\n",
              "      <td>1</td>\n",
              "      <td>Ürünü teslim aldığım günün ertesi iade için ka...</td>\n",
              "      <td>7</td>\n",
              "    </tr>\n",
              "    <tr>\n",
              "      <th>2</th>\n",
              "      <td>1</td>\n",
              "      <td>kesinlikle beğenmedim kullanmaya başladıktan 1...</td>\n",
              "      <td>2</td>\n",
              "    </tr>\n",
              "    <tr>\n",
              "      <th>3</th>\n",
              "      <td>1</td>\n",
              "      <td>Merhaba ürün elime ulaştı ama ürün bir çalışıy...</td>\n",
              "      <td>1</td>\n",
              "    </tr>\n",
              "    <tr>\n",
              "      <th>4</th>\n",
              "      <td>1</td>\n",
              "      <td>kargo hızlı o konuda haksızlık yapamam ama ürü...</td>\n",
              "      <td>2</td>\n",
              "    </tr>\n",
              "    <tr>\n",
              "      <th>...</th>\n",
              "      <td>...</td>\n",
              "      <td>...</td>\n",
              "      <td>...</td>\n",
              "    </tr>\n",
              "    <tr>\n",
              "      <th>49995</th>\n",
              "      <td>5</td>\n",
              "      <td>Çok güzel çok beğendim tafsiye ederim</td>\n",
              "      <td>0</td>\n",
              "    </tr>\n",
              "    <tr>\n",
              "      <th>49996</th>\n",
              "      <td>5</td>\n",
              "      <td>Vallahi çok işime yaradı. Aylarda öyle boşuna ...</td>\n",
              "      <td>0</td>\n",
              "    </tr>\n",
              "    <tr>\n",
              "      <th>49997</th>\n",
              "      <td>5</td>\n",
              "      <td>olması gerektigi gibi , kenarda hazırda beklem...</td>\n",
              "      <td>0</td>\n",
              "    </tr>\n",
              "    <tr>\n",
              "      <th>49998</th>\n",
              "      <td>5</td>\n",
              "      <td>arçelik bulaşık makinesi için aldım servis olm...</td>\n",
              "      <td>0</td>\n",
              "    </tr>\n",
              "    <tr>\n",
              "      <th>49999</th>\n",
              "      <td>5</td>\n",
              "      <td>Fazladan koymuslar cok teşekkür ederim makınan...</td>\n",
              "      <td>0</td>\n",
              "    </tr>\n",
              "  </tbody>\n",
              "</table>\n",
              "<p>50000 rows × 3 columns</p>\n",
              "</div>"
            ],
            "text/plain": [
              "       yildizSayisi  ... yorumLike\n",
              "0                 1  ...         0\n",
              "1                 1  ...         7\n",
              "2                 1  ...         2\n",
              "3                 1  ...         1\n",
              "4                 1  ...         2\n",
              "...             ...  ...       ...\n",
              "49995             5  ...         0\n",
              "49996             5  ...         0\n",
              "49997             5  ...         0\n",
              "49998             5  ...         0\n",
              "49999             5  ...         0\n",
              "\n",
              "[50000 rows x 3 columns]"
            ]
          },
          "metadata": {},
          "execution_count": 3
        }
      ]
    },
    {
      "cell_type": "code",
      "metadata": {
        "id": "rew7UxOLLNrx"
      },
      "source": [
        "dataset = pd.read_csv('sample.csv')\n",
        "def sentiments(df):\n",
        "  if df['yildizSayisi'] > 3.9:\n",
        "    return 'Positive'\n",
        "  elif df['yildizSayisi'] <= 3.0:\n",
        "    return 'Negative'\n",
        "data['sentiment'] = data.apply(sentiments, axis=1)"
      ],
      "execution_count": 4,
      "outputs": []
    },
    {
      "cell_type": "code",
      "metadata": {
        "colab": {
          "base_uri": "https://localhost:8080/",
          "height": 423
        },
        "id": "1hPsYWBtLOfz",
        "outputId": "bdcd15e5-b793-4136-e4c7-b42c144bdd84"
      },
      "source": [
        "data"
      ],
      "execution_count": 5,
      "outputs": [
        {
          "output_type": "execute_result",
          "data": {
            "text/html": [
              "<div>\n",
              "<style scoped>\n",
              "    .dataframe tbody tr th:only-of-type {\n",
              "        vertical-align: middle;\n",
              "    }\n",
              "\n",
              "    .dataframe tbody tr th {\n",
              "        vertical-align: top;\n",
              "    }\n",
              "\n",
              "    .dataframe thead th {\n",
              "        text-align: right;\n",
              "    }\n",
              "</style>\n",
              "<table border=\"1\" class=\"dataframe\">\n",
              "  <thead>\n",
              "    <tr style=\"text-align: right;\">\n",
              "      <th></th>\n",
              "      <th>yildizSayisi</th>\n",
              "      <th>yorum</th>\n",
              "      <th>sentiment</th>\n",
              "    </tr>\n",
              "  </thead>\n",
              "  <tbody>\n",
              "    <tr>\n",
              "      <th>0</th>\n",
              "      <td>3</td>\n",
              "      <td>kargolama hızlıydı. ama radyo kalitesi iyi değ...</td>\n",
              "      <td>Negative</td>\n",
              "    </tr>\n",
              "    <tr>\n",
              "      <th>1</th>\n",
              "      <td>2</td>\n",
              "      <td>Modeli guzel ama kalitesi kotu. 1 haftadir kul...</td>\n",
              "      <td>Negative</td>\n",
              "    </tr>\n",
              "    <tr>\n",
              "      <th>2</th>\n",
              "      <td>5</td>\n",
              "      <td>kaliteli paketlenmiş gayet güzel kullanımıda</td>\n",
              "      <td>Positive</td>\n",
              "    </tr>\n",
              "    <tr>\n",
              "      <th>3</th>\n",
              "      <td>1</td>\n",
              "      <td>Hafif dalgalı saçınız varsa, asla düzleştirmiy...</td>\n",
              "      <td>Negative</td>\n",
              "    </tr>\n",
              "    <tr>\n",
              "      <th>4</th>\n",
              "      <td>3</td>\n",
              "      <td>Bilmiyorum çok etkili değil sanırım</td>\n",
              "      <td>Negative</td>\n",
              "    </tr>\n",
              "    <tr>\n",
              "      <th>...</th>\n",
              "      <td>...</td>\n",
              "      <td>...</td>\n",
              "      <td>...</td>\n",
              "    </tr>\n",
              "    <tr>\n",
              "      <th>9995</th>\n",
              "      <td>3</td>\n",
              "      <td>Mükemmel şekil veriyor diyemem daha çok kurutm...</td>\n",
              "      <td>Negative</td>\n",
              "    </tr>\n",
              "    <tr>\n",
              "      <th>9996</th>\n",
              "      <td>4</td>\n",
              "      <td>gorsel olarakta işlevsel olarakta cok ideal bi...</td>\n",
              "      <td>Positive</td>\n",
              "    </tr>\n",
              "    <tr>\n",
              "      <th>9997</th>\n",
              "      <td>5</td>\n",
              "      <td>silverline cam ankastre tam oldu cok guzel</td>\n",
              "      <td>Positive</td>\n",
              "    </tr>\n",
              "    <tr>\n",
              "      <th>9998</th>\n",
              "      <td>1</td>\n",
              "      <td>Beğenmedim ayakları sağlam değil sallanıyor ür...</td>\n",
              "      <td>Negative</td>\n",
              "    </tr>\n",
              "    <tr>\n",
              "      <th>9999</th>\n",
              "      <td>5</td>\n",
              "      <td>Ürün çok şık ve fiyatına göre çok kaliteli pak...</td>\n",
              "      <td>Positive</td>\n",
              "    </tr>\n",
              "  </tbody>\n",
              "</table>\n",
              "<p>10000 rows × 3 columns</p>\n",
              "</div>"
            ],
            "text/plain": [
              "      yildizSayisi                                              yorum sentiment\n",
              "0                3  kargolama hızlıydı. ama radyo kalitesi iyi değ...  Negative\n",
              "1                2  Modeli guzel ama kalitesi kotu. 1 haftadir kul...  Negative\n",
              "2                5       kaliteli paketlenmiş gayet güzel kullanımıda  Positive\n",
              "3                1  Hafif dalgalı saçınız varsa, asla düzleştirmiy...  Negative\n",
              "4                3                Bilmiyorum çok etkili değil sanırım  Negative\n",
              "...            ...                                                ...       ...\n",
              "9995             3  Mükemmel şekil veriyor diyemem daha çok kurutm...  Negative\n",
              "9996             4  gorsel olarakta işlevsel olarakta cok ideal bi...  Positive\n",
              "9997             5         silverline cam ankastre tam oldu cok guzel  Positive\n",
              "9998             1  Beğenmedim ayakları sağlam değil sallanıyor ür...  Negative\n",
              "9999             5  Ürün çok şık ve fiyatına göre çok kaliteli pak...  Positive\n",
              "\n",
              "[10000 rows x 3 columns]"
            ]
          },
          "metadata": {},
          "execution_count": 5
        }
      ]
    },
    {
      "cell_type": "code",
      "source": [
        "data[\"sentiment\"].unique()"
      ],
      "metadata": {
        "colab": {
          "base_uri": "https://localhost:8080/"
        },
        "id": "cqEn0WB6SMJl",
        "outputId": "565edc34-1263-40eb-f020-7317c062e498"
      },
      "execution_count": 6,
      "outputs": [
        {
          "output_type": "execute_result",
          "data": {
            "text/plain": [
              "array(['Negative', 'Positive'], dtype=object)"
            ]
          },
          "metadata": {},
          "execution_count": 6
        }
      ]
    },
    {
      "cell_type": "code",
      "metadata": {
        "id": "G632W5K8LQNb"
      },
      "source": [
        ""
      ],
      "execution_count": 6,
      "outputs": []
    },
    {
      "cell_type": "code",
      "metadata": {
        "id": "GkYKDN861XWO"
      },
      "source": [
        "data=data[[\"yorum\",\"sentiment\"]]"
      ],
      "execution_count": 7,
      "outputs": []
    },
    {
      "cell_type": "code",
      "metadata": {
        "colab": {
          "base_uri": "https://localhost:8080/",
          "height": 467
        },
        "id": "-m5DPA3x1ei2",
        "outputId": "53a187f2-9a73-4c39-c7b2-45cceb015588"
      },
      "source": [
        "labeling = {\n",
        "    'Positive':1, \n",
        "    'Negative':0\n",
        "}\n",
        "\n",
        "data['sentiment'] = data['sentiment'].apply(lambda x : labeling[x])\n",
        "# Output first ten rows\n",
        "data.head(10)"
      ],
      "execution_count": 8,
      "outputs": [
        {
          "output_type": "stream",
          "name": "stderr",
          "text": [
            "/usr/local/lib/python3.7/dist-packages/ipykernel_launcher.py:6: SettingWithCopyWarning: \n",
            "A value is trying to be set on a copy of a slice from a DataFrame.\n",
            "Try using .loc[row_indexer,col_indexer] = value instead\n",
            "\n",
            "See the caveats in the documentation: https://pandas.pydata.org/pandas-docs/stable/user_guide/indexing.html#returning-a-view-versus-a-copy\n",
            "  \n"
          ]
        },
        {
          "output_type": "execute_result",
          "data": {
            "text/html": [
              "<div>\n",
              "<style scoped>\n",
              "    .dataframe tbody tr th:only-of-type {\n",
              "        vertical-align: middle;\n",
              "    }\n",
              "\n",
              "    .dataframe tbody tr th {\n",
              "        vertical-align: top;\n",
              "    }\n",
              "\n",
              "    .dataframe thead th {\n",
              "        text-align: right;\n",
              "    }\n",
              "</style>\n",
              "<table border=\"1\" class=\"dataframe\">\n",
              "  <thead>\n",
              "    <tr style=\"text-align: right;\">\n",
              "      <th></th>\n",
              "      <th>yorum</th>\n",
              "      <th>sentiment</th>\n",
              "    </tr>\n",
              "  </thead>\n",
              "  <tbody>\n",
              "    <tr>\n",
              "      <th>0</th>\n",
              "      <td>kargolama hızlıydı. ama radyo kalitesi iyi değ...</td>\n",
              "      <td>0</td>\n",
              "    </tr>\n",
              "    <tr>\n",
              "      <th>1</th>\n",
              "      <td>Modeli guzel ama kalitesi kotu. 1 haftadir kul...</td>\n",
              "      <td>0</td>\n",
              "    </tr>\n",
              "    <tr>\n",
              "      <th>2</th>\n",
              "      <td>kaliteli paketlenmiş gayet güzel kullanımıda</td>\n",
              "      <td>1</td>\n",
              "    </tr>\n",
              "    <tr>\n",
              "      <th>3</th>\n",
              "      <td>Hafif dalgalı saçınız varsa, asla düzleştirmiy...</td>\n",
              "      <td>0</td>\n",
              "    </tr>\n",
              "    <tr>\n",
              "      <th>4</th>\n",
              "      <td>Bilmiyorum çok etkili değil sanırım</td>\n",
              "      <td>0</td>\n",
              "    </tr>\n",
              "    <tr>\n",
              "      <th>5</th>\n",
              "      <td>Ürünün malzeme kalitesi berbat, telefonu takar...</td>\n",
              "      <td>0</td>\n",
              "    </tr>\n",
              "    <tr>\n",
              "      <th>6</th>\n",
              "      <td>Kargo hızlıydı ürün idare eder çok kırıyo tüyl...</td>\n",
              "      <td>0</td>\n",
              "    </tr>\n",
              "    <tr>\n",
              "      <th>7</th>\n",
              "      <td>Bosch marka ocağıma büyük geldi maalesef..</td>\n",
              "      <td>0</td>\n",
              "    </tr>\n",
              "    <tr>\n",
              "      <th>8</th>\n",
              "      <td>Ürün geldıgınde saglamdı ama cabuk bozuldu bel...</td>\n",
              "      <td>1</td>\n",
              "    </tr>\n",
              "    <tr>\n",
              "      <th>9</th>\n",
              "      <td>almanızı kesinlikle tavsiye etmem kökünden alm...</td>\n",
              "      <td>0</td>\n",
              "    </tr>\n",
              "  </tbody>\n",
              "</table>\n",
              "</div>"
            ],
            "text/plain": [
              "                                               yorum  sentiment\n",
              "0  kargolama hızlıydı. ama radyo kalitesi iyi değ...          0\n",
              "1  Modeli guzel ama kalitesi kotu. 1 haftadir kul...          0\n",
              "2       kaliteli paketlenmiş gayet güzel kullanımıda          1\n",
              "3  Hafif dalgalı saçınız varsa, asla düzleştirmiy...          0\n",
              "4                Bilmiyorum çok etkili değil sanırım          0\n",
              "5  Ürünün malzeme kalitesi berbat, telefonu takar...          0\n",
              "6  Kargo hızlıydı ürün idare eder çok kırıyo tüyl...          0\n",
              "7         Bosch marka ocağıma büyük geldi maalesef..          0\n",
              "8  Ürün geldıgınde saglamdı ama cabuk bozuldu bel...          1\n",
              "9  almanızı kesinlikle tavsiye etmem kökünden alm...          0"
            ]
          },
          "metadata": {},
          "execution_count": 8
        }
      ]
    },
    {
      "cell_type": "code",
      "metadata": {
        "id": "kKlTAgmPLmeb"
      },
      "source": [
        "from sklearn.model_selection import train_test_split\n",
        "\n",
        "train_df , valid_df  = train_test_split(data, test_size=0.2, random_state=42)"
      ],
      "execution_count": 9,
      "outputs": []
    },
    {
      "cell_type": "code",
      "metadata": {
        "id": "EU0ubqQqL5hI"
      },
      "source": [
        "train_df , test_df   = train_test_split(train_df, test_size=0.2, random_state=42)"
      ],
      "execution_count": 10,
      "outputs": []
    },
    {
      "cell_type": "code",
      "metadata": {
        "colab": {
          "base_uri": "https://localhost:8080/",
          "height": 206
        },
        "id": "R8rvTZ1lLVES",
        "outputId": "6d0b5087-7aa9-4db3-bcbc-59f594286085"
      },
      "source": [
        "# Turnig all text to lowercase\n",
        "train_df['yorum'] = train_df['yorum'].str.lower()\n",
        "valid_df['yorum'] = valid_df['yorum'].str.lower()\n",
        "test_df['yorum'] = test_df['yorum'].str.lower()\n",
        "train_df.head()"
      ],
      "execution_count": 11,
      "outputs": [
        {
          "output_type": "execute_result",
          "data": {
            "text/html": [
              "<div>\n",
              "<style scoped>\n",
              "    .dataframe tbody tr th:only-of-type {\n",
              "        vertical-align: middle;\n",
              "    }\n",
              "\n",
              "    .dataframe tbody tr th {\n",
              "        vertical-align: top;\n",
              "    }\n",
              "\n",
              "    .dataframe thead th {\n",
              "        text-align: right;\n",
              "    }\n",
              "</style>\n",
              "<table border=\"1\" class=\"dataframe\">\n",
              "  <thead>\n",
              "    <tr style=\"text-align: right;\">\n",
              "      <th></th>\n",
              "      <th>yorum</th>\n",
              "      <th>sentiment</th>\n",
              "    </tr>\n",
              "  </thead>\n",
              "  <tbody>\n",
              "    <tr>\n",
              "      <th>2579</th>\n",
              "      <td>arkadaşlar kolay kolay bişeye yorum yapmam ama...</td>\n",
              "      <td>0</td>\n",
              "    </tr>\n",
              "    <tr>\n",
              "      <th>7128</th>\n",
              "      <td>saçlarım ileri derece yandı ve koltu düzleştir...</td>\n",
              "      <td>1</td>\n",
              "    </tr>\n",
              "    <tr>\n",
              "      <th>4082</th>\n",
              "      <td>çok çabuk bozuldu</td>\n",
              "      <td>0</td>\n",
              "    </tr>\n",
              "    <tr>\n",
              "      <th>2550</th>\n",
              "      <td>hızlı teslimat, sıkıntısız süreç,güvenilir mag...</td>\n",
              "      <td>1</td>\n",
              "    </tr>\n",
              "    <tr>\n",
              "      <th>4926</th>\n",
              "      <td>cok hızlı ısınıyor suyu çabuk kaynatiyor ama c...</td>\n",
              "      <td>0</td>\n",
              "    </tr>\n",
              "  </tbody>\n",
              "</table>\n",
              "</div>"
            ],
            "text/plain": [
              "                                                  yorum  sentiment\n",
              "2579  arkadaşlar kolay kolay bişeye yorum yapmam ama...          0\n",
              "7128  saçlarım ileri derece yandı ve koltu düzleştir...          1\n",
              "4082                                  çok çabuk bozuldu          0\n",
              "2550  hızlı teslimat, sıkıntısız süreç,güvenilir mag...          1\n",
              "4926  cok hızlı ısınıyor suyu çabuk kaynatiyor ama c...          0"
            ]
          },
          "metadata": {},
          "execution_count": 11
        }
      ]
    },
    {
      "cell_type": "code",
      "metadata": {
        "colab": {
          "base_uri": "https://localhost:8080/",
          "height": 206
        },
        "id": "4hWTmv8KLaWj",
        "outputId": "9fa05219-a8f0-4008-8679-26371bc99498"
      },
      "source": [
        "# Removing ponctuation\n",
        "import string\n",
        "\n",
        "exclude = set(string.punctuation) \n",
        "\n",
        "def remove_punctuation(x): \n",
        "    try: \n",
        "        x = ''.join(ch for ch in x if ch not in exclude) \n",
        "    except: \n",
        "        pass \n",
        "    return x \n",
        "\n",
        "train_df['yorum'] = train_df['yorum'].apply(remove_punctuation)\n",
        "valid_df['yorum'] = valid_df['yorum'].apply(remove_punctuation)\n",
        "test_df['yorum'] = test_df['yorum'].apply(remove_punctuation)\n",
        "train_df.head()"
      ],
      "execution_count": 12,
      "outputs": [
        {
          "output_type": "execute_result",
          "data": {
            "text/html": [
              "<div>\n",
              "<style scoped>\n",
              "    .dataframe tbody tr th:only-of-type {\n",
              "        vertical-align: middle;\n",
              "    }\n",
              "\n",
              "    .dataframe tbody tr th {\n",
              "        vertical-align: top;\n",
              "    }\n",
              "\n",
              "    .dataframe thead th {\n",
              "        text-align: right;\n",
              "    }\n",
              "</style>\n",
              "<table border=\"1\" class=\"dataframe\">\n",
              "  <thead>\n",
              "    <tr style=\"text-align: right;\">\n",
              "      <th></th>\n",
              "      <th>yorum</th>\n",
              "      <th>sentiment</th>\n",
              "    </tr>\n",
              "  </thead>\n",
              "  <tbody>\n",
              "    <tr>\n",
              "      <th>2579</th>\n",
              "      <td>arkadaşlar kolay kolay bişeye yorum yapmam ama...</td>\n",
              "      <td>0</td>\n",
              "    </tr>\n",
              "    <tr>\n",
              "      <th>7128</th>\n",
              "      <td>saçlarım ileri derece yandı ve koltu düzleştir...</td>\n",
              "      <td>1</td>\n",
              "    </tr>\n",
              "    <tr>\n",
              "      <th>4082</th>\n",
              "      <td>çok çabuk bozuldu</td>\n",
              "      <td>0</td>\n",
              "    </tr>\n",
              "    <tr>\n",
              "      <th>2550</th>\n",
              "      <td>hızlı teslimat sıkıntısız süreçgüvenilir magaz...</td>\n",
              "      <td>1</td>\n",
              "    </tr>\n",
              "    <tr>\n",
              "      <th>4926</th>\n",
              "      <td>cok hızlı ısınıyor suyu çabuk kaynatiyor ama c...</td>\n",
              "      <td>0</td>\n",
              "    </tr>\n",
              "  </tbody>\n",
              "</table>\n",
              "</div>"
            ],
            "text/plain": [
              "                                                  yorum  sentiment\n",
              "2579  arkadaşlar kolay kolay bişeye yorum yapmam ama...          0\n",
              "7128  saçlarım ileri derece yandı ve koltu düzleştir...          1\n",
              "4082                                  çok çabuk bozuldu          0\n",
              "2550  hızlı teslimat sıkıntısız süreçgüvenilir magaz...          1\n",
              "4926  cok hızlı ısınıyor suyu çabuk kaynatiyor ama c...          0"
            ]
          },
          "metadata": {},
          "execution_count": 12
        }
      ]
    },
    {
      "cell_type": "code",
      "metadata": {
        "colab": {
          "base_uri": "https://localhost:8080/"
        },
        "id": "5HdNur0aMXpq",
        "outputId": "15e54a89-127b-421a-8c85-816e0ca5b692"
      },
      "source": [
        "import nltk\n",
        "nltk.download('stopwords')"
      ],
      "execution_count": 13,
      "outputs": [
        {
          "output_type": "stream",
          "name": "stdout",
          "text": [
            "[nltk_data] Downloading package stopwords to /root/nltk_data...\n",
            "[nltk_data]   Package stopwords is already up-to-date!\n"
          ]
        },
        {
          "output_type": "execute_result",
          "data": {
            "text/plain": [
              "True"
            ]
          },
          "metadata": {},
          "execution_count": 13
        }
      ]
    },
    {
      "cell_type": "code",
      "metadata": {
        "colab": {
          "base_uri": "https://localhost:8080/",
          "height": 206
        },
        "id": "qHLLw_vtMJM6",
        "outputId": "ce589f08-5584-4f84-c2b0-4fd8bc37fa19"
      },
      "source": [
        "# Removing stopwords\n",
        "from nltk.corpus import stopwords\n",
        "\n",
        "stop = stopwords.words('turkish')\n",
        "\n",
        "train_df['yorum'] = train_df['yorum'].apply(lambda x: ' '.join([word for word in x.split() if word not in (stop)]))\n",
        "valid_df['yorum'] = valid_df['yorum'].apply(lambda x: ' '.join([word for word in x.split() if word not in (stop)]))\n",
        "test_df['yorum'] = test_df['yorum'].apply(lambda x: ' '.join([word for word in x.split() if word not in (stop)]))\n",
        "train_df.head()"
      ],
      "execution_count": 14,
      "outputs": [
        {
          "output_type": "execute_result",
          "data": {
            "text/html": [
              "<div>\n",
              "<style scoped>\n",
              "    .dataframe tbody tr th:only-of-type {\n",
              "        vertical-align: middle;\n",
              "    }\n",
              "\n",
              "    .dataframe tbody tr th {\n",
              "        vertical-align: top;\n",
              "    }\n",
              "\n",
              "    .dataframe thead th {\n",
              "        text-align: right;\n",
              "    }\n",
              "</style>\n",
              "<table border=\"1\" class=\"dataframe\">\n",
              "  <thead>\n",
              "    <tr style=\"text-align: right;\">\n",
              "      <th></th>\n",
              "      <th>yorum</th>\n",
              "      <th>sentiment</th>\n",
              "    </tr>\n",
              "  </thead>\n",
              "  <tbody>\n",
              "    <tr>\n",
              "      <th>2579</th>\n",
              "      <td>arkadaşlar kolay kolay bişeye yorum yapmam ger...</td>\n",
              "      <td>0</td>\n",
              "    </tr>\n",
              "    <tr>\n",
              "      <th>7128</th>\n",
              "      <td>saçlarım ileri derece yandı koltu düzleştirici...</td>\n",
              "      <td>1</td>\n",
              "    </tr>\n",
              "    <tr>\n",
              "      <th>4082</th>\n",
              "      <td>çabuk bozuldu</td>\n",
              "      <td>0</td>\n",
              "    </tr>\n",
              "    <tr>\n",
              "      <th>2550</th>\n",
              "      <td>hızlı teslimat sıkıntısız süreçgüvenilir magaz...</td>\n",
              "      <td>1</td>\n",
              "    </tr>\n",
              "    <tr>\n",
              "      <th>4926</th>\n",
              "      <td>cok hızlı ısınıyor suyu çabuk kaynatiyor cok e...</td>\n",
              "      <td>0</td>\n",
              "    </tr>\n",
              "  </tbody>\n",
              "</table>\n",
              "</div>"
            ],
            "text/plain": [
              "                                                  yorum  sentiment\n",
              "2579  arkadaşlar kolay kolay bişeye yorum yapmam ger...          0\n",
              "7128  saçlarım ileri derece yandı koltu düzleştirici...          1\n",
              "4082                                      çabuk bozuldu          0\n",
              "2550  hızlı teslimat sıkıntısız süreçgüvenilir magaz...          1\n",
              "4926  cok hızlı ısınıyor suyu çabuk kaynatiyor cok e...          0"
            ]
          },
          "metadata": {},
          "execution_count": 14
        }
      ]
    },
    {
      "cell_type": "markdown",
      "metadata": {
        "id": "bQAI1HKSMsZD"
      },
      "source": [
        "# Classical Model with TF-IDF and SVM¶\n"
      ]
    },
    {
      "cell_type": "code",
      "metadata": {
        "id": "R3IwUF2OMVGR"
      },
      "source": [
        "from sklearn.feature_extraction.text import TfidfVectorizer\n",
        "\n",
        "# Create feature vectors for every sentence\n",
        "vectorizer = TfidfVectorizer(#min_df = 5,\n",
        "                             #max_df = 0.8,\n",
        "                             max_features = 20000,\n",
        "                             sublinear_tf = True,\n",
        "                             use_idf = True)#, stop_words='english')#vocabulary = list(embeddings_index.keys()\n",
        "\n",
        "train_vectors = vectorizer.fit_transform(train_df['yorum'])\n",
        "valid_vectors = vectorizer.transform(valid_df['yorum'])\n",
        "test_vectors = vectorizer.transform(test_df['yorum'])"
      ],
      "execution_count": 15,
      "outputs": []
    },
    {
      "cell_type": "code",
      "metadata": {
        "colab": {
          "base_uri": "https://localhost:8080/",
          "height": 423
        },
        "id": "MD_S7XlPND73",
        "outputId": "7fb0b6c3-2e4a-4820-ee5a-e26c22c832d3"
      },
      "source": [
        "data"
      ],
      "execution_count": 16,
      "outputs": [
        {
          "output_type": "execute_result",
          "data": {
            "text/html": [
              "<div>\n",
              "<style scoped>\n",
              "    .dataframe tbody tr th:only-of-type {\n",
              "        vertical-align: middle;\n",
              "    }\n",
              "\n",
              "    .dataframe tbody tr th {\n",
              "        vertical-align: top;\n",
              "    }\n",
              "\n",
              "    .dataframe thead th {\n",
              "        text-align: right;\n",
              "    }\n",
              "</style>\n",
              "<table border=\"1\" class=\"dataframe\">\n",
              "  <thead>\n",
              "    <tr style=\"text-align: right;\">\n",
              "      <th></th>\n",
              "      <th>yorum</th>\n",
              "      <th>sentiment</th>\n",
              "    </tr>\n",
              "  </thead>\n",
              "  <tbody>\n",
              "    <tr>\n",
              "      <th>0</th>\n",
              "      <td>kargolama hızlıydı. ama radyo kalitesi iyi değ...</td>\n",
              "      <td>0</td>\n",
              "    </tr>\n",
              "    <tr>\n",
              "      <th>1</th>\n",
              "      <td>Modeli guzel ama kalitesi kotu. 1 haftadir kul...</td>\n",
              "      <td>0</td>\n",
              "    </tr>\n",
              "    <tr>\n",
              "      <th>2</th>\n",
              "      <td>kaliteli paketlenmiş gayet güzel kullanımıda</td>\n",
              "      <td>1</td>\n",
              "    </tr>\n",
              "    <tr>\n",
              "      <th>3</th>\n",
              "      <td>Hafif dalgalı saçınız varsa, asla düzleştirmiy...</td>\n",
              "      <td>0</td>\n",
              "    </tr>\n",
              "    <tr>\n",
              "      <th>4</th>\n",
              "      <td>Bilmiyorum çok etkili değil sanırım</td>\n",
              "      <td>0</td>\n",
              "    </tr>\n",
              "    <tr>\n",
              "      <th>...</th>\n",
              "      <td>...</td>\n",
              "      <td>...</td>\n",
              "    </tr>\n",
              "    <tr>\n",
              "      <th>9995</th>\n",
              "      <td>Mükemmel şekil veriyor diyemem daha çok kurutm...</td>\n",
              "      <td>0</td>\n",
              "    </tr>\n",
              "    <tr>\n",
              "      <th>9996</th>\n",
              "      <td>gorsel olarakta işlevsel olarakta cok ideal bi...</td>\n",
              "      <td>1</td>\n",
              "    </tr>\n",
              "    <tr>\n",
              "      <th>9997</th>\n",
              "      <td>silverline cam ankastre tam oldu cok guzel</td>\n",
              "      <td>1</td>\n",
              "    </tr>\n",
              "    <tr>\n",
              "      <th>9998</th>\n",
              "      <td>Beğenmedim ayakları sağlam değil sallanıyor ür...</td>\n",
              "      <td>0</td>\n",
              "    </tr>\n",
              "    <tr>\n",
              "      <th>9999</th>\n",
              "      <td>Ürün çok şık ve fiyatına göre çok kaliteli pak...</td>\n",
              "      <td>1</td>\n",
              "    </tr>\n",
              "  </tbody>\n",
              "</table>\n",
              "<p>10000 rows × 2 columns</p>\n",
              "</div>"
            ],
            "text/plain": [
              "                                                  yorum  sentiment\n",
              "0     kargolama hızlıydı. ama radyo kalitesi iyi değ...          0\n",
              "1     Modeli guzel ama kalitesi kotu. 1 haftadir kul...          0\n",
              "2          kaliteli paketlenmiş gayet güzel kullanımıda          1\n",
              "3     Hafif dalgalı saçınız varsa, asla düzleştirmiy...          0\n",
              "4                   Bilmiyorum çok etkili değil sanırım          0\n",
              "...                                                 ...        ...\n",
              "9995  Mükemmel şekil veriyor diyemem daha çok kurutm...          0\n",
              "9996  gorsel olarakta işlevsel olarakta cok ideal bi...          1\n",
              "9997         silverline cam ankastre tam oldu cok guzel          1\n",
              "9998  Beğenmedim ayakları sağlam değil sallanıyor ür...          0\n",
              "9999  Ürün çok şık ve fiyatına göre çok kaliteli pak...          1\n",
              "\n",
              "[10000 rows x 2 columns]"
            ]
          },
          "metadata": {},
          "execution_count": 16
        }
      ]
    },
    {
      "cell_type": "code",
      "metadata": {
        "colab": {
          "base_uri": "https://localhost:8080/"
        },
        "id": "gknuVn4dNBcr",
        "outputId": "bc3926b2-8686-4dd6-c856-dbbd4a6261a8"
      },
      "source": [
        "from sklearn import svm\n",
        "# SVM\n",
        "classifier_linear = svm.SVC(kernel='linear')\n",
        "#Train\n",
        "classifier_linear.fit(train_vectors, train_df['sentiment'])"
      ],
      "execution_count": 17,
      "outputs": [
        {
          "output_type": "execute_result",
          "data": {
            "text/plain": [
              "SVC(kernel='linear')"
            ]
          },
          "metadata": {},
          "execution_count": 17
        }
      ]
    },
    {
      "cell_type": "code",
      "metadata": {
        "colab": {
          "base_uri": "https://localhost:8080/"
        },
        "id": "l6MS4iS9NGRi",
        "outputId": "ab48dc90-3af3-4665-9836-4e77e070337c"
      },
      "source": [
        "from sklearn.metrics import classification_report\n",
        "\n",
        "predictions = classifier_linear.predict(test_vectors)\n",
        "# results\n",
        "report = classification_report(test_df['sentiment'], predictions)\n",
        "print(report)"
      ],
      "execution_count": 18,
      "outputs": [
        {
          "output_type": "stream",
          "name": "stdout",
          "text": [
            "              precision    recall  f1-score   support\n",
            "\n",
            "           0       0.86      0.86      0.86       995\n",
            "           1       0.77      0.77      0.77       605\n",
            "\n",
            "    accuracy                           0.82      1600\n",
            "   macro avg       0.81      0.81      0.81      1600\n",
            "weighted avg       0.82      0.82      0.82      1600\n",
            "\n"
          ]
        }
      ]
    },
    {
      "cell_type": "markdown",
      "metadata": {
        "id": "N6cMYre6NPaj"
      },
      "source": [
        "# Changing the classifier by a NN model¶\n"
      ]
    },
    {
      "cell_type": "code",
      "metadata": {
        "id": "jDrjEsEdNM7r"
      },
      "source": [
        "import keras\n",
        "from keras.models import Sequential\n",
        "from keras.layers import Dense\n",
        "from keras.layers import Dropout\n",
        "\n",
        "# Defining the NN model\n",
        "model = Sequential()\n",
        "model.add(Dense(20, input_shape=(train_vectors.shape[1],), activation='relu'))\n",
        "model.add(Dropout(0.3))\n",
        "#model.add(Dense(5, activation='relu'))\n",
        "#model.add(Dropout(0.3))\n",
        "model.add(Dense(1, activation='sigmoid'))\n",
        "# compile network\n",
        "model.compile(loss='binary_crossentropy', optimizer='adam', metrics=['accuracy'])"
      ],
      "execution_count": 19,
      "outputs": []
    },
    {
      "cell_type": "code",
      "metadata": {
        "colab": {
          "base_uri": "https://localhost:8080/"
        },
        "id": "wASkXRuiNSXi",
        "outputId": "73b55654-edc5-4c82-fabf-669eef9774c4"
      },
      "source": [
        "# Train\n",
        "#Salvar o melhor modelo\n",
        "callbacks_list = [\n",
        "    keras.callbacks.ModelCheckpoint(\n",
        "        filepath='model.h5',\n",
        "        monitor='val_loss', save_best_only=True, verbose=1),\n",
        "    keras.callbacks.EarlyStopping(monitor='val_loss', patience=10,verbose=1)\n",
        "]\n",
        "\n",
        "history = model.fit(\n",
        "    train_vectors.toarray(), train_df['sentiment'], \n",
        "    epochs=20, \n",
        "    verbose=1,\n",
        "    callbacks = callbacks_list,\n",
        "    validation_data=(valid_vectors.toarray(), valid_df['sentiment']))"
      ],
      "execution_count": 20,
      "outputs": [
        {
          "output_type": "stream",
          "name": "stdout",
          "text": [
            "Epoch 1/20\n",
            "197/200 [============================>.] - ETA: 0s - loss: 0.6301 - accuracy: 0.6761\n",
            "Epoch 00001: val_loss improved from inf to 0.53900, saving model to model.h5\n",
            "200/200 [==============================] - 2s 9ms/step - loss: 0.6288 - accuracy: 0.6777 - val_loss: 0.5390 - val_accuracy: 0.7950\n",
            "Epoch 2/20\n",
            "199/200 [============================>.] - ETA: 0s - loss: 0.4614 - accuracy: 0.8345\n",
            "Epoch 00002: val_loss improved from 0.53900 to 0.43233, saving model to model.h5\n",
            "200/200 [==============================] - 1s 7ms/step - loss: 0.4619 - accuracy: 0.8338 - val_loss: 0.4323 - val_accuracy: 0.8270\n",
            "Epoch 3/20\n",
            "199/200 [============================>.] - ETA: 0s - loss: 0.3468 - accuracy: 0.8923\n",
            "Epoch 00003: val_loss improved from 0.43233 to 0.40085, saving model to model.h5\n",
            "200/200 [==============================] - 2s 8ms/step - loss: 0.3467 - accuracy: 0.8922 - val_loss: 0.4008 - val_accuracy: 0.8295\n",
            "Epoch 4/20\n",
            "195/200 [============================>.] - ETA: 0s - loss: 0.2781 - accuracy: 0.9159\n",
            "Epoch 00004: val_loss improved from 0.40085 to 0.39043, saving model to model.h5\n",
            "200/200 [==============================] - 2s 9ms/step - loss: 0.2782 - accuracy: 0.9159 - val_loss: 0.3904 - val_accuracy: 0.8330\n",
            "Epoch 5/20\n",
            "193/200 [===========================>..] - ETA: 0s - loss: 0.2302 - accuracy: 0.9309\n",
            "Epoch 00005: val_loss did not improve from 0.39043\n",
            "200/200 [==============================] - 2s 7ms/step - loss: 0.2291 - accuracy: 0.9309 - val_loss: 0.3916 - val_accuracy: 0.8325\n",
            "Epoch 6/20\n",
            "197/200 [============================>.] - ETA: 0s - loss: 0.1946 - accuracy: 0.9445\n",
            "Epoch 00006: val_loss did not improve from 0.39043\n",
            "200/200 [==============================] - 1s 7ms/step - loss: 0.1947 - accuracy: 0.9444 - val_loss: 0.4000 - val_accuracy: 0.8295\n",
            "Epoch 7/20\n",
            "198/200 [============================>.] - ETA: 0s - loss: 0.1695 - accuracy: 0.9530\n",
            "Epoch 00007: val_loss did not improve from 0.39043\n",
            "200/200 [==============================] - 1s 7ms/step - loss: 0.1700 - accuracy: 0.9527 - val_loss: 0.4095 - val_accuracy: 0.8290\n",
            "Epoch 8/20\n",
            "197/200 [============================>.] - ETA: 0s - loss: 0.1467 - accuracy: 0.9583\n",
            "Epoch 00008: val_loss did not improve from 0.39043\n",
            "200/200 [==============================] - 1s 7ms/step - loss: 0.1468 - accuracy: 0.9584 - val_loss: 0.4225 - val_accuracy: 0.8240\n",
            "Epoch 9/20\n",
            "200/200 [==============================] - ETA: 0s - loss: 0.1326 - accuracy: 0.9630\n",
            "Epoch 00009: val_loss did not improve from 0.39043\n",
            "200/200 [==============================] - 1s 7ms/step - loss: 0.1326 - accuracy: 0.9630 - val_loss: 0.4384 - val_accuracy: 0.8200\n",
            "Epoch 10/20\n",
            "197/200 [============================>.] - ETA: 0s - loss: 0.1156 - accuracy: 0.9683\n",
            "Epoch 00010: val_loss did not improve from 0.39043\n",
            "200/200 [==============================] - 1s 7ms/step - loss: 0.1149 - accuracy: 0.9688 - val_loss: 0.4555 - val_accuracy: 0.8160\n",
            "Epoch 11/20\n",
            "194/200 [============================>.] - ETA: 0s - loss: 0.1058 - accuracy: 0.9713\n",
            "Epoch 00011: val_loss did not improve from 0.39043\n",
            "200/200 [==============================] - 1s 7ms/step - loss: 0.1056 - accuracy: 0.9719 - val_loss: 0.4712 - val_accuracy: 0.8130\n",
            "Epoch 12/20\n",
            "194/200 [============================>.] - ETA: 0s - loss: 0.0936 - accuracy: 0.9741\n",
            "Epoch 00012: val_loss did not improve from 0.39043\n",
            "200/200 [==============================] - 1s 7ms/step - loss: 0.0932 - accuracy: 0.9744 - val_loss: 0.4894 - val_accuracy: 0.8115\n",
            "Epoch 13/20\n",
            "196/200 [============================>.] - ETA: 0s - loss: 0.0863 - accuracy: 0.9740\n",
            "Epoch 00013: val_loss did not improve from 0.39043\n",
            "200/200 [==============================] - 1s 7ms/step - loss: 0.0858 - accuracy: 0.9744 - val_loss: 0.5084 - val_accuracy: 0.8050\n",
            "Epoch 14/20\n",
            "193/200 [===========================>..] - ETA: 0s - loss: 0.0777 - accuracy: 0.9775\n",
            "Epoch 00014: val_loss did not improve from 0.39043\n",
            "200/200 [==============================] - 1s 7ms/step - loss: 0.0780 - accuracy: 0.9775 - val_loss: 0.5277 - val_accuracy: 0.8025\n",
            "Epoch 00014: early stopping\n"
          ]
        }
      ]
    },
    {
      "cell_type": "code",
      "metadata": {
        "colab": {
          "base_uri": "https://localhost:8080/",
          "height": 482
        },
        "id": "ejf--DP6NjdB",
        "outputId": "c9510cf6-2089-41ec-ff6e-bfbbd08dd9f9"
      },
      "source": [
        "import matplotlib.pyplot as plt\n",
        "fig, ax = plt.subplots(1,2, figsize=(16,8))\n",
        "ax[0].plot(history.history['loss'], color='b', label=\"Training loss\")\n",
        "ax[0].plot(history.history['val_loss'], color='r', label=\"validation loss\",axes =ax[0])\n",
        "legend = ax[0].legend(loc='best', shadow=True)\n",
        "\n",
        "ax[1].plot(history.history['accuracy'], color='b', label=\"Training accuracy\")\n",
        "ax[1].plot(history.history['val_accuracy'], color='r',label=\"Validation accuracy\")\n",
        "legend = ax[1].legend(loc='best', shadow=True)"
      ],
      "execution_count": 21,
      "outputs": [
        {
          "output_type": "display_data",
          "data": {
            "image/png": "[encoded data removed]",
            "text/plain": [
              "<Figure size 1152x576 with 2 Axes>"
            ]
          },
          "metadata": {
            "needs_background": "light"
          }
        }
      ]
    },
    {
      "cell_type": "code",
      "metadata": {
        "colab": {
          "base_uri": "https://localhost:8080/"
        },
        "id": "z-timKjnNrpi",
        "outputId": "56b39a3c-97a4-4142-ae8d-ec043721fcfc"
      },
      "source": [
        "from tensorflow.keras.models import load_model\n",
        "# Load the best saved model\n",
        "model = load_model('model.h5')\n",
        "\n",
        "y_pred = model.predict(valid_vectors.toarray())\n",
        "y_pred = np.round(y_pred).astype(int)\n",
        "\n",
        "print(classification_report(valid_df['sentiment'], y_pred, target_names=['0','1']))"
      ],
      "execution_count": 22,
      "outputs": [
        {
          "output_type": "stream",
          "name": "stdout",
          "text": [
            "              precision    recall  f1-score   support\n",
            "\n",
            "           0       0.84      0.90      0.87      1221\n",
            "           1       0.82      0.74      0.77       779\n",
            "\n",
            "    accuracy                           0.83      2000\n",
            "   macro avg       0.83      0.82      0.82      2000\n",
            "weighted avg       0.83      0.83      0.83      2000\n",
            "\n"
          ]
        }
      ]
    },
    {
      "cell_type": "markdown",
      "metadata": {
        "id": "Alei-1HwPIxi"
      },
      "source": [
        "#3. Sentences as stream of words¶\n"
      ]
    },
    {
      "cell_type": "code",
      "metadata": {
        "id": "VxKk4IbfOVgC"
      },
      "source": [
        "import tensorflow as tf\n",
        "import numpy as np\n",
        "from tensorflow.keras.layers.experimental.preprocessing import TextVectorization\n",
        "import string\n",
        "\n",
        "# Model constants.\n",
        "max_features = 20000\n",
        "embedding_dim = 100\n",
        "sequence_length = 500\n",
        "\n",
        "# function to stardardize texts\n",
        "def custom_standardization(input_data):\n",
        "    lowercase = tf.strings.lower(input_data)\n",
        "    #stripped_html = tf.strings.regex_replace(lowercase, \"<br />\", \" \")\n",
        "    #return tf.strings.regex_replace(\n",
        "    #    stripped_html, \"[%s]\" % re.escape(string.punctuation), \"\"\n",
        "    #)\n",
        "    return lowercase\n",
        "\n",
        "# normalize, split, and map strings to integers\n",
        "vectorize_layer = TextVectorization(\n",
        "    #standardize=custom_standardization,\n",
        "    max_tokens=max_features,\n",
        "    output_mode=\"int\",\n",
        "    output_sequence_length=sequence_length,\n",
        ")\n",
        "\n",
        "# Creating the vocabulary\n",
        "vectorize_layer.adapt(train_df['yorum'].values)"
      ],
      "execution_count": 23,
      "outputs": []
    },
    {
      "cell_type": "code",
      "metadata": {
        "id": "i9vp5--9POpK"
      },
      "source": [
        "# Vetorizing all the texts\n",
        "def vectorize_text(text):\n",
        "    text = tf.expand_dims(text, -1)\n",
        "    return vectorize_layer(text)\n",
        "\n",
        "\n",
        "# Vectorize the data.\n",
        "train_ds = vectorize_text(train_df['yorum'])\n",
        "valid_ds = vectorize_text(valid_df['yorum'])\n",
        "test_ds = vectorize_text(test_df[ 'yorum'])"
      ],
      "execution_count": 24,
      "outputs": []
    },
    {
      "cell_type": "code",
      "metadata": {
        "colab": {
          "base_uri": "https://localhost:8080/"
        },
        "id": "AurCQBQzPaYq",
        "outputId": "864e78e2-1c27-437e-90c3-49e1dea8896f"
      },
      "source": [
        "print(train_ds[1])\n",
        "print(vectorize_text(['ürünü yaklaşık 3 aydır kullanıyorum ergonomik tasarımı yüksek hassasiyeti süper bir mouse bir masadan parke zemine dusurmeme rağmen performansindan bir kaybetmedi yorumları okuduğunuzda göre ürünü satın almayı planlıyorsunuz kaçırmayın alın']))"
      ],
      "execution_count": 25,
      "outputs": [
        {
          "output_type": "stream",
          "name": "stdout",
          "text": [
            "tf.Tensor(\n",
            "[  106  4931   348   600 10476   155    48  6922   261   206  6341 14252\n",
            "   688   339   231    54   435    17   133   212   154   234  7375 12119\n",
            "   157    80    50  2619  2146   325  5300   381  2045  1106     0     0\n",
            "     0     0     0     0     0     0     0     0     0     0     0     0\n",
            "     0     0     0     0     0     0     0     0     0     0     0     0\n",
            "     0     0     0     0     0     0     0     0     0     0     0     0\n",
            "     0     0     0     0     0     0     0     0     0     0     0     0\n",
            "     0     0     0     0     0     0     0     0     0     0     0     0\n",
            "     0     0     0     0     0     0     0     0     0     0     0     0\n",
            "     0     0     0     0     0     0     0     0     0     0     0     0\n",
            "     0     0     0     0     0     0     0     0     0     0     0     0\n",
            "     0     0     0     0     0     0     0     0     0     0     0     0\n",
            "     0     0     0     0     0     0     0     0     0     0     0     0\n",
            "     0     0     0     0     0     0     0     0     0     0     0     0\n",
            "     0     0     0     0     0     0     0     0     0     0     0     0\n",
            "     0     0     0     0     0     0     0     0     0     0     0     0\n",
            "     0     0     0     0     0     0     0     0     0     0     0     0\n",
            "     0     0     0     0     0     0     0     0     0     0     0     0\n",
            "     0     0     0     0     0     0     0     0     0     0     0     0\n",
            "     0     0     0     0     0     0     0     0     0     0     0     0\n",
            "     0     0     0     0     0     0     0     0     0     0     0     0\n",
            "     0     0     0     0     0     0     0     0     0     0     0     0\n",
            "     0     0     0     0     0     0     0     0     0     0     0     0\n",
            "     0     0     0     0     0     0     0     0     0     0     0     0\n",
            "     0     0     0     0     0     0     0     0     0     0     0     0\n",
            "     0     0     0     0     0     0     0     0     0     0     0     0\n",
            "     0     0     0     0     0     0     0     0     0     0     0     0\n",
            "     0     0     0     0     0     0     0     0     0     0     0     0\n",
            "     0     0     0     0     0     0     0     0     0     0     0     0\n",
            "     0     0     0     0     0     0     0     0     0     0     0     0\n",
            "     0     0     0     0     0     0     0     0     0     0     0     0\n",
            "     0     0     0     0     0     0     0     0     0     0     0     0\n",
            "     0     0     0     0     0     0     0     0     0     0     0     0\n",
            "     0     0     0     0     0     0     0     0     0     0     0     0\n",
            "     0     0     0     0     0     0     0     0     0     0     0     0\n",
            "     0     0     0     0     0     0     0     0     0     0     0     0\n",
            "     0     0     0     0     0     0     0     0     0     0     0     0\n",
            "     0     0     0     0     0     0     0     0     0     0     0     0\n",
            "     0     0     0     0     0     0     0     0     0     0     0     0\n",
            "     0     0     0     0     0     0     0     0     0     0     0     0\n",
            "     0     0     0     0     0     0     0     0     0     0     0     0\n",
            "     0     0     0     0     0     0     0     0], shape=(500,), dtype=int64)\n",
            "tf.Tensor(\n",
            "[[   14   445    81   371    82  2209  1243   249 11610   317     2   773\n",
            "      2  4595     1  6527     1   108     1     2     1   441     1    24\n",
            "     14   824  1207     1 10667   153     0     0     0     0     0     0\n",
            "      0     0     0     0     0     0     0     0     0     0     0     0\n",
            "      0     0     0     0     0     0     0     0     0     0     0     0\n",
            "      0     0     0     0     0     0     0     0     0     0     0     0\n",
            "      0     0     0     0     0     0     0     0     0     0     0     0\n",
            "      0     0     0     0     0     0     0     0     0     0     0     0\n",
            "      0     0     0     0     0     0     0     0     0     0     0     0\n",
            "      0     0     0     0     0     0     0     0     0     0     0     0\n",
            "      0     0     0     0     0     0     0     0     0     0     0     0\n",
            "      0     0     0     0     0     0     0     0     0     0     0     0\n",
            "      0     0     0     0     0     0     0     0     0     0     0     0\n",
            "      0     0     0     0     0     0     0     0     0     0     0     0\n",
            "      0     0     0     0     0     0     0     0     0     0     0     0\n",
            "      0     0     0     0     0     0     0     0     0     0     0     0\n",
            "      0     0     0     0     0     0     0     0     0     0     0     0\n",
            "      0     0     0     0     0     0     0     0     0     0     0     0\n",
            "      0     0     0     0     0     0     0     0     0     0     0     0\n",
            "      0     0     0     0     0     0     0     0     0     0     0     0\n",
            "      0     0     0     0     0     0     0     0     0     0     0     0\n",
            "      0     0     0     0     0     0     0     0     0     0     0     0\n",
            "      0     0     0     0     0     0     0     0     0     0     0     0\n",
            "      0     0     0     0     0     0     0     0     0     0     0     0\n",
            "      0     0     0     0     0     0     0     0     0     0     0     0\n",
            "      0     0     0     0     0     0     0     0     0     0     0     0\n",
            "      0     0     0     0     0     0     0     0     0     0     0     0\n",
            "      0     0     0     0     0     0     0     0     0     0     0     0\n",
            "      0     0     0     0     0     0     0     0     0     0     0     0\n",
            "      0     0     0     0     0     0     0     0     0     0     0     0\n",
            "      0     0     0     0     0     0     0     0     0     0     0     0\n",
            "      0     0     0     0     0     0     0     0     0     0     0     0\n",
            "      0     0     0     0     0     0     0     0     0     0     0     0\n",
            "      0     0     0     0     0     0     0     0     0     0     0     0\n",
            "      0     0     0     0     0     0     0     0     0     0     0     0\n",
            "      0     0     0     0     0     0     0     0     0     0     0     0\n",
            "      0     0     0     0     0     0     0     0     0     0     0     0\n",
            "      0     0     0     0     0     0     0     0     0     0     0     0\n",
            "      0     0     0     0     0     0     0     0     0     0     0     0\n",
            "      0     0     0     0     0     0     0     0     0     0     0     0\n",
            "      0     0     0     0     0     0     0     0     0     0     0     0\n",
            "      0     0     0     0     0     0     0     0]], shape=(1, 500), dtype=int64)\n"
          ]
        }
      ]
    },
    {
      "cell_type": "markdown",
      "metadata": {
        "id": "kcPOZ-WmPtjY"
      },
      "source": [
        "# A Convolutional Model"
      ]
    },
    {
      "cell_type": "code",
      "metadata": {
        "id": "0MjVJLajPp77"
      },
      "source": [
        "from keras import layers\n",
        "\n",
        "model = Sequential()\n",
        "# A integer input for vocab indices.\n",
        "model.add(layers.Input(shape=(None,), dtype=\"int64\"))\n",
        "# Layer to map those vocab indices into a space of dimensionality 'embedding_dim'.\n",
        "model.add(layers.Embedding(max_features, embedding_dim))\n",
        "# Conv1D + global max pooling\n",
        "model.add(layers.Conv1D(50, 7, padding=\"valid\", activation=\"relu\", strides=3))#200\n",
        "#model.add(layers.Conv1D(100, 7, padding=\"valid\", activation=\"relu\", strides=3))\n",
        "model.add(layers.GlobalMaxPooling1D())\n",
        "\n",
        "# Common hidden layer for final classification\n",
        "model.add(layers.Dense(10, activation=\"relu\"))#100\n",
        "model.add(layers.Dropout(0.5))\n",
        "# Single unit output layer with sigmoid activation\n",
        "model.add(layers.Dense(1, activation=\"sigmoid\", name=\"predictions\"))\n",
        "\n",
        "# Compile the model\n",
        "model.compile(loss=\"binary_crossentropy\", optimizer=\"adam\", metrics=[\"accuracy\"])"
      ],
      "execution_count": 26,
      "outputs": []
    },
    {
      "cell_type": "code",
      "metadata": {
        "colab": {
          "base_uri": "https://localhost:8080/"
        },
        "id": "PVd0XIrxPx9y",
        "outputId": "11669cfc-f896-440d-962c-b85f72179340"
      },
      "source": [
        "# Train\n",
        "#Salvar o melhor modelo\n",
        "callbacks_list = [\n",
        "    keras.callbacks.ModelCheckpoint(\n",
        "        filepath='model.h5',\n",
        "        monitor='val_loss', save_best_only=True, verbose=1),\n",
        "    keras.callbacks.EarlyStopping(monitor='val_loss', patience=5,verbose=1)\n",
        "]\n",
        "\n",
        "history = model.fit(\n",
        "    train_ds, train_df['sentiment'], \n",
        "    epochs=20, \n",
        "    verbose=1,\n",
        "    callbacks = callbacks_list,\n",
        "    validation_data=(valid_ds, valid_df['sentiment']))"
      ],
      "execution_count": 27,
      "outputs": [
        {
          "output_type": "stream",
          "name": "stdout",
          "text": [
            "Epoch 1/20\n",
            "200/200 [==============================] - ETA: 0s - loss: 0.6136 - accuracy: 0.6598\n",
            "Epoch 00001: val_loss improved from inf to 0.44557, saving model to model.h5\n",
            "200/200 [==============================] - 17s 81ms/step - loss: 0.6136 - accuracy: 0.6598 - val_loss: 0.4456 - val_accuracy: 0.8125\n",
            "Epoch 2/20\n",
            "200/200 [==============================] - ETA: 0s - loss: 0.4231 - accuracy: 0.8484\n",
            "Epoch 00002: val_loss improved from 0.44557 to 0.41515, saving model to model.h5\n",
            "200/200 [==============================] - 16s 78ms/step - loss: 0.4231 - accuracy: 0.8484 - val_loss: 0.4151 - val_accuracy: 0.8225\n",
            "Epoch 3/20\n",
            "200/200 [==============================] - ETA: 0s - loss: 0.2801 - accuracy: 0.9144\n",
            "Epoch 00003: val_loss did not improve from 0.41515\n",
            "200/200 [==============================] - 16s 78ms/step - loss: 0.2801 - accuracy: 0.9144 - val_loss: 0.4627 - val_accuracy: 0.7970\n",
            "Epoch 4/20\n",
            "200/200 [==============================] - ETA: 0s - loss: 0.2139 - accuracy: 0.9417\n",
            "Epoch 00004: val_loss did not improve from 0.41515\n",
            "200/200 [==============================] - 16s 78ms/step - loss: 0.2139 - accuracy: 0.9417 - val_loss: 0.5407 - val_accuracy: 0.7885\n",
            "Epoch 5/20\n",
            "200/200 [==============================] - ETA: 0s - loss: 0.1567 - accuracy: 0.9492\n",
            "Epoch 00005: val_loss did not improve from 0.41515\n",
            "200/200 [==============================] - 16s 78ms/step - loss: 0.1567 - accuracy: 0.9492 - val_loss: 0.6721 - val_accuracy: 0.7900\n",
            "Epoch 6/20\n",
            "200/200 [==============================] - ETA: 0s - loss: 0.1190 - accuracy: 0.9553\n",
            "Epoch 00006: val_loss did not improve from 0.41515\n",
            "200/200 [==============================] - 16s 78ms/step - loss: 0.1190 - accuracy: 0.9553 - val_loss: 0.7982 - val_accuracy: 0.7850\n",
            "Epoch 7/20\n",
            "200/200 [==============================] - ETA: 0s - loss: 0.1075 - accuracy: 0.9580\n",
            "Epoch 00007: val_loss did not improve from 0.41515\n",
            "200/200 [==============================] - 16s 78ms/step - loss: 0.1075 - accuracy: 0.9580 - val_loss: 0.8664 - val_accuracy: 0.7755\n",
            "Epoch 00007: early stopping\n"
          ]
        }
      ]
    },
    {
      "cell_type": "code",
      "metadata": {
        "colab": {
          "base_uri": "https://localhost:8080/",
          "height": 485
        },
        "id": "4AnhOofQP0g6",
        "outputId": "f4f50def-df22-462b-ef37-e38eb4aa7d60"
      },
      "source": [
        "import matplotlib.pyplot as plt\n",
        "fig, ax = plt.subplots(1,2, figsize=(16,8))\n",
        "ax[0].plot(history.history['loss'], color='b', label=\"Training loss\")\n",
        "ax[0].plot(history.history['val_loss'], color='r', label=\"validation loss\",axes =ax[0])\n",
        "legend = ax[0].legend(loc='best', shadow=True)\n",
        "\n",
        "ax[1].plot(history.history['accuracy'], color='b', label=\"Training accuracy\")\n",
        "ax[1].plot(history.history['val_accuracy'], color='r',label=\"Validation accuracy\")\n",
        "legend = ax[1].legend(loc='best', shadow=True)"
      ],
      "execution_count": 28,
      "outputs": [
        {
          "output_type": "display_data",
          "data": {
            "image/png": "[encoded data removed]",
            "text/plain": [
              "<Figure size 1152x576 with 2 Axes>"
            ]
          },
          "metadata": {
            "needs_background": "light"
          }
        }
      ]
    },
    {
      "cell_type": "code",
      "metadata": {
        "colab": {
          "base_uri": "https://localhost:8080/"
        },
        "id": "46cM4VifQBda",
        "outputId": "6d14572e-e658-4e41-9bd1-efbf9b752152"
      },
      "source": [
        "model = load_model('model.h5')\n",
        "\n",
        "y_pred = model.predict(valid_vectors.toarray())\n",
        "y_pred = np.round(y_pred).astype(int)\n",
        "\n",
        "print(classification_report(valid_df['sentiment'], y_pred, target_names=['0','1']))"
      ],
      "execution_count": 29,
      "outputs": [
        {
          "output_type": "stream",
          "name": "stdout",
          "text": [
            "              precision    recall  f1-score   support\n",
            "\n",
            "           0       0.61      1.00      0.76      1221\n",
            "           1       0.00      0.00      0.00       779\n",
            "\n",
            "    accuracy                           0.61      2000\n",
            "   macro avg       0.31      0.50      0.38      2000\n",
            "weighted avg       0.37      0.61      0.46      2000\n",
            "\n"
          ]
        },
        {
          "output_type": "stream",
          "name": "stderr",
          "text": [
            "/usr/local/lib/python3.7/dist-packages/sklearn/metrics/_classification.py:1308: UndefinedMetricWarning: Precision and F-score are ill-defined and being set to 0.0 in labels with no predicted samples. Use `zero_division` parameter to control this behavior.\n",
            "  _warn_prf(average, modifier, msg_start, len(result))\n",
            "/usr/local/lib/python3.7/dist-packages/sklearn/metrics/_classification.py:1308: UndefinedMetricWarning: Precision and F-score are ill-defined and being set to 0.0 in labels with no predicted samples. Use `zero_division` parameter to control this behavior.\n",
            "  _warn_prf(average, modifier, msg_start, len(result))\n",
            "/usr/local/lib/python3.7/dist-packages/sklearn/metrics/_classification.py:1308: UndefinedMetricWarning: Precision and F-score are ill-defined and being set to 0.0 in labels with no predicted samples. Use `zero_division` parameter to control this behavior.\n",
            "  _warn_prf(average, modifier, msg_start, len(result))\n"
          ]
        }
      ]
    },
    {
      "cell_type": "markdown",
      "metadata": {
        "id": "3yr0QtwpX2GP"
      },
      "source": [
        "# A LSTM Recursive Model¶\n"
      ]
    },
    {
      "cell_type": "code",
      "metadata": {
        "id": "o7X7NYMrQFnC"
      },
      "source": [
        "model = Sequential()\n",
        "# Input for variable-length sequences of integers\n",
        "model.add(keras.Input(shape=(None,), dtype=\"int64\"))\n",
        "# Embed each integer in a embedding_dim vector\n",
        "model.add(layers.Embedding(max_features, embedding_dim))\n",
        "# Add 2 bidirectional LSTMs\n",
        "#model.add(layers.Bidirectional(layers.LSTM(32, return_sequences=True)))\n",
        "model.add(layers.Bidirectional(layers.LSTM(32)))\n",
        "# Add a classifier\n",
        "model.add(layers.Dense(1, activation=\"sigmoid\"))\n",
        "\n",
        "# Compile the model\n",
        "model.compile(loss=\"binary_crossentropy\", optimizer=\"adam\", metrics=[\"accuracy\"])"
      ],
      "execution_count": 30,
      "outputs": []
    },
    {
      "cell_type": "code",
      "metadata": {
        "colab": {
          "base_uri": "https://localhost:8080/"
        },
        "id": "AIR02GfPX6HJ",
        "outputId": "dea6024f-959c-41d6-95d9-a3dfbd9a8133"
      },
      "source": [
        "# Train\n",
        "#Salvar o melhor modelo\n",
        "callbacks_list = [\n",
        "    keras.callbacks.ModelCheckpoint(\n",
        "        filepath='model.h5',\n",
        "        monitor='val_loss', save_best_only=True, verbose=1),\n",
        "    keras.callbacks.EarlyStopping(monitor='val_loss', patience=5,verbose=1)\n",
        "]\n",
        "\n",
        "history = model.fit(\n",
        "    train_ds, train_df['sentiment'], \n",
        "    epochs=20, \n",
        "    verbose=1,\n",
        "    callbacks = callbacks_list,\n",
        "    validation_data=(valid_ds, valid_df['sentiment']))"
      ],
      "execution_count": 31,
      "outputs": [
        {
          "output_type": "stream",
          "name": "stdout",
          "text": [
            "Epoch 1/20\n",
            "200/200 [==============================] - ETA: 0s - loss: 0.5147 - accuracy: 0.7466\n",
            "Epoch 00001: val_loss improved from inf to 0.42160, saving model to model.h5\n",
            "200/200 [==============================] - 89s 428ms/step - loss: 0.5147 - accuracy: 0.7466 - val_loss: 0.4216 - val_accuracy: 0.8220\n",
            "Epoch 2/20\n",
            "200/200 [==============================] - ETA: 0s - loss: 0.2767 - accuracy: 0.8931\n",
            "Epoch 00002: val_loss did not improve from 0.42160\n",
            "200/200 [==============================] - 82s 409ms/step - loss: 0.2767 - accuracy: 0.8931 - val_loss: 0.4320 - val_accuracy: 0.8225\n",
            "Epoch 3/20\n",
            "200/200 [==============================] - ETA: 0s - loss: 0.1666 - accuracy: 0.9413\n",
            "Epoch 00003: val_loss did not improve from 0.42160\n",
            "200/200 [==============================] - 82s 408ms/step - loss: 0.1666 - accuracy: 0.9413 - val_loss: 0.4996 - val_accuracy: 0.8135\n",
            "Epoch 4/20\n",
            "200/200 [==============================] - ETA: 0s - loss: 0.1144 - accuracy: 0.9591\n",
            "Epoch 00004: val_loss did not improve from 0.42160\n",
            "200/200 [==============================] - 81s 407ms/step - loss: 0.1144 - accuracy: 0.9591 - val_loss: 0.6642 - val_accuracy: 0.7860\n",
            "Epoch 5/20\n",
            "200/200 [==============================] - ETA: 0s - loss: 0.0979 - accuracy: 0.9667\n",
            "Epoch 00005: val_loss did not improve from 0.42160\n",
            "200/200 [==============================] - 81s 406ms/step - loss: 0.0979 - accuracy: 0.9667 - val_loss: 0.6923 - val_accuracy: 0.7925\n",
            "Epoch 6/20\n",
            "200/200 [==============================] - ETA: 0s - loss: 0.0715 - accuracy: 0.9723\n",
            "Epoch 00006: val_loss did not improve from 0.42160\n",
            "200/200 [==============================] - 82s 409ms/step - loss: 0.0715 - accuracy: 0.9723 - val_loss: 0.7853 - val_accuracy: 0.7880\n",
            "Epoch 00006: early stopping\n"
          ]
        }
      ]
    },
    {
      "cell_type": "code",
      "metadata": {
        "colab": {
          "base_uri": "https://localhost:8080/",
          "height": 482
        },
        "id": "fc3eVrNOX8Ag",
        "outputId": "ca4dc7b5-77d5-4385-a104-1e0387fc8574"
      },
      "source": [
        "import matplotlib.pyplot as plt\n",
        "fig, ax = plt.subplots(1,2, figsize=(16,8))\n",
        "ax[0].plot(history.history['loss'], color='b', label=\"Training loss\")\n",
        "ax[0].plot(history.history['val_loss'], color='r', label=\"validation loss\",axes =ax[0])\n",
        "legend = ax[0].legend(loc='best', shadow=True)\n",
        "\n",
        "ax[1].plot(history.history['accuracy'], color='b', label=\"Training accuracy\")\n",
        "ax[1].plot(history.history['val_accuracy'], color='r',label=\"Validation accuracy\")\n",
        "legend = ax[1].legend(loc='best', shadow=True)"
      ],
      "execution_count": 32,
      "outputs": [
        {
          "output_type": "display_data",
          "data": {
            "image/png": "[encoded data removed]",
            "text/plain": [
              "<Figure size 1152x576 with 2 Axes>"
            ]
          },
          "metadata": {
            "needs_background": "light"
          }
        }
      ]
    },
    {
      "cell_type": "code",
      "metadata": {
        "colab": {
          "base_uri": "https://localhost:8080/"
        },
        "id": "omDUH3nSYBmY",
        "outputId": "29e7817b-cc37-450b-be18-f05dd3b21097"
      },
      "source": [
        "model = load_model('model.h5')\n",
        "\n",
        "y_pred = model.predict(valid_vectors.toarray())\n",
        "y_pred = np.round(y_pred).astype(int)\n",
        "\n",
        "print(classification_report(valid_df['sentiment'], y_pred, target_names=['0','1']))"
      ],
      "execution_count": 33,
      "outputs": [
        {
          "output_type": "stream",
          "name": "stdout",
          "text": [
            "              precision    recall  f1-score   support\n",
            "\n",
            "           0       0.00      0.00      0.00      1221\n",
            "           1       0.39      1.00      0.56       779\n",
            "\n",
            "    accuracy                           0.39      2000\n",
            "   macro avg       0.19      0.50      0.28      2000\n",
            "weighted avg       0.15      0.39      0.22      2000\n",
            "\n"
          ]
        },
        {
          "output_type": "stream",
          "name": "stderr",
          "text": [
            "/usr/local/lib/python3.7/dist-packages/sklearn/metrics/_classification.py:1308: UndefinedMetricWarning: Precision and F-score are ill-defined and being set to 0.0 in labels with no predicted samples. Use `zero_division` parameter to control this behavior.\n",
            "  _warn_prf(average, modifier, msg_start, len(result))\n",
            "/usr/local/lib/python3.7/dist-packages/sklearn/metrics/_classification.py:1308: UndefinedMetricWarning: Precision and F-score are ill-defined and being set to 0.0 in labels with no predicted samples. Use `zero_division` parameter to control this behavior.\n",
            "  _warn_prf(average, modifier, msg_start, len(result))\n",
            "/usr/local/lib/python3.7/dist-packages/sklearn/metrics/_classification.py:1308: UndefinedMetricWarning: Precision and F-score are ill-defined and being set to 0.0 in labels with no predicted samples. Use `zero_division` parameter to control this behavior.\n",
            "  _warn_prf(average, modifier, msg_start, len(result))\n"
          ]
        }
      ]
    },
    {
      "cell_type": "markdown",
      "metadata": {
        "id": "B3kT-g1AYQZz"
      },
      "source": [
        "# 4. Using Word Embeddings¶\n"
      ]
    },
    {
      "cell_type": "code",
      "metadata": {
        "id": "QE88CHvSYDdQ"
      },
      "source": [
        "voc = vectorize_layer.get_vocabulary()\n",
        "word_index = dict(zip(voc, range(len(voc))))"
      ],
      "execution_count": 34,
      "outputs": []
    },
    {
      "cell_type": "code",
      "metadata": {
        "colab": {
          "base_uri": "https://localhost:8080/"
        },
        "id": "yCkQS9RGYUSp",
        "outputId": "325ba241-936e-403e-b6a8-a4f0e741e50f"
      },
      "source": [
        "word_index\n"
      ],
      "execution_count": 35,
      "outputs": [
        {
          "output_type": "execute_result",
          "data": {
            "text/plain": [
              "{'': 0,\n",
              " '[UNK]': 1,\n",
              " 'bir': 2,\n",
              " 'ürün': 3,\n",
              " 'güzel': 4,\n",
              " 'iyi': 5,\n",
              " 'geldi': 6,\n",
              " 'değil': 7,\n",
              " 'iade': 8,\n",
              " 'gayet': 9,\n",
              " 'aldım': 10,\n",
              " 'tavsiye': 11,\n",
              " 'fakat': 12,\n",
              " 'biraz': 13,\n",
              " 'ürünü': 14,\n",
              " 'yok': 15,\n",
              " 'cok': 16,\n",
              " 'bi': 17,\n",
              " 'memnun': 18,\n",
              " 'hızlı': 19,\n",
              " 'kaliteli': 20,\n",
              " 'kadar': 21,\n",
              " 'var': 22,\n",
              " 'ederim': 23,\n",
              " 'göre': 24,\n",
              " 'ben': 25,\n",
              " 'kargo': 26,\n",
              " 'kullanışlı': 27,\n",
              " 'olarak': 28,\n",
              " 'sadece': 29,\n",
              " 'oldu': 30,\n",
              " 'sonra': 31,\n",
              " 'kötü': 32,\n",
              " 'tam': 33,\n",
              " 'küçük': 34,\n",
              " 'uygun': 35,\n",
              " '2': 36,\n",
              " 'ettim': 37,\n",
              " 'fazla': 38,\n",
              " '1': 39,\n",
              " 'bile': 40,\n",
              " 'ses': 41,\n",
              " 'hemen': 42,\n",
              " 'elime': 43,\n",
              " 'uzun': 44,\n",
              " 'ürünün': 45,\n",
              " 'saç': 46,\n",
              " 'ancak': 47,\n",
              " 'kesinlikle': 48,\n",
              " 'tek': 49,\n",
              " 'beğendim': 50,\n",
              " 'sorun': 51,\n",
              " 'büyük': 52,\n",
              " 'urun': 53,\n",
              " 'ilk': 54,\n",
              " 'gün': 55,\n",
              " 'almayın': 56,\n",
              " 'bozuldu': 57,\n",
              " 'ince': 58,\n",
              " 'şarj': 59,\n",
              " 'ulaştı': 60,\n",
              " 'şekilde': 61,\n",
              " 'guzel': 62,\n",
              " 'çabuk': 63,\n",
              " 'teşekkürler': 64,\n",
              " 'onun': 65,\n",
              " 'beğenmedim': 66,\n",
              " 'fiyatına': 67,\n",
              " 'benim': 68,\n",
              " 'yapıyor': 69,\n",
              " 'olduğu': 70,\n",
              " 'aynı': 71,\n",
              " 'kalitesiz': 72,\n",
              " 'duruyor': 73,\n",
              " 'ısınıyor': 74,\n",
              " 'kaldım': 75,\n",
              " 'almıştım': 76,\n",
              " 'kısa': 77,\n",
              " 'etmiyorum': 78,\n",
              " 'dışında': 79,\n",
              " 'gerçekten': 80,\n",
              " '3': 81,\n",
              " 'kullanıyorum': 82,\n",
              " 'kalitesi': 83,\n",
              " 'fiyat': 84,\n",
              " 'paketleme': 85,\n",
              " 'sıkıntı': 86,\n",
              " 'rengi': 87,\n",
              " 'geri': 88,\n",
              " 'eder': 89,\n",
              " 'bence': 90,\n",
              " 'sağlam': 91,\n",
              " 'zor': 92,\n",
              " 'teşekkür': 93,\n",
              " 'fiyata': 94,\n",
              " 'performans': 95,\n",
              " 'hafif': 96,\n",
              " 'sakal': 97,\n",
              " 'oluyor': 98,\n",
              " 'sesi': 99,\n",
              " 'memnunum': 100,\n",
              " 'iş': 101,\n",
              " 'icin': 102,\n",
              " 'telli': 103,\n",
              " 'idare': 104,\n",
              " 'önce': 105,\n",
              " 'saçlarım': 106,\n",
              " 'pek': 107,\n",
              " 'rağmen': 108,\n",
              " 'iki': 109,\n",
              " 'ay': 110,\n",
              " 'bana': 111,\n",
              " 'ayrıca': 112,\n",
              " 'marka': 113,\n",
              " 'çalışıyor': 114,\n",
              " 'göründüğü': 115,\n",
              " 'farklı': 116,\n",
              " 'aşırı': 117,\n",
              " 'yüzden': 118,\n",
              " 'kalın': 119,\n",
              " 'kullandım': 120,\n",
              " 'normal': 121,\n",
              " 'kısmı': 122,\n",
              " 'koku': 123,\n",
              " 'geliyor': 124,\n",
              " 'sipariş': 125,\n",
              " 'degil': 126,\n",
              " 'içinde': 127,\n",
              " 'başarılı': 128,\n",
              " 'ediyorum': 129,\n",
              " 'şık': 130,\n",
              " 'düz': 131,\n",
              " 'asla': 132,\n",
              " 'plastik': 133,\n",
              " '5': 134,\n",
              " 'teslim': 135,\n",
              " 'sorunsuz': 136,\n",
              " 'olması': 137,\n",
              " 'olan': 138,\n",
              " 'maalesef': 139,\n",
              " 'harika': 140,\n",
              " 'olmadı': 141,\n",
              " 'su': 142,\n",
              " 'ideal': 143,\n",
              " 'yorumlara': 144,\n",
              " 'şarjı': 145,\n",
              " 'zaten': 146,\n",
              " 'fena': 147,\n",
              " 'işe': 148,\n",
              " 'görür': 149,\n",
              " 'renk': 150,\n",
              " 'kalmadım': 151,\n",
              " 'saçı': 152,\n",
              " 'alın': 153,\n",
              " 'veriyor': 154,\n",
              " 'düzleştirici': 155,\n",
              " 'malesef': 156,\n",
              " 'denedim': 157,\n",
              " 'dalgalı': 158,\n",
              " 'baya': 159,\n",
              " 'verdim': 160,\n",
              " 'kolay': 161,\n",
              " 'mükemmel': 162,\n",
              " 'etmek': 163,\n",
              " 'yine': 164,\n",
              " 'yeri': 165,\n",
              " 'makine': 166,\n",
              " 'gelmedi': 167,\n",
              " 'diğer': 168,\n",
              " 'başka': 169,\n",
              " 'yeni': 170,\n",
              " 'teslimat': 171,\n",
              " 'süre': 172,\n",
              " 'geç': 173,\n",
              " 'bozuk': 174,\n",
              " 'berbat': 175,\n",
              " '4': 176,\n",
              " 'çıktı': 177,\n",
              " 'pratik': 178,\n",
              " 'bakarak': 179,\n",
              " 'aldık': 180,\n",
              " 'zaman': 181,\n",
              " 'servis': 182,\n",
              " 'saçım': 183,\n",
              " 'kere': 184,\n",
              " 'gücü': 185,\n",
              " 'olmuyor': 186,\n",
              " 'fiyatı': 187,\n",
              " 'böyle': 188,\n",
              " 'yapmıyor': 189,\n",
              " 'tekrar': 190,\n",
              " 'dandik': 191,\n",
              " '10': 192,\n",
              " 'kırık': 193,\n",
              " 'kullanımı': 194,\n",
              " 'kullanım': 195,\n",
              " 'gerekiyor': 196,\n",
              " 'başladı': 197,\n",
              " 'henüz': 198,\n",
              " 'bunu': 199,\n",
              " 'alıyor': 200,\n",
              " 'siyah': 201,\n",
              " 'olur': 202,\n",
              " 'oldum': 203,\n",
              " 'sürekli': 204,\n",
              " 'görüyor': 205,\n",
              " 'fön': 206,\n",
              " 'yeterli': 207,\n",
              " 'umarım': 208,\n",
              " 'pişiriyor': 209,\n",
              " 'olsun': 210,\n",
              " 'mi': 211,\n",
              " 'kokusu': 212,\n",
              " 'iyiydi': 213,\n",
              " 'gelen': 214,\n",
              " 'dk': 215,\n",
              " 'tercih': 216,\n",
              " 'kablosu': 217,\n",
              " 'i̇lk': 218,\n",
              " 'i̇ade': 219,\n",
              " 'hafta': 220,\n",
              " 'etmem': 221,\n",
              " 'yıldız': 222,\n",
              " 'kendi': 223,\n",
              " 'hediye': 224,\n",
              " 'çalışmıyor': 225,\n",
              " 'saat': 226,\n",
              " 'makina': 227,\n",
              " 'kullanımda': 228,\n",
              " 'hiçbir': 229,\n",
              " 'pişman': 230,\n",
              " 'evet': 231,\n",
              " 'ediyor': 232,\n",
              " 'aldığım': 233,\n",
              " 'üründen': 234,\n",
              " 'öyle': 235,\n",
              " 'istediğim': 236,\n",
              " 'artık': 237,\n",
              " 'vardı': 238,\n",
              " 'olabilir': 239,\n",
              " 'beklemeyin': 240,\n",
              " 'sakın': 241,\n",
              " 'rahat': 242,\n",
              " 'para': 243,\n",
              " 'kalite': 244,\n",
              " 'kabul': 245,\n",
              " 'doğru': 246,\n",
              " 'aldim': 247,\n",
              " 'zorunda': 248,\n",
              " 'yüksek': 249,\n",
              " 'yaptı': 250,\n",
              " 'telefon': 251,\n",
              " 'sanırım': 252,\n",
              " 'bitiyor': 253,\n",
              " '15': 254,\n",
              " 'trendyol': 255,\n",
              " 'resmen': 256,\n",
              " 'hic': 257,\n",
              " 'günde': 258,\n",
              " 'falan': 259,\n",
              " 'durmuyor': 260,\n",
              " 'bende': 261,\n",
              " 'alabilirsiniz': 262,\n",
              " 'olmasına': 263,\n",
              " 'kaldı': 264,\n",
              " 'edeceğim': 265,\n",
              " 'beklediğim': 266,\n",
              " 'şimdilik': 267,\n",
              " 'performansı': 268,\n",
              " 'kırıldı': 269,\n",
              " 'beyaz': 270,\n",
              " 'çıkıyor': 271,\n",
              " 'tane': 272,\n",
              " 'orta': 273,\n",
              " 'olsa': 274,\n",
              " 'ocak': 275,\n",
              " 'dümdüz': 276,\n",
              " 'basit': 277,\n",
              " 'oldukça': 278,\n",
              " 'kıvırcık': 279,\n",
              " 'beklediğimden': 280,\n",
              " 'ısı': 281,\n",
              " 'üst': 282,\n",
              " 'sıfır': 283,\n",
              " 'kabarık': 284,\n",
              " 'hoş': 285,\n",
              " 'arkadaşlar': 286,\n",
              " 'şekil': 287,\n",
              " 'yorumlarda': 288,\n",
              " 'sert': 289,\n",
              " 'saçları': 290,\n",
              " 'rahatsız': 291,\n",
              " 'kullanmadım': 292,\n",
              " 'koptu': 293,\n",
              " 'keşke': 294,\n",
              " 'kesmiyor': 295,\n",
              " 'görünüyor': 296,\n",
              " 'gerek': 297,\n",
              " 'fırın': 298,\n",
              " 'düşünüyorum': 299,\n",
              " 'saçlar': 300,\n",
              " 'olduğunu': 301,\n",
              " 'içine': 302,\n",
              " 'hizli': 303,\n",
              " 'halde': 304,\n",
              " 'güçlü': 305,\n",
              " 'edildi': 306,\n",
              " 'boyutu': 307,\n",
              " 'başlığı': 308,\n",
              " 'an': 309,\n",
              " 'satıcı': 310,\n",
              " 'kurutma': 311,\n",
              " 'gidiyor': 312,\n",
              " 'ağır': 313,\n",
              " 'almıyor': 314,\n",
              " 'vs': 315,\n",
              " 'sürede': 316,\n",
              " 'süper': 317,\n",
              " 'lazım': 318,\n",
              " 'kullanmaya': 319,\n",
              " 'kalıyor': 320,\n",
              " 'hayal': 321,\n",
              " 'dikkat': 322,\n",
              " 'almak': 323,\n",
              " 'özelliği': 324,\n",
              " 'saçlarımı': 325,\n",
              " 'hemde': 326,\n",
              " 'cihaz': 327,\n",
              " 'üzerinde': 328,\n",
              " 'yanlış': 329,\n",
              " 'tüyleri': 330,\n",
              " 'problem': 331,\n",
              " 'güzeldi': 332,\n",
              " 'gür': 333,\n",
              " 'etmiyor': 334,\n",
              " 'alınabilir': 335,\n",
              " 'alalı': 336,\n",
              " 'yoktu': 337,\n",
              " 'kullanmak': 338,\n",
              " 'istedim': 339,\n",
              " 'ayrı': 340,\n",
              " 'çöpe': 341,\n",
              " 'yerine': 342,\n",
              " 'sorunu': 343,\n",
              " 'kutusu': 344,\n",
              " 'firma': 345,\n",
              " 'eski': 346,\n",
              " 'düzleştiriyor': 347,\n",
              " 'derece': 348,\n",
              " 'dakika': 349,\n",
              " 'şuan': 350,\n",
              " 'yapmak': 351,\n",
              " 'traş': 352,\n",
              " 'sarj': 353,\n",
              " 'olabilirdi': 354,\n",
              " 'maşa': 355,\n",
              " 'kurulum': 356,\n",
              " 'kaç': 357,\n",
              " 'gore': 358,\n",
              " 'garanti': 359,\n",
              " 'bı': 360,\n",
              " '👍': 361,\n",
              " 'saçımı': 362,\n",
              " 'kablo': 363,\n",
              " 'görüntü': 364,\n",
              " 'düşük': 365,\n",
              " 'diyebilirim': 366,\n",
              " 'derecede': 367,\n",
              " 'bunun': 368,\n",
              " 'buhar': 369,\n",
              " 'begenmedim': 370,\n",
              " 'aydır': 371,\n",
              " 'alt': 372,\n",
              " 'yavaş': 373,\n",
              " 'vermiyor': 374,\n",
              " 'satıcıya': 375,\n",
              " 'ona': 376,\n",
              " 'ikinci': 377,\n",
              " 'herhangi': 378,\n",
              " 'haricinde': 379,\n",
              " 'günlük': 380,\n",
              " 'gösteriyor': 381,\n",
              " 'dolayı': 382,\n",
              " 'ayarı': 383,\n",
              " 'yorum': 384,\n",
              " 'yinede': 385,\n",
              " 'yaşamadım': 386,\n",
              " 'yakıyor': 387,\n",
              " 'yakın': 388,\n",
              " 'sıkıntısı': 389,\n",
              " 'kesiyor': 390,\n",
              " 'kargoya': 391,\n",
              " 'işimi': 392,\n",
              " 'hızlıydı': 393,\n",
              " 'derim': 394,\n",
              " 'bilmiyorum': 395,\n",
              " 'bazen': 396,\n",
              " 'çıkmadı': 397,\n",
              " 'varsa': 398,\n",
              " 'olanlar': 399,\n",
              " 'metal': 400,\n",
              " 'makinesi': 401,\n",
              " 'kırmızı': 402,\n",
              " 'kullandığım': 403,\n",
              " 'kargoda': 404,\n",
              " 'işte': 405,\n",
              " 'inanılmaz': 406,\n",
              " 'hava': 407,\n",
              " 'geniş': 408,\n",
              " 'fark': 409,\n",
              " 'etmedim': 410,\n",
              " 'etkisi': 411,\n",
              " 'başlık': 412,\n",
              " 'arada': 413,\n",
              " 'alırken': 414,\n",
              " 'ışık': 415,\n",
              " 'üründe': 416,\n",
              " 'yaramıyor': 417,\n",
              " 'resimde': 418,\n",
              " 'gitti': 419,\n",
              " 'evde': 420,\n",
              " 'eksik': 421,\n",
              " 'değilim': 422,\n",
              " 'değildi': 423,\n",
              " 'bugün': 424,\n",
              " 'yoksa': 425,\n",
              " 'sesli': 426,\n",
              " 'oturmuyor': 427,\n",
              " 'onu': 428,\n",
              " 'kırdım': 429,\n",
              " 'kutu': 430,\n",
              " 'kahve': 431,\n",
              " 'geldiği': 432,\n",
              " 'bozuluyor': 433,\n",
              " 'belli': 434,\n",
              " 'başta': 435,\n",
              " 'aldığıma': 436,\n",
              " '6': 437,\n",
              " 'özenli': 438,\n",
              " 'çıkarıyor': 439,\n",
              " 'çanta': 440,\n",
              " 'yorumları': 441,\n",
              " 'yere': 442,\n",
              " 'yazık': 443,\n",
              " 'yamuk': 444,\n",
              " 'yaklaşık': 445,\n",
              " 'tık': 446,\n",
              " 'tarak': 447,\n",
              " 'tabi': 448,\n",
              " 'pembe': 449,\n",
              " 'memnunuz': 450,\n",
              " 'konusunda': 451,\n",
              " 'istiyorum': 452,\n",
              " 'herkese': 453,\n",
              " 'göndermişler': 454,\n",
              " 'fotoğrafta': 455,\n",
              " 'etti': 456,\n",
              " 'elimde': 457,\n",
              " 'elektriklenme': 458,\n",
              " 'açıkçası': 459,\n",
              " 'arka': 460,\n",
              " 'ürünüm': 461,\n",
              " 'ufak': 462,\n",
              " 'tamamen': 463,\n",
              " 'son': 464,\n",
              " 'saçta': 465,\n",
              " 'sac': 466,\n",
              " 'paketlenmiş': 467,\n",
              " 'oynuyor': 468,\n",
              " 'oda': 469,\n",
              " 'model': 470,\n",
              " 'kullanıyoruz': 471,\n",
              " 'kaldık': 472,\n",
              " 'hala': 473,\n",
              " 'genel': 474,\n",
              " 'fotoğraftaki': 475,\n",
              " 'edicem': 476,\n",
              " 'durum': 477,\n",
              " 'cam': 478,\n",
              " 'birde': 479,\n",
              " 'beğendik': 480,\n",
              " 'beni': 481,\n",
              " 'begendim': 482,\n",
              " 'açma': 483,\n",
              " 'almışım': 484,\n",
              " 'üzerine': 485,\n",
              " 'öneririm': 486,\n",
              " 'yıl': 487,\n",
              " 'tartıyor': 488,\n",
              " 'suyu': 489,\n",
              " 'paketlemesi': 490,\n",
              " 'olurdu': 491,\n",
              " 'olmaz': 492,\n",
              " 'kapama': 493,\n",
              " 'ilgili': 494,\n",
              " 'görüntüsü': 495,\n",
              " 'gönderdiler': 496,\n",
              " 'dikkatli': 497,\n",
              " 'devam': 498,\n",
              " 'çizik': 499,\n",
              " 'çekiyor': 500,\n",
              " 'yerden': 501,\n",
              " 'yazıyor': 502,\n",
              " 'yanık': 503,\n",
              " 'soğuk': 504,\n",
              " 'sonuç': 505,\n",
              " 'severek': 506,\n",
              " 'saça': 507,\n",
              " 'pişirme': 508,\n",
              " 'kullanılmış': 509,\n",
              " 'kek': 510,\n",
              " 'inşallah': 511,\n",
              " 'gönderildi': 512,\n",
              " 'gri': 513,\n",
              " 'ev': 514,\n",
              " 'ertesi': 515,\n",
              " 'düğmesi': 516,\n",
              " 'bişey': 517,\n",
              " 'aman': 518,\n",
              " 'almanızı': 519,\n",
              " 'ışığı': 520,\n",
              " 'çamaşır': 521,\n",
              " 'yerinde': 522,\n",
              " 'yer': 523,\n",
              " 'uyumlu': 524,\n",
              " 'olmadığı': 525,\n",
              " 'modeli': 526,\n",
              " 'malzeme': 527,\n",
              " 'lütfen': 528,\n",
              " 'kırıklığı': 529,\n",
              " 'kulaklık': 530,\n",
              " 'i̇yi': 531,\n",
              " 'iç': 532,\n",
              " 'hoşuma': 533,\n",
              " 'hassas': 534,\n",
              " 'görseldeki': 535,\n",
              " 'geçti': 536,\n",
              " 'geldiğinde': 537,\n",
              " 'fiyatina': 538,\n",
              " 'düzleştirme': 539,\n",
              " 'düzgün': 540,\n",
              " 'açısından': 541,\n",
              " 'ayni': 542,\n",
              " 'arasında': 543,\n",
              " 'aparatı': 544,\n",
              " 'anneme': 545,\n",
              " 'ürüne': 546,\n",
              " 'özellikle': 547,\n",
              " 'zamanla': 548,\n",
              " 'yetersiz': 549,\n",
              " 'yarım': 550,\n",
              " 'yaptım': 551,\n",
              " 'yada': 552,\n",
              " 'sık': 553,\n",
              " 'süresi': 554,\n",
              " 'sessiz': 555,\n",
              " 'saatte': 556,\n",
              " 'olmuş': 557,\n",
              " 'numara': 558,\n",
              " 'kargolama': 559,\n",
              " 'içi': 560,\n",
              " 'hatta': 561,\n",
              " 'gürültülü': 562,\n",
              " 'gelip': 563,\n",
              " 'gece': 564,\n",
              " 'ettik': 565,\n",
              " 'etki': 566,\n",
              " 'dalga': 567,\n",
              " 'cabuk': 568,\n",
              " 'açık': 569,\n",
              " 'ısısı': 570,\n",
              " 'üç': 571,\n",
              " 'öncelikle': 572,\n",
              " 'çekim': 573,\n",
              " 'çalışmadı': 574,\n",
              " 'yumuşak': 575,\n",
              " 'yarar': 576,\n",
              " 'yaramadı': 577,\n",
              " 'yanıyor': 578,\n",
              " 'telefonu': 579,\n",
              " 'saçma': 580,\n",
              " 'samsung': 581,\n",
              " 'parça': 582,\n",
              " 'makinem': 583,\n",
              " 'kıl': 584,\n",
              " 'kontrol': 585,\n",
              " 'kararma': 586,\n",
              " 'fırının': 587,\n",
              " 'ezik': 588,\n",
              " 'etmez': 589,\n",
              " 'düşüyor': 590,\n",
              " 'düşünmüyorum': 591,\n",
              " 'doğal': 592,\n",
              " 'değmez': 593,\n",
              " 'altı': 594,\n",
              " 'almaya': 595,\n",
              " 'a': 596,\n",
              " '8': 597,\n",
              " '20': 598,\n",
              " 'çalışması': 599,\n",
              " 'yandı': 600,\n",
              " 'sıcak': 601,\n",
              " 'sevdim': 602,\n",
              " 'saçınız': 603,\n",
              " 'saçlılar': 604,\n",
              " 'orijinal': 605,\n",
              " 'oldugu': 606,\n",
              " 'lakin': 607,\n",
              " 'kucuk': 608,\n",
              " 'kapalı': 609,\n",
              " 'jilet': 610,\n",
              " 'işime': 611,\n",
              " 'gelir': 612,\n",
              " 'elimize': 613,\n",
              " 'ekran': 614,\n",
              " 'eh': 615,\n",
              " 'boşuna': 616,\n",
              " 'bizim': 617,\n",
              " 'annem': 618,\n",
              " 'almış': 619,\n",
              " '7': 620,\n",
              " 'üstü': 621,\n",
              " 'zamanda': 622,\n",
              " 'yıldızı': 623,\n",
              " 'yerinden': 624,\n",
              " 'yarıyor': 625,\n",
              " 'uymadı': 626,\n",
              " 'urunu': 627,\n",
              " 'tutmuyor': 628,\n",
              " 'tesekkurler': 629,\n",
              " 'tepsi': 630,\n",
              " 'takınca': 631,\n",
              " 'sağ': 632,\n",
              " 'ragmen': 633,\n",
              " 'puan': 634,\n",
              " 'paraya': 635,\n",
              " 'paketi': 636,\n",
              " 'paket': 637,\n",
              " 'kısmında': 638,\n",
              " 'köpük': 639,\n",
              " 'kurulumu': 640,\n",
              " 'kokuyor': 641,\n",
              " 'kendine': 642,\n",
              " 'kamera': 643,\n",
              " 'i̇dare': 644,\n",
              " 'işinizi': 645,\n",
              " 'içindeki': 646,\n",
              " 'görmedim': 647,\n",
              " 'eşim': 648,\n",
              " 'elektrik': 649,\n",
              " 'dedim': 650,\n",
              " 'dalgalar': 651,\n",
              " 'bekliyorum': 652,\n",
              " 'başlıkları': 653,\n",
              " 'anca': 654,\n",
              " 'acı': 655,\n",
              " '30': 656,\n",
              " 'şimdi': 657,\n",
              " 'üstelik': 658,\n",
              " 'çalışırken': 659,\n",
              " 'yedek': 660,\n",
              " 'yaparken': 661,\n",
              " 'yalnız': 662,\n",
              " 'tüy': 663,\n",
              " 'tereddüt': 664,\n",
              " 'taktım': 665,\n",
              " 'sarı': 666,\n",
              " 'sabit': 667,\n",
              " 'paketlenmişti': 668,\n",
              " 'orjinal': 669,\n",
              " 'neredeyse': 670,\n",
              " 'kötüydü': 671,\n",
              " 'kullanınca': 672,\n",
              " 'kullanisli': 673,\n",
              " 'kilo': 674,\n",
              " 'kapanıyor': 675,\n",
              " 'kalitesini': 676,\n",
              " 'kaldim': 677,\n",
              " 'i̇nce': 678,\n",
              " 'içerisinde': 679,\n",
              " 'günü': 680,\n",
              " 'gibiydi': 681,\n",
              " 'gereksiz': 682,\n",
              " 'gelmez': 683,\n",
              " 'edip': 684,\n",
              " 'edici': 685,\n",
              " 'durdu': 686,\n",
              " 'direk': 687,\n",
              " 'denemek': 688,\n",
              " 'bundan': 689,\n",
              " 'bilemiyorum': 690,\n",
              " 'beklemiyordum': 691,\n",
              " 'ankastre': 692,\n",
              " 'alıp': 693,\n",
              " 'alınır': 694,\n",
              " 'altında': 695,\n",
              " 'almasın': 696,\n",
              " 'önceki': 697,\n",
              " 'ön': 698,\n",
              " 'çöp': 699,\n",
              " 'yaşadım': 700,\n",
              " 'yardımcı': 701,\n",
              " 'uğraşmak': 702,\n",
              " 'size': 703,\n",
              " 'saçımda': 704,\n",
              " 'pişmanım': 705,\n",
              " 'patladı': 706,\n",
              " 'olmayan': 707,\n",
              " 'olmasa': 708,\n",
              " 'olanı': 709,\n",
              " 'ocağıma': 710,\n",
              " 'normalde': 711,\n",
              " 'motoru': 712,\n",
              " 'modelini': 713,\n",
              " 'markası': 714,\n",
              " 'kusurlu': 715,\n",
              " 'kullanmadan': 716,\n",
              " 'kullandıkça': 717,\n",
              " 'kullanamadım': 718,\n",
              " 'kendini': 719,\n",
              " 'kaynaklı': 720,\n",
              " 'kardeşime': 721,\n",
              " 'kapağı': 722,\n",
              " 'kademeli': 723,\n",
              " 'i̇ş': 724,\n",
              " 'haftada': 725,\n",
              " 'gelmiyor': 726,\n",
              " 'eşime': 727,\n",
              " 'etkili': 728,\n",
              " 'el': 729,\n",
              " 'dar': 730,\n",
              " 'burun': 731,\n",
              " 'boşa': 732,\n",
              " 'beğenerek': 733,\n",
              " 'beri': 734,\n",
              " 'bekledigim': 735,\n",
              " 'başladım': 736,\n",
              " 'anlamadım': 737,\n",
              " 'alin': 738,\n",
              " 'aleti': 739,\n",
              " 'aldıktan': 740,\n",
              " 'acıtıyor': 741,\n",
              " 'şarja': 742,\n",
              " 'ıslak': 743,\n",
              " 'ürünler': 744,\n",
              " 'çizikler': 745,\n",
              " 'zamanında': 746,\n",
              " 'yerde': 747,\n",
              " 'yağ': 748,\n",
              " 'yanında': 749,\n",
              " 'yanı': 750,\n",
              " 'veriyorum': 751,\n",
              " 'verip': 752,\n",
              " 'ucuz': 753,\n",
              " 'telefona': 754,\n",
              " 'tarafı': 755,\n",
              " 'tahriş': 756,\n",
              " 'süreli': 757,\n",
              " 'söyleyemem': 758,\n",
              " 'sonucu': 759,\n",
              " 'sakalı': 760,\n",
              " 'saclarim': 761,\n",
              " 'rezalet': 762,\n",
              " 'pişirmesi': 763,\n",
              " 'pili': 764,\n",
              " 'paranızı': 765,\n",
              " 'paketlenmesi': 766,\n",
              " 'pahalı': 767,\n",
              " 'olsaydı': 768,\n",
              " 'olmasın': 769,\n",
              " 'olmadan': 770,\n",
              " 'ocağın': 771,\n",
              " 'muhteşem': 772,\n",
              " 'mouse': 773,\n",
              " 'kırıyor': 774,\n",
              " 'kurulumunu': 775,\n",
              " 'kuru': 776,\n",
              " 'kullanıyordum': 777,\n",
              " 'kullanırken': 778,\n",
              " 'kullandıktan': 779,\n",
              " 'kullandık': 780,\n",
              " 'kesim': 781,\n",
              " 'işlevi': 782,\n",
              " 'içinden': 783,\n",
              " 'görünüşü': 784,\n",
              " 'gun': 785,\n",
              " 'gereken': 786,\n",
              " 'farkı': 787,\n",
              " 'etmeyeceğim': 788,\n",
              " 'edin': 789,\n",
              " 'düzlük': 790,\n",
              " 'düzleştirmiyor': 791,\n",
              " 'diyor': 792,\n",
              " 'diyemem': 793,\n",
              " 'denemedim': 794,\n",
              " 'cm': 795,\n",
              " 'can': 796,\n",
              " 'bırakıyor': 797,\n",
              " 'buna': 798,\n",
              " 'braun': 799,\n",
              " 'bilgi': 800,\n",
              " 'arızalı': 801,\n",
              " 'arçelik': 802,\n",
              " 'ara': 803,\n",
              " 'almayin': 804,\n",
              " '0': 805,\n",
              " 'şeyi': 806,\n",
              " 'üstüne': 807,\n",
              " 'üstünden': 808,\n",
              " 'üstünde': 809,\n",
              " 'ürünle': 810,\n",
              " 'yıllardır': 811,\n",
              " 'yorumu': 812,\n",
              " 'yerleri': 813,\n",
              " 'yapıyorum': 814,\n",
              " 'verdi': 815,\n",
              " 'usb': 816,\n",
              " 'tuşları': 817,\n",
              " 'toz': 818,\n",
              " 'tavsiyem': 819,\n",
              " 'takarken': 820,\n",
              " 'sürdü': 821,\n",
              " 'sonradan': 822,\n",
              " 'sekilde': 823,\n",
              " 'satın': 824,\n",
              " 'saglam': 825,\n",
              " 'plastiği': 826,\n",
              " 'param': 827,\n",
              " 'ondan': 828,\n",
              " 'motor': 829,\n",
              " 'makinenin': 830,\n",
              " 'led': 831,\n",
              " 'kılları': 832,\n",
              " 'kurutuyor': 833,\n",
              " 'kumtel': 834,\n",
              " 'kullanmadim': 835,\n",
              " 'keserken': 836,\n",
              " 'iyisi': 837,\n",
              " 'isteyenler': 838,\n",
              " 'isiniyor': 839,\n",
              " 'is': 840,\n",
              " 'geçer': 841,\n",
              " 'emin': 842,\n",
              " 'düğmeleri': 843,\n",
              " 'dogru': 844,\n",
              " 'boy': 845,\n",
              " 'bitti': 846,\n",
              " 'bayağı': 847,\n",
              " 'bakalım': 848,\n",
              " 'açılmış': 849,\n",
              " 'azından': 850,\n",
              " 'ayda': 851,\n",
              " 'ayar': 852,\n",
              " 'ayakları': 853,\n",
              " 'adet': 854,\n",
              " '👎': 855,\n",
              " 'özensiz': 856,\n",
              " 'çocuk': 857,\n",
              " 'zarar': 858,\n",
              " 'yaradı': 859,\n",
              " 'yapmadı': 860,\n",
              " 'ucu': 861,\n",
              " 'takılı': 862,\n",
              " 'sıkıntılı': 863,\n",
              " 'sonunda': 864,\n",
              " 'sonrasında': 865,\n",
              " 'sevmedim': 866,\n",
              " 'servise': 867,\n",
              " 'sebebi': 868,\n",
              " 'sallanıyor': 869,\n",
              " 'sahip': 870,\n",
              " 'resimdeki': 871,\n",
              " 'philips': 872,\n",
              " 'ortalama': 873,\n",
              " 'olmaması': 874,\n",
              " 'malzemesi': 875,\n",
              " 'makineyi': 876,\n",
              " 'makinası': 877,\n",
              " 'lazer': 878,\n",
              " 'kullandim': 879,\n",
              " 'koyup': 880,\n",
              " 'kotu': 881,\n",
              " 'koltuk': 882,\n",
              " 'keskin': 883,\n",
              " 'karardı': 884,\n",
              " 'kapanmıyor': 885,\n",
              " 'hızı': 886,\n",
              " 'herkes': 887,\n",
              " 'hasar': 888,\n",
              " 'hak': 889,\n",
              " 'güvenerek': 890,\n",
              " 'göründüğünden': 891,\n",
              " 'gönül': 892,\n",
              " 'gönderilmiş': 893,\n",
              " 'gitmedi': 894,\n",
              " 'gercekten': 895,\n",
              " 'fönlü': 896,\n",
              " 'fp': 897,\n",
              " 'elde': 898,\n",
              " 'düşünün': 899,\n",
              " 'dün': 900,\n",
              " 'dönüyor': 901,\n",
              " 'diğeri': 902,\n",
              " 'değişim': 903,\n",
              " 'damacana': 904,\n",
              " 'buyuk': 905,\n",
              " 'bide': 906,\n",
              " 'beş': 907,\n",
              " 'başlıyor': 908,\n",
              " 'açıp': 909,\n",
              " 'attım': 910,\n",
              " 'arzum': 911,\n",
              " 'anda': 912,\n",
              " 'alışveriş': 913,\n",
              " 'alacağım': 914,\n",
              " 'alacak': 915,\n",
              " '12': 916,\n",
              " '👍🏻': 917,\n",
              " 'ışıkları': 918,\n",
              " 'ısıtıyor': 919,\n",
              " 'çıkartıyor': 920,\n",
              " 'zinciri': 921,\n",
              " 'yoluyor': 922,\n",
              " 'yeniden': 923,\n",
              " 'yemek': 924,\n",
              " 'yapış': 925,\n",
              " 'yanmıyor': 926,\n",
              " 'uçları': 927,\n",
              " 'uydu': 928,\n",
              " 'tıraş': 929,\n",
              " 'tutma': 930,\n",
              " 'tl': 931,\n",
              " 'temiz': 932,\n",
              " 'tabiki': 933,\n",
              " 'ta': 934,\n",
              " 'sey': 935,\n",
              " 'servisi': 936,\n",
              " 'saçımın': 937,\n",
              " 'saçlarınız': 938,\n",
              " 'saçlara': 939,\n",
              " 'sayılmaz': 940,\n",
              " 'satıcıdan': 941,\n",
              " 'saniye': 942,\n",
              " 'rahatlığıyla': 943,\n",
              " 'prize': 944,\n",
              " 'parayı': 945,\n",
              " 'olunca': 946,\n",
              " 'olduğum': 947,\n",
              " 'ocağım': 948,\n",
              " 'mutlaka': 949,\n",
              " 'mavi': 950,\n",
              " 'markayı': 951,\n",
              " 'kutusunda': 952,\n",
              " 'kurutmak': 953,\n",
              " 'kullanıyor': 954,\n",
              " 'kullanıma': 955,\n",
              " 'konuşurken': 956,\n",
              " 'kesimi': 957,\n",
              " 'kendim': 958,\n",
              " 'kenarları': 959,\n",
              " 'kalin': 960,\n",
              " 'i̇ki': 961,\n",
              " 'istemedim': 962,\n",
              " 'indirimdeyken': 963,\n",
              " 'iadesi': 964,\n",
              " 'hediyesi': 965,\n",
              " 'harici': 966,\n",
              " 'gündür': 967,\n",
              " 'gözüküyor': 968,\n",
              " 'gözlük': 969,\n",
              " 'göz': 970,\n",
              " 'görünüm': 971,\n",
              " 'görüldüğü': 972,\n",
              " 'gördü': 973,\n",
              " 'gelmiş': 974,\n",
              " 'gelmesi': 975,\n",
              " 'fişe': 976,\n",
              " 'firmadan': 977,\n",
              " 'ezilmiş': 978,\n",
              " 'eve': 979,\n",
              " 'etmeyin': 980,\n",
              " 'etmeden': 981,\n",
              " 'epilasyon': 982,\n",
              " 'eksi': 983,\n",
              " 'edilmedi': 984,\n",
              " 'düşünmeden': 985,\n",
              " 'denedik': 986,\n",
              " 'dan': 987,\n",
              " 'cidden': 988,\n",
              " 'buradan': 989,\n",
              " 'birebir': 990,\n",
              " 'beğendi': 991,\n",
              " 'beklentimi': 992,\n",
              " 'bayıldım': 993,\n",
              " 'aynısı': 994,\n",
              " 'aparatları': 995,\n",
              " 'altına': 996,\n",
              " 'almıştık': 997,\n",
              " 'almam': 998,\n",
              " 'alma': 999,\n",
              " ...}"
            ]
          },
          "metadata": {},
          "execution_count": 35
        }
      ]
    },
    {
      "cell_type": "code",
      "metadata": {
        "colab": {
          "base_uri": "https://localhost:8080/"
        },
        "id": "CAisDOkmYWpQ",
        "outputId": "8d27864a-b065-473d-d812-8fd585303376"
      },
      "source": [
        "test = [\"güzel\",  \"kargo\", \"para\",\"berbat\"]\n",
        "[word_index[w] for w in test]"
      ],
      "execution_count": 36,
      "outputs": [
        {
          "output_type": "execute_result",
          "data": {
            "text/plain": [
              "[4, 26, 243, 175]"
            ]
          },
          "metadata": {},
          "execution_count": 36
        }
      ]
    },
    {
      "cell_type": "markdown",
      "metadata": {
        "id": "7n4hmCRTZcFA"
      },
      "source": [
        "# Glove Embeddings¶\n"
      ]
    },
    {
      "cell_type": "code",
      "metadata": {
        "colab": {
          "base_uri": "https://localhost:8080/"
        },
        "id": "8Yvl1iZiZUNA",
        "outputId": "3787bfa5-454d-4c84-8de8-2bcbe5d6d180"
      },
      "source": [
        "!wget http://nlp.stanford.edu/data/glove.6B.zip\n",
        "!unzip -q glove.6B.zip"
      ],
      "execution_count": 37,
      "outputs": [
        {
          "output_type": "stream",
          "name": "stdout",
          "text": [
            "--2021-12-10 01:54:20--  http://nlp.stanford.edu/data/glove.6B.zip\n",
            "Resolving nlp.stanford.edu (nlp.stanford.edu)... 171.64.67.140\n",
            "Connecting to nlp.stanford.edu (nlp.stanford.edu)|171.64.67.140|:80... connected.\n",
            "HTTP request sent, awaiting response... 302 Found\n",
            "Location: https://nlp.stanford.edu/data/glove.6B.zip [following]\n",
            "--2021-12-10 01:54:20--  https://nlp.stanford.edu/data/glove.6B.zip\n",
            "Connecting to nlp.stanford.edu (nlp.stanford.edu)|171.64.67.140|:443... connected.\n",
            "HTTP request sent, awaiting response... 301 Moved Permanently\n",
            "Location: http://downloads.cs.stanford.edu/nlp/data/glove.6B.zip [following]\n",
            "--2021-12-10 01:54:20--  http://downloads.cs.stanford.edu/nlp/data/glove.6B.zip\n",
            "Resolving downloads.cs.stanford.edu (downloads.cs.stanford.edu)... 171.64.64.22\n",
            "Connecting to downloads.cs.stanford.edu (downloads.cs.stanford.edu)|171.64.64.22|:80... connected.\n",
            "HTTP request sent, awaiting response... 200 OK\n",
            "Length: 862182613 (822M) [application/zip]\n",
            "Saving to: ‘glove.6B.zip.2’\n",
            "\n",
            "glove.6B.zip.2      100%[===================>] 822.24M  5.09MB/s    in 2m 40s  \n",
            "\n",
            "2021-12-10 01:57:01 (5.13 MB/s) - ‘glove.6B.zip.2’ saved [862182613/862182613]\n",
            "\n",
            "replace glove.6B.50d.txt? [y]es, [n]o, [A]ll, [N]one, [r]ename: y\n",
            "replace glove.6B.100d.txt? [y]es, [n]o, [A]ll, [N]one, [r]ename: y\n",
            "replace glove.6B.200d.txt? [y]es, [n]o, [A]ll, [N]one, [r]ename: y\n",
            "replace glove.6B.300d.txt? [y]es, [n]o, [A]ll, [N]one, [r]ename: y\n"
          ]
        }
      ]
    },
    {
      "cell_type": "code",
      "metadata": {
        "colab": {
          "base_uri": "https://localhost:8080/"
        },
        "id": "tSf2wIj5ZevB",
        "outputId": "f2f1eff0-65e3-4923-cfdd-0249db36a3da"
      },
      "source": [
        "!ls\n"
      ],
      "execution_count": 38,
      "outputs": [
        {
          "output_type": "stream",
          "name": "stdout",
          "text": [
            "glove.6B.100d.txt  glove.6B.50d.txt  glove.6B.zip.2  sample_data\n",
            "glove.6B.200d.txt  glove.6B.zip      model.h5\n",
            "glove.6B.300d.txt  glove.6B.zip.1    sample.csv\n"
          ]
        }
      ]
    },
    {
      "cell_type": "code",
      "metadata": {
        "colab": {
          "base_uri": "https://localhost:8080/"
        },
        "id": "eChJx1GNZi0w",
        "outputId": "fd24b9dd-418b-4acc-f72e-a9922e453659"
      },
      "source": [
        "embeddings_index = {}\n",
        "with open(\"glove.6B.100d.txt\") as f:\n",
        "    for line in f:\n",
        "        word, coefs = line.split(maxsplit=1)\n",
        "        coefs = np.fromstring(coefs, \"f\", sep=\" \")\n",
        "        embeddings_index[word] = coefs\n",
        "\n",
        "print(\"Found %s word vectors.\" % len(embeddings_index))"
      ],
      "execution_count": 39,
      "outputs": [
        {
          "output_type": "stream",
          "name": "stdout",
          "text": [
            "Found 400000 word vectors.\n"
          ]
        }
      ]
    },
    {
      "cell_type": "code",
      "metadata": {
        "colab": {
          "base_uri": "https://localhost:8080/"
        },
        "id": "PVy3--7TdXyQ",
        "outputId": "aa261cc0-c4ab-4286-f340-f7243c2b5813"
      },
      "source": [
        "embeddings_index[\"cat\"]\n"
      ],
      "execution_count": 40,
      "outputs": [
        {
          "output_type": "execute_result",
          "data": {
            "text/plain": [
              "array([ 0.23088  ,  0.28283  ,  0.6318   , -0.59411  , -0.58599  ,\n",
              "        0.63255  ,  0.24402  , -0.14108  ,  0.060815 , -0.7898   ,\n",
              "       -0.29102  ,  0.14287  ,  0.72274  ,  0.20428  ,  0.1407   ,\n",
              "        0.98757  ,  0.52533  ,  0.097456 ,  0.8822   ,  0.51221  ,\n",
              "        0.40204  ,  0.21169  , -0.013109 , -0.71616  ,  0.55387  ,\n",
              "        1.1452   , -0.88044  , -0.50216  , -0.22814  ,  0.023885 ,\n",
              "        0.1072   ,  0.083739 ,  0.55015  ,  0.58479  ,  0.75816  ,\n",
              "        0.45706  , -0.28001  ,  0.25225  ,  0.68965  , -0.60972  ,\n",
              "        0.19578  ,  0.044209 , -0.31136  , -0.68826  , -0.22721  ,\n",
              "        0.46185  , -0.77162  ,  0.10208  ,  0.55636  ,  0.067417 ,\n",
              "       -0.57207  ,  0.23735  ,  0.4717   ,  0.82765  , -0.29263  ,\n",
              "       -1.3422   , -0.099277 ,  0.28139  ,  0.41604  ,  0.10583  ,\n",
              "        0.62203  ,  0.89496  , -0.23446  ,  0.51349  ,  0.99379  ,\n",
              "        1.1846   , -0.16364  ,  0.20653  ,  0.73854  ,  0.24059  ,\n",
              "       -0.96473  ,  0.13481  , -0.0072484,  0.33016  , -0.12365  ,\n",
              "        0.27191  , -0.40951  ,  0.021909 , -0.6069   ,  0.40755  ,\n",
              "        0.19566  , -0.41802  ,  0.18636  , -0.032652 , -0.78571  ,\n",
              "       -0.13847  ,  0.044007 , -0.084423 ,  0.04911  ,  0.24104  ,\n",
              "        0.45273  , -0.18682  ,  0.46182  ,  0.089068 , -0.18185  ,\n",
              "       -0.01523  , -0.7368   , -0.14532  ,  0.15104  , -0.71493  ],\n",
              "      dtype=float32)"
            ]
          },
          "metadata": {},
          "execution_count": 40
        }
      ]
    },
    {
      "cell_type": "code",
      "metadata": {
        "colab": {
          "base_uri": "https://localhost:8080/"
        },
        "id": "GPtqDZSwddDw",
        "outputId": "85ef9600-1b1a-484c-c557-7fbb8c4a5324"
      },
      "source": [
        "num_tokens = len(voc) + 2\n",
        "#embedding_dim = 100\n",
        "hits = 0\n",
        "misses = 0\n",
        "\n",
        "# Prepare embedding matrix to be used in a Embedding layer\n",
        "# matrix where entry at index i is the pre-trained vector for the word of index i in our vectorizer's vocabulary\n",
        "embedding_matrix = np.zeros((num_tokens, embedding_dim))\n",
        "for word, i in word_index.items():\n",
        "    embedding_vector = embeddings_index.get(word)\n",
        "    if embedding_vector is not None:\n",
        "        # Words not found in embedding index will be all-zeros.\n",
        "        # This includes the representation for \"padding\" and \"OOV\"\n",
        "        embedding_matrix[i] = embedding_vector\n",
        "        hits += 1\n",
        "    else:\n",
        "        misses += 1\n",
        "print(\"Converted %d words (%d misses)\" % (hits, misses))"
      ],
      "execution_count": 41,
      "outputs": [
        {
          "output_type": "stream",
          "name": "stdout",
          "text": [
            "Converted 1228 words (14179 misses)\n"
          ]
        }
      ]
    },
    {
      "cell_type": "code",
      "metadata": {
        "colab": {
          "base_uri": "https://localhost:8080/"
        },
        "id": "h7KVHdZ8di_Y",
        "outputId": "1674bed2-21e2-4bd6-d883-30173715d25d"
      },
      "source": [
        "embeddings_index[\"guzel\"]\n"
      ],
      "execution_count": 42,
      "outputs": [
        {
          "output_type": "execute_result",
          "data": {
            "text/plain": [
              "array([ 0.5084   ,  0.505    , -0.081128 , -0.21552  ,  0.01673  ,\n",
              "       -0.74883  , -0.037463 , -0.33809  ,  0.18696  ,  0.41353  ,\n",
              "        0.51614  ,  0.32128  ,  0.020276 , -0.17554  , -0.095284 ,\n",
              "        0.23546  , -0.54258  ,  0.43615  ,  0.28495  , -0.10936  ,\n",
              "       -0.22726  ,  0.51345  , -0.12641  ,  1.0597   ,  0.18203  ,\n",
              "        0.5659   ,  0.57652  ,  0.21145  ,  0.40707  , -0.12156  ,\n",
              "        0.12677  , -0.29595  ,  0.39932  , -0.011487 , -0.099267 ,\n",
              "       -0.34029  ,  0.35489  ,  0.17766  ,  0.055194 , -0.11279  ,\n",
              "        0.45247  ,  0.16822  ,  0.88978  ,  0.049971 , -0.39325  ,\n",
              "       -0.37352  ,  0.12689  ,  0.5073   ,  0.54952  ,  0.57672  ,\n",
              "       -0.0089012, -0.41126  , -0.17227  , -0.20782  ,  0.12585  ,\n",
              "        0.76335  ,  0.32022  , -0.1332   , -0.66609  , -0.56915  ,\n",
              "        0.023227 , -0.33429  ,  1.1368   , -0.41956  ,  0.094599 ,\n",
              "       -0.22115  , -0.072964 , -0.46117  , -0.47633  ,  0.2042   ,\n",
              "        0.0048466,  0.15403  ,  0.30478  ,  0.87446  , -0.030085 ,\n",
              "       -0.090391 ,  0.52065  , -0.11192  ,  0.60069  , -0.32072  ,\n",
              "       -0.29421  , -0.28079  ,  0.15086  , -0.37686  ,  0.12127  ,\n",
              "        0.17927  ,  0.084334 ,  0.78566  , -0.30915  ,  0.7534   ,\n",
              "        0.37826  ,  0.22228  ,  0.25276  , -0.53312  , -0.10407  ,\n",
              "       -0.22428  ,  0.045587 , -0.077479 , -1.0418   ,  0.12276  ],\n",
              "      dtype=float32)"
            ]
          },
          "metadata": {},
          "execution_count": 42
        }
      ]
    },
    {
      "cell_type": "code",
      "metadata": {
        "colab": {
          "base_uri": "https://localhost:8080/"
        },
        "id": "bhuuoEJ8dlQZ",
        "outputId": "f7130361-c64d-4bcf-9892-d528a15e9dbf"
      },
      "source": [
        "word_index[\"guzel\"]\n"
      ],
      "execution_count": 43,
      "outputs": [
        {
          "output_type": "execute_result",
          "data": {
            "text/plain": [
              "62"
            ]
          },
          "metadata": {},
          "execution_count": 43
        }
      ]
    },
    {
      "cell_type": "code",
      "metadata": {
        "colab": {
          "base_uri": "https://localhost:8080/"
        },
        "id": "-PPBJs3Sdw_g",
        "outputId": "73ba471c-26f1-48da-a553-30d464157901"
      },
      "source": [
        "embedding_matrix[216]\n"
      ],
      "execution_count": 44,
      "outputs": [
        {
          "output_type": "execute_result",
          "data": {
            "text/plain": [
              "array([0., 0., 0., 0., 0., 0., 0., 0., 0., 0., 0., 0., 0., 0., 0., 0., 0.,\n",
              "       0., 0., 0., 0., 0., 0., 0., 0., 0., 0., 0., 0., 0., 0., 0., 0., 0.,\n",
              "       0., 0., 0., 0., 0., 0., 0., 0., 0., 0., 0., 0., 0., 0., 0., 0., 0.,\n",
              "       0., 0., 0., 0., 0., 0., 0., 0., 0., 0., 0., 0., 0., 0., 0., 0., 0.,\n",
              "       0., 0., 0., 0., 0., 0., 0., 0., 0., 0., 0., 0., 0., 0., 0., 0., 0.,\n",
              "       0., 0., 0., 0., 0., 0., 0., 0., 0., 0., 0., 0., 0., 0., 0.])"
            ]
          },
          "metadata": {},
          "execution_count": 44
        }
      ]
    },
    {
      "cell_type": "code",
      "metadata": {
        "colab": {
          "base_uri": "https://localhost:8080/",
          "height": 990
        },
        "id": "bZe17jcmdzqw",
        "outputId": "d032b680-c11a-47d2-ab0d-bd02f516de25"
      },
      "source": [
        "# Visualizing with T-SNE\n",
        "from sklearn.manifold import TSNE\n",
        "import matplotlib.pyplot as plt\n",
        "%matplotlib inline\n",
        "\n",
        "\n",
        "max_w = 1000\n",
        "# Creates and TSNE model and plots it\n",
        "labels = []\n",
        "tokens = []\n",
        "for word, i in word_index.items():\n",
        "    if i == max_w:\n",
        "        break\n",
        "    embedding_vector = embeddings_index.get(word)\n",
        "    if embedding_vector is not None:\n",
        "        tokens.append(embedding_vector)\n",
        "        labels.append(word)\n",
        "tsne_model = TSNE(perplexity=40, n_components=2, init='pca', n_iter=2500, random_state=23)\n",
        "new_values = tsne_model.fit_transform(tokens)\n",
        "x = []\n",
        "y = []\n",
        "for value in new_values:\n",
        "    x.append(value[0])\n",
        "    y.append(value[1])\n",
        "plt.figure(figsize=(16, 16))\n",
        "for i in range(len(x)):\n",
        "    plt.scatter(x[i],y[i])\n",
        "    plt.annotate(labels[i],\n",
        "        xy=(x[i], y[i]),\n",
        "        xytext=(5, 2),\n",
        "        textcoords='offset points',\n",
        "        ha='right',\n",
        "        va='bottom')\n",
        "plt.show()"
      ],
      "execution_count": 45,
      "outputs": [
        {
          "output_type": "stream",
          "name": "stderr",
          "text": [
            "/usr/local/lib/python3.7/dist-packages/sklearn/manifold/_t_sne.py:793: FutureWarning: The default learning rate in TSNE will change from 200.0 to 'auto' in 1.2.\n",
            "  FutureWarning,\n",
            "/usr/local/lib/python3.7/dist-packages/sklearn/manifold/_t_sne.py:986: FutureWarning: The PCA initialization in TSNE will change to have the standard deviation of PC1 equal to 1e-4 in 1.2. This will ensure better convergence.\n",
            "  FutureWarning,\n"
          ]
        },
        {
          "output_type": "display_data",
          "data": {
            "image/png": "[encoded data removed]",
            "text/plain": [
              "<Figure size 1152x1152 with 1 Axes>"
            ]
          },
          "metadata": {
            "needs_background": "light"
          }
        }
      ]
    },
    {
      "cell_type": "code",
      "metadata": {
        "id": "fRBYHPfrd3_w"
      },
      "source": [
        "# load the pre-trained word embeddings matrix into an Embedding layer. trainable = False\n",
        "embedding_layer = layers.Embedding(\n",
        "    num_tokens,\n",
        "    embedding_dim,\n",
        "    embeddings_initializer=keras.initializers.Constant(embedding_matrix),\n",
        "    trainable=False,\n",
        ")"
      ],
      "execution_count": 46,
      "outputs": []
    },
    {
      "cell_type": "code",
      "metadata": {
        "id": "LtWvYjxTeFaQ"
      },
      "source": [
        "model = Sequential()\n",
        "# Input for variable-length sequences of integers\n",
        "model.add(keras.Input(shape=(None,), dtype=\"int64\"))\n",
        "# load the pre-trained word embeddings matrix into an Embedding layer. trainable = False\n",
        "model.add(layers.Embedding(num_tokens,embedding_dim, embeddings_initializer=keras.initializers.Constant(embedding_matrix), trainable=False))\n",
        "# Add 2 bidirectional LSTMs\n",
        "model.add(layers.Bidirectional(layers.LSTM(32, return_sequences=True)))\n",
        "model.add(layers.Bidirectional(layers.LSTM(32)))\n",
        "# Add a classifier\n",
        "model.add(layers.Dense(1, activation=\"sigmoid\"))\n",
        "\n",
        "# Compile the model\n",
        "model.compile(loss=\"binary_crossentropy\", optimizer=\"adam\", metrics=[\"accuracy\"])"
      ],
      "execution_count": 47,
      "outputs": []
    },
    {
      "cell_type": "code",
      "metadata": {
        "colab": {
          "base_uri": "https://localhost:8080/"
        },
        "id": "0-loDkBfeHH3",
        "outputId": "a5181835-1373-4b6e-c2ea-757644f92267"
      },
      "source": [
        "# Train\n",
        "#Salvar o melhor modelo\n",
        "callbacks_list = [\n",
        "    keras.callbacks.ModelCheckpoint(\n",
        "        filepath='model.h5',\n",
        "        monitor='val_loss', save_best_only=True, verbose=1),\n",
        "    keras.callbacks.EarlyStopping(monitor='val_loss', patience=5,verbose=1)\n",
        "]\n",
        "\n",
        "history = model.fit(\n",
        "    train_ds, train_df['sentiment'], \n",
        "    epochs=5, \n",
        "    verbose=1,\n",
        "    callbacks = callbacks_list,\n",
        "    validation_data=(valid_ds, valid_df['sentiment']))"
      ],
      "execution_count": 48,
      "outputs": [
        {
          "output_type": "stream",
          "name": "stdout",
          "text": [
            "Epoch 1/5\n",
            "200/200 [==============================] - ETA: 0s - loss: 0.6594 - accuracy: 0.6078\n",
            "Epoch 00001: val_loss improved from inf to 0.63240, saving model to model.h5\n",
            "200/200 [==============================] - 134s 643ms/step - loss: 0.6594 - accuracy: 0.6078 - val_loss: 0.6324 - val_accuracy: 0.6210\n",
            "Epoch 2/5\n",
            "200/200 [==============================] - ETA: 0s - loss: 0.6349 - accuracy: 0.6275\n",
            "Epoch 00002: val_loss improved from 0.63240 to 0.62333, saving model to model.h5\n",
            "200/200 [==============================] - 127s 637ms/step - loss: 0.6349 - accuracy: 0.6275 - val_loss: 0.6233 - val_accuracy: 0.6460\n",
            "Epoch 3/5\n",
            "200/200 [==============================] - ETA: 0s - loss: 0.6213 - accuracy: 0.6384\n",
            "Epoch 00003: val_loss improved from 0.62333 to 0.61457, saving model to model.h5\n",
            "200/200 [==============================] - 129s 643ms/step - loss: 0.6213 - accuracy: 0.6384 - val_loss: 0.6146 - val_accuracy: 0.6540\n",
            "Epoch 4/5\n",
            "200/200 [==============================] - ETA: 0s - loss: 0.6076 - accuracy: 0.6523\n",
            "Epoch 00004: val_loss improved from 0.61457 to 0.61380, saving model to model.h5\n",
            "200/200 [==============================] - 134s 670ms/step - loss: 0.6076 - accuracy: 0.6523 - val_loss: 0.6138 - val_accuracy: 0.6505\n",
            "Epoch 5/5\n",
            "200/200 [==============================] - ETA: 0s - loss: 0.5976 - accuracy: 0.6591\n",
            "Epoch 00005: val_loss did not improve from 0.61380\n",
            "200/200 [==============================] - 128s 638ms/step - loss: 0.5976 - accuracy: 0.6591 - val_loss: 0.6174 - val_accuracy: 0.6345\n"
          ]
        }
      ]
    },
    {
      "cell_type": "code",
      "metadata": {
        "colab": {
          "base_uri": "https://localhost:8080/",
          "height": 482
        },
        "id": "UWFgqpKaeJAw",
        "outputId": "1a8dbdc5-c1b7-4db0-c66d-944f026f92db"
      },
      "source": [
        "import matplotlib.pyplot as plt\n",
        "fig, ax = plt.subplots(1,2, figsize=(16,8))\n",
        "ax[0].plot(history.history['loss'], color='b', label=\"Training loss\")\n",
        "ax[0].plot(history.history['val_loss'], color='r', label=\"validation loss\",axes =ax[0])\n",
        "legend = ax[0].legend(loc='best', shadow=True)\n",
        "\n",
        "ax[1].plot(history.history['accuracy'], color='b', label=\"Training accuracy\")\n",
        "ax[1].plot(history.history['val_accuracy'], color='r',label=\"Validation accuracy\")\n",
        "legend = ax[1].legend(loc='best', shadow=True)"
      ],
      "execution_count": 49,
      "outputs": [
        {
          "output_type": "display_data",
          "data": {
            "image/png": "[encoded data removed]",
            "text/plain": [
              "<Figure size 1152x576 with 2 Axes>"
            ]
          },
          "metadata": {
            "needs_background": "light"
          }
        }
      ]
    },
    {
      "cell_type": "code",
      "metadata": {
        "colab": {
          "base_uri": "https://localhost:8080/"
        },
        "id": "EAMdNKp-eO2Q",
        "outputId": "72f6abb1-24f8-4c53-efef-df19189fd500"
      },
      "source": [
        "model = load_model('model.h5')\n",
        "\n",
        "y_pred = model.predict(test_ds)\n",
        "y_pred = [1 if x >=0.5 else 0 for x in y_pred]\n",
        "print(classification_report(test_df['sentiment'], y_pred, target_names=['0','1']))"
      ],
      "execution_count": 50,
      "outputs": [
        {
          "output_type": "stream",
          "name": "stdout",
          "text": [
            "              precision    recall  f1-score   support\n",
            "\n",
            "           0       0.65      0.89      0.75       995\n",
            "           1       0.54      0.21      0.30       605\n",
            "\n",
            "    accuracy                           0.63      1600\n",
            "   macro avg       0.59      0.55      0.52      1600\n",
            "weighted avg       0.61      0.63      0.58      1600\n",
            "\n"
          ]
        }
      ]
    },
    {
      "cell_type": "markdown",
      "metadata": {
        "id": "8GwYpKL1fK8f"
      },
      "source": [
        "# Using a Transformer¶\n"
      ]
    },
    {
      "cell_type": "code",
      "metadata": {
        "id": "HD6Xg_P0eeAn"
      },
      "source": [
        "class TransformerBlock(layers.Layer):\n",
        "    def __init__(self, embed_dim, num_heads, ff_dim, rate=0.1, name=None, **kwargs):\n",
        "        super(TransformerBlock, self).__init__(name=name)\n",
        "        self.embed_dim = embed_dim\n",
        "        self.num_heads = num_heads\n",
        "        self.ff_dim = ff_dim\n",
        "        self.rate = rate\n",
        "        super(TransformerBlock, self).__init__(**kwargs)\n",
        "        self.att = layers.MultiHeadAttention(num_heads=num_heads, key_dim=embed_dim)\n",
        "        self.ffn = keras.Sequential(\n",
        "            [layers.Dense(ff_dim, activation=\"relu\"), layers.Dense(embed_dim),]\n",
        "        )\n",
        "        self.layernorm1 = layers.LayerNormalization(epsilon=1e-6)\n",
        "        self.layernorm2 = layers.LayerNormalization(epsilon=1e-6)\n",
        "        self.dropout1 = layers.Dropout(rate)\n",
        "        self.dropout2 = layers.Dropout(rate)\n",
        "\n",
        "    def call(self, inputs, training):\n",
        "        attn_output = self.att(inputs, inputs)\n",
        "        attn_output = self.dropout1(attn_output, training=training)\n",
        "        out1 = self.layernorm1(inputs + attn_output)\n",
        "        ffn_output = self.ffn(out1)\n",
        "        ffn_output = self.dropout2(ffn_output, training=training)\n",
        "        return self.layernorm2(out1 + ffn_output)\n",
        "    \n",
        "    def get_config(self):\n",
        "        config = super().get_config().copy()\n",
        "        config.update({\n",
        "            'embed_dim': self.embed_dim,\n",
        "            'num_heads': self.num_heads,\n",
        "            'ff_dim': self.ff_dim,\n",
        "            'rate': self.rate,\n",
        "        })\n",
        "        return config"
      ],
      "execution_count": 51,
      "outputs": []
    },
    {
      "cell_type": "code",
      "metadata": {
        "id": "MAk-xMGPfQVw"
      },
      "source": [
        "#Two seperate embedding layers, one for tokens, one for token index (positions).\n",
        "class TokenAndPositionEmbedding(layers.Layer):\n",
        "    def __init__(self, maxlen, vocab_size, embed_dim, name=None, **kwargs):\n",
        "        super(TokenAndPositionEmbedding, self).__init__(name=name)\n",
        "        self.maxlen = maxlen\n",
        "        self.vocab_size = vocab_size\n",
        "        self.embed_dim = embed_dim\n",
        "        super(TokenAndPositionEmbedding, self).__init__(**kwargs)\n",
        "        self.token_emb = layers.Embedding(input_dim=vocab_size, output_dim=embed_dim)\n",
        "        self.pos_emb = layers.Embedding(input_dim=maxlen, output_dim=embed_dim)\n",
        "\n",
        "    def call(self, x):\n",
        "        maxlen = tf.shape(x)[-1]\n",
        "        positions = tf.range(start=0, limit=maxlen, delta=1)\n",
        "        positions = self.pos_emb(positions)\n",
        "        x = self.token_emb(x)\n",
        "        return x + positions\n",
        "    \n",
        "    def get_config(self):\n",
        "        config = super().get_config().copy()\n",
        "        config.update({\n",
        "            'maxlen': self.maxlen,\n",
        "            'vocab_size': self.vocab_size,\n",
        "            'embed_dim': self.embed_dim\n",
        "        })\n",
        "        return config"
      ],
      "execution_count": 52,
      "outputs": []
    },
    {
      "cell_type": "code",
      "metadata": {
        "id": "5bCPKpBqfpSM"
      },
      "source": [
        "import keras\n",
        "import keras.utils\n",
        "from keras import utils as np_utils\n",
        "import tensorflow as tf\n",
        "from tensorflow import keras\n",
        "from tensorflow.keras.layers import InputLayer\n",
        "from tensorflow.keras import layers \n",
        "import keras.backend as K\n",
        "from keras.layers import LSTM, Input\n",
        "\n"
      ],
      "execution_count": 53,
      "outputs": []
    },
    {
      "cell_type": "code",
      "metadata": {
        "id": "5kaUJbpnfTKQ"
      },
      "source": [
        "max_features = 20000\n",
        "embedding_dim = 100\n",
        "sequence_length = 500\n",
        "\n",
        "embed_dim = 32  # Embedding size for each token\n",
        "num_heads = 2  # Number of attention heads\n",
        "ff_dim = 32  # Hidden layer size in feed forward network inside transformer\n",
        "\n",
        "inputs = layers.Input(shape=(sequence_length,))\n",
        "embedding_layer = TokenAndPositionEmbedding(sequence_length, max_features, embedding_dim)\n",
        "x = embedding_layer(inputs)\n",
        "transformer_block = TransformerBlock(embedding_dim, num_heads, ff_dim)\n",
        "x = transformer_block(x)\n",
        "x = layers.GlobalAveragePooling1D()(x)\n",
        "x = layers.Dropout(0.1)(x)\n",
        "x = layers.Dense(20, activation=\"relu\")(x)\n",
        "x = layers.Dropout(0.1)(x)\n",
        "outputs = layers.Dense(1, activation=\"sigmoid\")(x)\n",
        "\n",
        "model = keras.Model(inputs=inputs, outputs=outputs)\n",
        "#model.compile(\"adam\", \"sparse_categorical_crossentropy\", metrics=[\"accuracy\"])\n",
        "model.compile(loss=\"binary_crossentropy\", optimizer=\"adam\", metrics=[\"accuracy\"])"
      ],
      "execution_count": 54,
      "outputs": []
    },
    {
      "cell_type": "code",
      "metadata": {
        "colab": {
          "base_uri": "https://localhost:8080/"
        },
        "id": "WPmBHrAJfVGw",
        "outputId": "c48438af-a134-4413-e9b0-79b9f4c7b1d1"
      },
      "source": [
        "# Train\n",
        "#Salvar o melhor modelo\n",
        "callbacks_list = [\n",
        "    keras.callbacks.ModelCheckpoint(\n",
        "        filepath='model.h5',\n",
        "        monitor='val_loss', save_best_only=True, verbose=1),\n",
        "    keras.callbacks.EarlyStopping(monitor='val_loss', patience=5,verbose=1)\n",
        "]\n",
        "\n",
        "history = model.fit(\n",
        "    train_ds, train_df['sentiment'], \n",
        "    epochs=10, \n",
        "    verbose=1,\n",
        "    callbacks = callbacks_list,\n",
        "    validation_data=(valid_ds, valid_df['sentiment'])\n",
        ")"
      ],
      "execution_count": 55,
      "outputs": [
        {
          "output_type": "stream",
          "name": "stdout",
          "text": [
            "Epoch 1/10\n",
            "200/200 [==============================] - ETA: 0s - loss: 0.6766 - accuracy: 0.6000\n",
            "Epoch 00001: val_loss improved from inf to 0.67154, saving model to model.h5\n",
            "200/200 [==============================] - 224s 1s/step - loss: 0.6766 - accuracy: 0.6000 - val_loss: 0.6715 - val_accuracy: 0.6105\n",
            "Epoch 2/10\n",
            "200/200 [==============================] - ETA: 0s - loss: 0.6698 - accuracy: 0.6048\n",
            "Epoch 00002: val_loss improved from 0.67154 to 0.67002, saving model to model.h5\n",
            "200/200 [==============================] - 225s 1s/step - loss: 0.6698 - accuracy: 0.6048 - val_loss: 0.6700 - val_accuracy: 0.6105\n",
            "Epoch 3/10\n",
            "200/200 [==============================] - ETA: 0s - loss: 0.4644 - accuracy: 0.7756\n",
            "Epoch 00003: val_loss improved from 0.67002 to 0.41288, saving model to model.h5\n",
            "200/200 [==============================] - 219s 1s/step - loss: 0.4644 - accuracy: 0.7756 - val_loss: 0.4129 - val_accuracy: 0.8180\n",
            "Epoch 4/10\n",
            "200/200 [==============================] - ETA: 0s - loss: 0.2564 - accuracy: 0.9033\n",
            "Epoch 00004: val_loss did not improve from 0.41288\n",
            "200/200 [==============================] - 218s 1s/step - loss: 0.2564 - accuracy: 0.9033 - val_loss: 0.5069 - val_accuracy: 0.8120\n",
            "Epoch 5/10\n",
            "200/200 [==============================] - ETA: 0s - loss: 0.1573 - accuracy: 0.9477\n",
            "Epoch 00005: val_loss did not improve from 0.41288\n",
            "200/200 [==============================] - 220s 1s/step - loss: 0.1573 - accuracy: 0.9477 - val_loss: 0.6060 - val_accuracy: 0.8045\n",
            "Epoch 6/10\n",
            "200/200 [==============================] - ETA: 0s - loss: 0.1073 - accuracy: 0.9634\n",
            "Epoch 00006: val_loss did not improve from 0.41288\n",
            "200/200 [==============================] - 217s 1s/step - loss: 0.1073 - accuracy: 0.9634 - val_loss: 0.7745 - val_accuracy: 0.7975\n",
            "Epoch 7/10\n",
            "200/200 [==============================] - ETA: 0s - loss: 0.0835 - accuracy: 0.9702\n",
            "Epoch 00007: val_loss did not improve from 0.41288\n",
            "200/200 [==============================] - 216s 1s/step - loss: 0.0835 - accuracy: 0.9702 - val_loss: 1.0245 - val_accuracy: 0.7815\n",
            "Epoch 8/10\n",
            "200/200 [==============================] - ETA: 0s - loss: 0.0661 - accuracy: 0.9744\n",
            "Epoch 00008: val_loss did not improve from 0.41288\n",
            "200/200 [==============================] - 216s 1s/step - loss: 0.0661 - accuracy: 0.9744 - val_loss: 1.0609 - val_accuracy: 0.7910\n",
            "Epoch 00008: early stopping\n"
          ]
        }
      ]
    },
    {
      "cell_type": "code",
      "metadata": {
        "id": "AdazGDUafZaw",
        "colab": {
          "base_uri": "https://localhost:8080/",
          "height": 482
        },
        "outputId": "8b8cc900-366d-484f-daf1-f26dd2bb36ba"
      },
      "source": [
        "import matplotlib.pyplot as plt\n",
        "fig, ax = plt.subplots(1,2, figsize=(16,8))\n",
        "ax[0].plot(history.history['loss'], color='b', label=\"Training loss\")\n",
        "ax[0].plot(history.history['val_loss'], color='r', label=\"validation loss\",axes =ax[0])\n",
        "legend = ax[0].legend(loc='best', shadow=True)\n",
        "\n",
        "ax[1].plot(history.history['accuracy'], color='b', label=\"Training accuracy\")\n",
        "ax[1].plot(history.history['val_accuracy'], color='r',label=\"Validation accuracy\")\n",
        "legend = ax[1].legend(loc='best', shadow=True)"
      ],
      "execution_count": 56,
      "outputs": [
        {
          "output_type": "display_data",
          "data": {
            "image/png": "[encoded data removed]",
            "text/plain": [
              "<Figure size 1152x576 with 2 Axes>"
            ]
          },
          "metadata": {
            "needs_background": "light"
          }
        }
      ]
    },
    {
      "cell_type": "code",
      "metadata": {
        "id": "vDyLi9uskiLe",
        "colab": {
          "base_uri": "https://localhost:8080/"
        },
        "outputId": "7a1a0bee-61dc-4d01-c6ab-23dcd54f0325"
      },
      "source": [
        "model = load_model('model.h5', custom_objects={'TokenAndPositionEmbedding': TokenAndPositionEmbedding, 'TransformerBlock': TransformerBlock })\n",
        "\n",
        "y_pred = model.predict(test_ds)\n",
        "y_pred = [1 if x >=0.5 else 0 for x in y_pred]\n",
        "print(classification_report(test_df['sentiment'], y_pred, target_names=['0','1']))"
      ],
      "execution_count": 57,
      "outputs": [
        {
          "output_type": "stream",
          "name": "stdout",
          "text": [
            "              precision    recall  f1-score   support\n",
            "\n",
            "           0       0.88      0.81      0.85       995\n",
            "           1       0.73      0.82      0.77       605\n",
            "\n",
            "    accuracy                           0.82      1600\n",
            "   macro avg       0.80      0.82      0.81      1600\n",
            "weighted avg       0.82      0.82      0.82      1600\n",
            "\n"
          ]
        }
      ]
    },
    {
      "cell_type": "code",
      "metadata": {
        "id": "MJFWQiidklMe"
      },
      "source": [
        ""
      ],
      "execution_count": 57,
      "outputs": []
    }
  ]
}